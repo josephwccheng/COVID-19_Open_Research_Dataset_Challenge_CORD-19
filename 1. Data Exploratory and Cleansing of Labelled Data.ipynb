{
 "cells": [
  {
   "cell_type": "markdown",
   "metadata": {},
   "source": [
    "# 1. Data Exploratory and Cleansing of Labelled Data\n",
    "**Prerequisite**: Please Download the CORD-19 Dataset at https://www.kaggle.com/allen-institute-for-ai/CORD-19-research-challenge/tasks?taskId=882\n",
    "<br> **File name**: 551982_1230614_bundle_archive\n",
    "<br>**Key files / folders used for the Project:**\n",
    "1.     **Meta data**                : metadata.csv\n",
    "2.     **Priority Questions files** : Kaggle -> target_tables -> 2_relevant_factors\n",
    "3.     **Research Paper Locations**    : document_parses -> pdf_json & pmc_json"
   ]
  },
  {
   "cell_type": "code",
   "execution_count": 16,
   "metadata": {},
   "outputs": [],
   "source": [
    "# Import and read Metadata\n",
    "import pandas as pd\n",
    "from matplotlib import pyplot as plt\n",
    "from os import listdir\n",
    "from os.path import isfile, join\n",
    "from os import listdir\n",
    "from tqdm import tqdm\n",
    "import numpy as np\n",
    "\n",
    "# Key Data Paths\n",
    "data_path = './551982_1230614_bundle_archive/'\n",
    "priority_question_path = data_path + '/Kaggle/target_tables/2_relevant_factors/'"
   ]
  },
  {
   "cell_type": "markdown",
   "metadata": {},
   "source": [
    "## 1.1. Metadata Analysis \n",
    "<br> Key Observations: there are lots of missing values even from the source json files. This means that the database is not up to date and some literatures might require exteral resources i.e. web scrapping to obtain the information.\n",
    "<br> This could Impact on whether we will be able to collect enough information from this dataset"
   ]
  },
  {
   "cell_type": "code",
   "execution_count": 17,
   "metadata": {},
   "outputs": [
    {
     "name": "stdout",
     "output_type": "stream",
     "text": [
      "Column names: Index(['cord_uid', 'sha', 'source_x', 'title', 'doi', 'pmcid', 'pubmed_id',\n",
      "       'license', 'abstract', 'publish_time', 'authors', 'journal', 'mag_id',\n",
      "       'who_covidence_id', 'arxiv_id', 'pdf_json_files', 'pmc_json_files',\n",
      "       'url', 's2_id'],\n",
      "      dtype='object')\n",
      "number of rows:  138794\n"
     ]
    },
    {
     "name": "stderr",
     "output_type": "stream",
     "text": [
      "C:\\ProgramData\\Anaconda3\\lib\\site-packages\\IPython\\core\\interactiveshell.py:3063: DtypeWarning: Columns (13,14) have mixed types.Specify dtype option on import or set low_memory=False.\n",
      "  interactivity=interactivity, compiler=compiler, result=result)\n"
     ]
    },
    {
     "data": {
      "text/html": [
       "<div>\n",
       "<style scoped>\n",
       "    .dataframe tbody tr th:only-of-type {\n",
       "        vertical-align: middle;\n",
       "    }\n",
       "\n",
       "    .dataframe tbody tr th {\n",
       "        vertical-align: top;\n",
       "    }\n",
       "\n",
       "    .dataframe thead th {\n",
       "        text-align: right;\n",
       "    }\n",
       "</style>\n",
       "<table border=\"1\" class=\"dataframe\">\n",
       "  <thead>\n",
       "    <tr style=\"text-align: right;\">\n",
       "      <th></th>\n",
       "      <th>cord_uid</th>\n",
       "      <th>sha</th>\n",
       "      <th>source_x</th>\n",
       "      <th>title</th>\n",
       "      <th>doi</th>\n",
       "      <th>pmcid</th>\n",
       "      <th>pubmed_id</th>\n",
       "      <th>license</th>\n",
       "      <th>abstract</th>\n",
       "      <th>publish_time</th>\n",
       "      <th>authors</th>\n",
       "      <th>journal</th>\n",
       "      <th>mag_id</th>\n",
       "      <th>who_covidence_id</th>\n",
       "      <th>arxiv_id</th>\n",
       "      <th>pdf_json_files</th>\n",
       "      <th>pmc_json_files</th>\n",
       "      <th>url</th>\n",
       "      <th>s2_id</th>\n",
       "    </tr>\n",
       "  </thead>\n",
       "  <tbody>\n",
       "    <tr>\n",
       "      <th>0</th>\n",
       "      <td>ug7v899j</td>\n",
       "      <td>d1aafb70c066a2068b02786f8929fd9c900897fb</td>\n",
       "      <td>PMC</td>\n",
       "      <td>Clinical features of culture-proven Mycoplasma...</td>\n",
       "      <td>10.1186/1471-2334-1-6</td>\n",
       "      <td>PMC35282</td>\n",
       "      <td>11472636.0</td>\n",
       "      <td>no-cc</td>\n",
       "      <td>OBJECTIVE: This retrospective chart review des...</td>\n",
       "      <td>2001-07-04</td>\n",
       "      <td>Madani, Tariq A; Al-Ghamdi, Aisha A</td>\n",
       "      <td>BMC Infect Dis</td>\n",
       "      <td>NaN</td>\n",
       "      <td>NaN</td>\n",
       "      <td>NaN</td>\n",
       "      <td>document_parses/pdf_json/d1aafb70c066a2068b027...</td>\n",
       "      <td>document_parses/pmc_json/PMC35282.xml.json</td>\n",
       "      <td>https://www.ncbi.nlm.nih.gov/pmc/articles/PMC3...</td>\n",
       "      <td>NaN</td>\n",
       "    </tr>\n",
       "    <tr>\n",
       "      <th>1</th>\n",
       "      <td>02tnwd4m</td>\n",
       "      <td>6b0567729c2143a66d737eb0a2f63f2dce2e5a7d</td>\n",
       "      <td>PMC</td>\n",
       "      <td>Nitric oxide: a pro-inflammatory mediator in l...</td>\n",
       "      <td>10.1186/rr14</td>\n",
       "      <td>PMC59543</td>\n",
       "      <td>11667967.0</td>\n",
       "      <td>no-cc</td>\n",
       "      <td>Inflammatory diseases of the respiratory tract...</td>\n",
       "      <td>2000-08-15</td>\n",
       "      <td>Vliet, Albert van der; Eiserich, Jason P; Cros...</td>\n",
       "      <td>Respir Res</td>\n",
       "      <td>NaN</td>\n",
       "      <td>NaN</td>\n",
       "      <td>NaN</td>\n",
       "      <td>document_parses/pdf_json/6b0567729c2143a66d737...</td>\n",
       "      <td>document_parses/pmc_json/PMC59543.xml.json</td>\n",
       "      <td>https://www.ncbi.nlm.nih.gov/pmc/articles/PMC5...</td>\n",
       "      <td>NaN</td>\n",
       "    </tr>\n",
       "    <tr>\n",
       "      <th>2</th>\n",
       "      <td>ejv2xln0</td>\n",
       "      <td>06ced00a5fc04215949aa72528f2eeaae1d58927</td>\n",
       "      <td>PMC</td>\n",
       "      <td>Surfactant protein-D and pulmonary host defense</td>\n",
       "      <td>10.1186/rr19</td>\n",
       "      <td>PMC59549</td>\n",
       "      <td>11667972.0</td>\n",
       "      <td>no-cc</td>\n",
       "      <td>Surfactant protein-D (SP-D) participates in th...</td>\n",
       "      <td>2000-08-25</td>\n",
       "      <td>Crouch, Erika C</td>\n",
       "      <td>Respir Res</td>\n",
       "      <td>NaN</td>\n",
       "      <td>NaN</td>\n",
       "      <td>NaN</td>\n",
       "      <td>document_parses/pdf_json/06ced00a5fc04215949aa...</td>\n",
       "      <td>document_parses/pmc_json/PMC59549.xml.json</td>\n",
       "      <td>https://www.ncbi.nlm.nih.gov/pmc/articles/PMC5...</td>\n",
       "      <td>NaN</td>\n",
       "    </tr>\n",
       "    <tr>\n",
       "      <th>3</th>\n",
       "      <td>2b73a28n</td>\n",
       "      <td>348055649b6b8cf2b9a376498df9bf41f7123605</td>\n",
       "      <td>PMC</td>\n",
       "      <td>Role of endothelin-1 in lung disease</td>\n",
       "      <td>10.1186/rr44</td>\n",
       "      <td>PMC59574</td>\n",
       "      <td>11686871.0</td>\n",
       "      <td>no-cc</td>\n",
       "      <td>Endothelin-1 (ET-1) is a 21 amino acid peptide...</td>\n",
       "      <td>2001-02-22</td>\n",
       "      <td>Fagan, Karen A; McMurtry, Ivan F; Rodman, David M</td>\n",
       "      <td>Respir Res</td>\n",
       "      <td>NaN</td>\n",
       "      <td>NaN</td>\n",
       "      <td>NaN</td>\n",
       "      <td>document_parses/pdf_json/348055649b6b8cf2b9a37...</td>\n",
       "      <td>document_parses/pmc_json/PMC59574.xml.json</td>\n",
       "      <td>https://www.ncbi.nlm.nih.gov/pmc/articles/PMC5...</td>\n",
       "      <td>NaN</td>\n",
       "    </tr>\n",
       "    <tr>\n",
       "      <th>4</th>\n",
       "      <td>9785vg6d</td>\n",
       "      <td>5f48792a5fa08bed9f56016f4981ae2ca6031b32</td>\n",
       "      <td>PMC</td>\n",
       "      <td>Gene expression in epithelial cells in respons...</td>\n",
       "      <td>10.1186/rr61</td>\n",
       "      <td>PMC59580</td>\n",
       "      <td>11686888.0</td>\n",
       "      <td>no-cc</td>\n",
       "      <td>Respiratory syncytial virus (RSV) and pneumoni...</td>\n",
       "      <td>2001-05-11</td>\n",
       "      <td>Domachowske, Joseph B; Bonville, Cynthia A; Ro...</td>\n",
       "      <td>Respir Res</td>\n",
       "      <td>NaN</td>\n",
       "      <td>NaN</td>\n",
       "      <td>NaN</td>\n",
       "      <td>document_parses/pdf_json/5f48792a5fa08bed9f560...</td>\n",
       "      <td>document_parses/pmc_json/PMC59580.xml.json</td>\n",
       "      <td>https://www.ncbi.nlm.nih.gov/pmc/articles/PMC5...</td>\n",
       "      <td>NaN</td>\n",
       "    </tr>\n",
       "  </tbody>\n",
       "</table>\n",
       "</div>"
      ],
      "text/plain": [
       "   cord_uid                                       sha source_x  \\\n",
       "0  ug7v899j  d1aafb70c066a2068b02786f8929fd9c900897fb      PMC   \n",
       "1  02tnwd4m  6b0567729c2143a66d737eb0a2f63f2dce2e5a7d      PMC   \n",
       "2  ejv2xln0  06ced00a5fc04215949aa72528f2eeaae1d58927      PMC   \n",
       "3  2b73a28n  348055649b6b8cf2b9a376498df9bf41f7123605      PMC   \n",
       "4  9785vg6d  5f48792a5fa08bed9f56016f4981ae2ca6031b32      PMC   \n",
       "\n",
       "                                               title                    doi  \\\n",
       "0  Clinical features of culture-proven Mycoplasma...  10.1186/1471-2334-1-6   \n",
       "1  Nitric oxide: a pro-inflammatory mediator in l...           10.1186/rr14   \n",
       "2    Surfactant protein-D and pulmonary host defense           10.1186/rr19   \n",
       "3               Role of endothelin-1 in lung disease           10.1186/rr44   \n",
       "4  Gene expression in epithelial cells in respons...           10.1186/rr61   \n",
       "\n",
       "      pmcid   pubmed_id license  \\\n",
       "0  PMC35282  11472636.0   no-cc   \n",
       "1  PMC59543  11667967.0   no-cc   \n",
       "2  PMC59549  11667972.0   no-cc   \n",
       "3  PMC59574  11686871.0   no-cc   \n",
       "4  PMC59580  11686888.0   no-cc   \n",
       "\n",
       "                                            abstract publish_time  \\\n",
       "0  OBJECTIVE: This retrospective chart review des...   2001-07-04   \n",
       "1  Inflammatory diseases of the respiratory tract...   2000-08-15   \n",
       "2  Surfactant protein-D (SP-D) participates in th...   2000-08-25   \n",
       "3  Endothelin-1 (ET-1) is a 21 amino acid peptide...   2001-02-22   \n",
       "4  Respiratory syncytial virus (RSV) and pneumoni...   2001-05-11   \n",
       "\n",
       "                                             authors         journal  mag_id  \\\n",
       "0                Madani, Tariq A; Al-Ghamdi, Aisha A  BMC Infect Dis     NaN   \n",
       "1  Vliet, Albert van der; Eiserich, Jason P; Cros...      Respir Res     NaN   \n",
       "2                                    Crouch, Erika C      Respir Res     NaN   \n",
       "3  Fagan, Karen A; McMurtry, Ivan F; Rodman, David M      Respir Res     NaN   \n",
       "4  Domachowske, Joseph B; Bonville, Cynthia A; Ro...      Respir Res     NaN   \n",
       "\n",
       "  who_covidence_id arxiv_id  \\\n",
       "0              NaN      NaN   \n",
       "1              NaN      NaN   \n",
       "2              NaN      NaN   \n",
       "3              NaN      NaN   \n",
       "4              NaN      NaN   \n",
       "\n",
       "                                      pdf_json_files  \\\n",
       "0  document_parses/pdf_json/d1aafb70c066a2068b027...   \n",
       "1  document_parses/pdf_json/6b0567729c2143a66d737...   \n",
       "2  document_parses/pdf_json/06ced00a5fc04215949aa...   \n",
       "3  document_parses/pdf_json/348055649b6b8cf2b9a37...   \n",
       "4  document_parses/pdf_json/5f48792a5fa08bed9f560...   \n",
       "\n",
       "                               pmc_json_files  \\\n",
       "0  document_parses/pmc_json/PMC35282.xml.json   \n",
       "1  document_parses/pmc_json/PMC59543.xml.json   \n",
       "2  document_parses/pmc_json/PMC59549.xml.json   \n",
       "3  document_parses/pmc_json/PMC59574.xml.json   \n",
       "4  document_parses/pmc_json/PMC59580.xml.json   \n",
       "\n",
       "                                                 url  s2_id  \n",
       "0  https://www.ncbi.nlm.nih.gov/pmc/articles/PMC3...    NaN  \n",
       "1  https://www.ncbi.nlm.nih.gov/pmc/articles/PMC5...    NaN  \n",
       "2  https://www.ncbi.nlm.nih.gov/pmc/articles/PMC5...    NaN  \n",
       "3  https://www.ncbi.nlm.nih.gov/pmc/articles/PMC5...    NaN  \n",
       "4  https://www.ncbi.nlm.nih.gov/pmc/articles/PMC5...    NaN  "
      ]
     },
     "execution_count": 17,
     "metadata": {},
     "output_type": "execute_result"
    }
   ],
   "source": [
    "# Loading the meta data and relative questions path\n",
    "\n",
    "meta_data=pd.read_csv(data_path + '/metadata.csv')\n",
    "print(\"Column names: {}\".format(meta_data.columns))\n",
    "print(\"number of rows: \", len(meta_data))\n",
    "meta_data.head(5)"
   ]
  },
  {
   "cell_type": "code",
   "execution_count": 18,
   "metadata": {},
   "outputs": [
    {
     "data": {
      "text/plain": [
       "<matplotlib.axes._subplots.AxesSubplot at 0x1ac31ab9ec8>"
      ]
     },
     "execution_count": 18,
     "metadata": {},
     "output_type": "execute_result"
    },
    {
     "data": {
      "image/png": "[encoded data removed]",
      "text/plain": [
       "<Figure size 1440x720 with 1 Axes>"
      ]
     },
     "metadata": {
      "needs_background": "light"
     },
     "output_type": "display_data"
    }
   ],
   "source": [
    "plt.figure(figsize=(20,10))\n",
    "na_analysis = meta_data.isna().sum()\n",
    "na_analysis.sort_values().plot(kind='bar', stacked=True, x = 'columns', y = 'count')"
   ]
  },
  {
   "cell_type": "markdown",
   "metadata": {},
   "source": [
    "## 1.2. Priority Question (Target_table) Analysis\n",
    "Key Observations: This is a One to many relationship between a priority question to the literatures.\n",
    "A literature can be referenced multiple times within a question.\n",
    "This observation provides us with the information that we will need to break down each document into sections"
   ]
  },
  {
   "cell_type": "code",
   "execution_count": 19,
   "metadata": {},
   "outputs": [
    {
     "name": "stdout",
     "output_type": "stream",
     "text": [
      "Column names: Index(['Date', 'Study', 'Study Link', 'Journal', 'Study Type', 'Factors',\n",
      "       'Influential', 'Excerpt', 'Measure of Evidence', 'Added on'],\n",
      "      dtype='object')\n",
      "number of rows:  69\n"
     ]
    },
    {
     "data": {
      "text/plain": [
       "(69, 10)"
      ]
     },
     "execution_count": 19,
     "metadata": {},
     "output_type": "execute_result"
    }
   ],
   "source": [
    "question_1 = 'Effectiveness of a multifactorial strategy to prevent secondary transmission.csv'\n",
    "priority_question_1 =pd.read_csv(priority_question_path + question_1,index_col=0)\n",
    "print(\"Column names: {}\".format(priority_question_1.columns))\n",
    "print(\"number of rows: \", len(priority_question_1))\n",
    "priority_question_1.head(10)\n",
    "priority_question_1.shape"
   ]
  },
  {
   "cell_type": "markdown",
   "metadata": {},
   "source": [
    "### 1.2.1 Matching between Metadata and Priority data\n",
    "key observation: Not all literatures referenced in Priority data is in the Metadata. We might need to acquire the literature from external sources"
   ]
  },
  {
   "cell_type": "code",
   "execution_count": 20,
   "metadata": {
    "scrolled": true
   },
   "outputs": [
    {
     "name": "stdout",
     "output_type": "stream",
     "text": [
      "percentage of matched list is 66 / 69\n"
     ]
    }
   ],
   "source": [
    "# Testing match between metadata and question 1\n",
    "match_list = []\n",
    "for index, row in priority_question_1.iterrows():\n",
    "    url_row = meta_data.loc[meta_data['url'] == row['Study Link']]['url'].any()\n",
    "    title_row = meta_data.loc[meta_data['title'] == row['Study']]['title'].any()\n",
    "    if url_row != False or title_row != False:\n",
    "        match_list.append(True)\n",
    "    else:\n",
    "        match_list.append(False)\n",
    "print(\"percentage of matched list is\", sum(match_list), \"/\", len(match_list))"
   ]
  },
  {
   "cell_type": "markdown",
   "metadata": {},
   "source": [
    "#### 1.2.1.1. Observation from above few observations can be made\n",
    "1. A literature can be repeated multiple times within each priority question - therefore the articles are segmented into sections for analysis\n",
    "2. matching meta data with question using both title and url as criteria -> if found then we will be able to identify the JSON within our database\n",
    "3. there is only one mismatch in priority_question1 that does not have the article within the database\n",
    "4. Number of rows for each topics are different - data imbalancing.\n"
   ]
  },
  {
   "cell_type": "code",
   "execution_count": 21,
   "metadata": {},
   "outputs": [
    {
     "name": "stdout",
     "output_type": "stream",
     "text": [
      "Duplicate Rows based on a single column are:\n",
      "          Date                                              Study  \\\n",
      "8   2020-05-01  Modeling serological testing to inform relaxat...   \n",
      "16  2020-04-21  Social interventions can lower COVID-19 deaths...   \n",
      "18  2020-04-20  Data Driven Modeling of Projected Mitigation a...   \n",
      "21  2020-04-14  A Stratified Model to Quantify the Effects of ...   \n",
      "34  2020-03-23  The Effectiveness of Social Distancing in Miti...   \n",
      "35  2020-03-23  The Effectiveness of Social Distancing in Miti...   \n",
      "36  2020-03-23  The Effectiveness of Social Distancing in Miti...   \n",
      "37  2020-03-23  The Effectiveness of Social Distancing in Miti...   \n",
      "38  2020-03-23  The Effectiveness of Social Distancing in Miti...   \n",
      "39  2020-03-23  The Effectiveness of Social Distancing in Miti...   \n",
      "40  2020-03-23  The Effectiveness of Social Distancing in Miti...   \n",
      "41  2020-03-23  The Effectiveness of Social Distancing in Miti...   \n",
      "42  2020-03-23  The Effectiveness of Social Distancing in Miti...   \n",
      "43  2020-03-23  The Effectiveness of Social Distancing in Miti...   \n",
      "47  2020-03-16  Impact of self-imposed prevention measures and...   \n",
      "50  2020-03-11  Modeling the epidemic dynamics and control of ...   \n",
      "51  2020-03-11  Modeling the epidemic dynamics and control of ...   \n",
      "52  2020-03-11  Modeling the epidemic dynamics and control of ...   \n",
      "53  2020-03-11  Modeling the epidemic dynamics and control of ...   \n",
      "54  2020-03-11  Modeling the epidemic dynamics and control of ...   \n",
      "55  2020-03-11  Modeling the epidemic dynamics and control of ...   \n",
      "64  2020-02-12  Simulating the infected population and spread ...   \n",
      "65  2020-02-12  Simulating the infected population and spread ...   \n",
      "66  2020-02-12  Simulating the infected population and spread ...   \n",
      "67  2020-02-12  Simulating the infected population and spread ...   \n",
      "\n",
      "                                           Study Link               Journal  \\\n",
      "8   http://medrxiv.org/cgi/content/short/2020.04.2...               MedRxiv   \n",
      "16  http://medrxiv.org/cgi/content/short/2020.04.1...               MedRxiv   \n",
      "18             https://arxiv.org/pdf/2004.09009v1.pdf                 ArXiv   \n",
      "21        https://doi.org/10.1101/2020.04.10.20060681               medRxiv   \n",
      "34        https://doi.org/10.1101/2020.03.20.20040055               medRxiv   \n",
      "35        https://doi.org/10.1101/2020.03.20.20040055               medRxiv   \n",
      "36        https://doi.org/10.1101/2020.03.20.20040055               medRxiv   \n",
      "37        https://doi.org/10.1101/2020.03.20.20040055               medRxiv   \n",
      "38        https://doi.org/10.1101/2020.03.20.20040055               medRxiv   \n",
      "39        https://doi.org/10.1101/2020.03.20.20040055               medRxiv   \n",
      "40        https://doi.org/10.1101/2020.03.20.20040055               medRxiv   \n",
      "41        https://doi.org/10.1101/2020.03.20.20040055               medRxiv   \n",
      "42        https://doi.org/10.1101/2020.03.20.20040055               medRxiv   \n",
      "43        https://doi.org/10.1101/2020.03.20.20040055               medRxiv   \n",
      "47        https://doi.org/10.1101/2020.03.12.20034827               medRxiv   \n",
      "50          https://doi.org/10.1007/s40484-020-0199-0  Quantitative Biology   \n",
      "51          https://doi.org/10.1007/s40484-020-0199-0  Quantitative Biology   \n",
      "52          https://doi.org/10.1007/s40484-020-0199-0  Quantitative Biology   \n",
      "53          https://doi.org/10.1007/s40484-020-0199-0  Quantitative Biology   \n",
      "54          https://doi.org/10.1007/s40484-020-0199-0  Quantitative Biology   \n",
      "55          https://doi.org/10.1007/s40484-020-0199-0  Quantitative Biology   \n",
      "64        https://doi.org/10.1101/2020.02.10.20021519               medRxiv   \n",
      "65        https://doi.org/10.1101/2020.02.10.20021519               medRxiv   \n",
      "66        https://doi.org/10.1101/2020.02.10.20021519               medRxiv   \n",
      "67        https://doi.org/10.1101/2020.02.10.20021519               medRxiv   \n",
      "\n",
      "        Study Type                                            Factors  \\\n",
      "8   Modeling Study                                  Social distancing   \n",
      "16  Modeling Study  social distance, work distance, and schools/un...   \n",
      "18        Modeling                           telework, school closure   \n",
      "21  Modeling Study  schools, offices, and companies closed : inter...   \n",
      "34  Modeling Study  school closures; case isolation; workplace non...   \n",
      "35  Modeling Study  school closures; case isolation; workplace non...   \n",
      "36  Modeling Study  school closures; case isolation; workplace non...   \n",
      "37  Modeling Study  school closures; case isolation; workplace non...   \n",
      "38  Modeling Study  school closures; case isolation; workplace non...   \n",
      "39  Modeling Study  school closures; case isolation; workplace non...   \n",
      "40  Modeling Study  school closures; case isolation; workplace non...   \n",
      "41  Modeling Study  school closures; case isolation; workplace non...   \n",
      "42  Modeling Study  school closures; case isolation; workplace non...   \n",
      "43  Modeling Study  school closures; case isolation; workplace non...   \n",
      "47  Modeling Study  Hand washing, mask wearing, self imposed socia...   \n",
      "50  Modeling Study     strict quarantine and traffic control measures   \n",
      "51  Modeling Study     strict quarantine and traffic control measures   \n",
      "52  Modeling Study     strict quarantine and traffic control measures   \n",
      "53  Modeling Study     strict quarantine and traffic control measures   \n",
      "54  Modeling Study     strict quarantine and traffic control measures   \n",
      "55  Modeling Study     strict quarantine and traffic control measures   \n",
      "64  Modeling Study  government quarantine prevention measures i.e....   \n",
      "65  Modeling Study  government quarantine prevention measures i.e....   \n",
      "66  Modeling Study  government quarantine prevention measures i.e....   \n",
      "67  Modeling Study  government quarantine prevention measures i.e....   \n",
      "\n",
      "   Influential                                            Excerpt  \\\n",
      "8            Y  Without any intervention, our model predicts t...   \n",
      "16           Y  -;Colombia would prevent up to 97% of COVID-19...   \n",
      "18           Y  The reference proportion of telework was fixed...   \n",
      "21           Y  uncontained: eventual removed ratio 65.29%; ma...   \n",
      "34           Y  1 week delay: SC + CI + 50% WN + 30% CCR: 1.11...   \n",
      "35           Y  2 week delay: SC + CI + 50% WN + 30% CCR: 1.15...   \n",
      "36           Y  3 week delay: SC + CI + 50% WN + 30% CCR: 1.21...   \n",
      "37           Y  4 week delay: SC + CI + 50% WN + 30% CCR: 1.34...   \n",
      "38           Y  5 week delay: SC + CI + 50% WN + 30% CCR: 1.61...   \n",
      "39           Y  6 week delay: SC + CI + 50% WN + 30% CCR: 2.11...   \n",
      "40           Y  7 week delay: SC + CI + 50% WN + 30% CCR: 2.87...   \n",
      "41           Y  8 week delay: SC + CI + 50% WN + 30% CCR: 4.33...   \n",
      "42           Y  9 week delay: SC + CI + 50% WN + 30% CCR: 6.49...   \n",
      "43           Y  10 week delay: SC + CI + 50% WN + 30% CCR: 9.5...   \n",
      "47           Y  The baseline model predicts 46 diagnoses per 1...   \n",
      "50           Y                           Ro =  5.934; Ro = 0.6079   \n",
      "51           Y                          Ro =  1.5283; Ro = 0.5753   \n",
      "52           Y                           Ro =  0.884; Ro = 0.5254   \n",
      "53           Y                         Ro =  3.6288; Ro =  0.5104   \n",
      "54           Y                           Ro = 1.2026; Ro = 0.5082   \n",
      "55           Y                           Ro =  5.934; Ro = 0.5331   \n",
      "64           Y  90% quarantined rate; Peak date: Feb 17th with...   \n",
      "65           Y  80% quarantined rate; Peak date: Feb 18th with...   \n",
      "66           Y  70% quarantined rate; Peak date: Feb 19th with...   \n",
      "67           Y  63% quarantined rate; Peak date: Feb 20th with...   \n",
      "\n",
      "                                  Measure of Evidence    Added on  \n",
      "8               Countries: United States; Timeline: -  05/30/2020  \n",
      "16           Countries: Columbia; Timeline: 10 months  05/28/2020  \n",
      "18                                   Countries: Ghana  05/31/2020  \n",
      "21  Countries: Iran Timeline: first 90 days COVID-...  04/19/2020  \n",
      "34  Countries: Australia; cities: Newcastle; Timel...  04/08/2020  \n",
      "35  Countries: Australia; cities: Newcastle; Timel...  04/08/2020  \n",
      "36  Countries: Australia; cities: Newcastle; Timel...  04/08/2020  \n",
      "37  Countries: Australia; cities: Newcastle; Timel...  04/08/2020  \n",
      "38  Countries: Australia; cities: Newcastle; Timel...  04/08/2020  \n",
      "39  Countries: Australia; cities: Newcastle; Timel...  04/08/2020  \n",
      "40  Countries: Australia; cities: Newcastle; Timel...  04/08/2020  \n",
      "41  Countries: Australia; cities: Newcastle; Timel...  04/08/2020  \n",
      "42  Countries: Australia; cities: Newcastle; Timel...  04/08/2020  \n",
      "43  Countries: Australia; cities: Newcastle; Timel...  04/08/2020  \n",
      "47                Countries: Netherlands; Timeline: -    05/27/20  \n",
      "50  Countries: China Hubei (excluding Wuhan), Chin...  04/11/2020  \n",
      "51  Countries: China mainland (excluding Hubei); T...  04/11/2020  \n",
      "52  Countries: China cities: Beijing; Timeline: Ja...  04/11/2020  \n",
      "53  Countries: China cities: Shanghai; Timeline: J...  04/11/2020  \n",
      "54  Countries: China cities: Guangzhou; Timeline: ...  04/11/2020  \n",
      "55  Countries: China cities: Shenzhen; Timeline: J...  04/11/2020  \n",
      "64  Countries: Mainland China; Timeline: Dec. 1, 2...  04/15/2020  \n",
      "65  Countries: Mainland China; Timeline: Dec. 1, 2...  04/15/2020  \n",
      "66  Countries: Mainland China; Timeline: Dec. 1, 2...  04/15/2020  \n",
      "67  Countries: Mainland China; Timeline: Dec. 1, 2...  04/15/2020  \n"
     ]
    }
   ],
   "source": [
    "# Testing the duplication relationship between priority question 1 and literatures\n",
    "duplicateRowsDF = priority_question_1[priority_question_1.duplicated(['Study'])]\n",
    "print(\"Duplicate Rows based on a single column are:\", duplicateRowsDF, sep='\\n')"
   ]
  },
  {
   "cell_type": "code",
   "execution_count": 22,
   "metadata": {},
   "outputs": [
    {
     "name": "stdout",
     "output_type": "stream",
     "text": [
      "Effectiveness of a multifactorial strategy to prevent secondary transmission.csv\n",
      "percentage of matched list is 66 / 69  =  0.9565217391304348\n",
      "Effectiveness of case isolation_isolation of exposed individuals to prevent secondary transmission.csv\n",
      "percentage of matched list is 58 / 59  =  0.9830508474576272\n",
      "Effectiveness of community contact reduction.csv\n",
      "percentage of matched list is 36 / 38  =  0.9473684210526315\n",
      "Effectiveness of inter_inner travel restriction.csv\n",
      "percentage of matched list is 22 / 24  =  0.9166666666666666\n",
      "Effectiveness of school distancing.csv\n",
      "percentage of matched list is 16 / 20  =  0.8\n",
      "Effectiveness of workplace distancing to prevent secondary transmission.csv\n",
      "percentage of matched list is 14 / 18  =  0.7777777777777778\n",
      "Evidence that domesticated_farm animals can be infected and maintain transmissibility of the disease.csv\n",
      "percentage of matched list is 54 / 75  =  0.72\n",
      "How does temperature and humidity affect the transmission of 2019-nCoV_.csv\n",
      "percentage of matched list is 57 / 67  =  0.8507462686567164\n",
      "Methods to understand and regulate the spread in communities.csv\n",
      "percentage of matched list is 9 / 18  =  0.5\n",
      "Seasonality of transmission.csv\n",
      "percentage of matched list is 84 / 100  =  0.84\n",
      "What is the likelihood of significant changes in transmissibility in changing seasons_.csv\n",
      "percentage of matched list is 49 / 59  =  0.8305084745762712\n"
     ]
    }
   ],
   "source": [
    "# Listing all the priority questions \n",
    "priority_question_list = [f for f in listdir(priority_question_path) if isfile(join(priority_question_path, f))]\n",
    "for question in priority_question_list:\n",
    "    match_list = []\n",
    "    priority_question_df = pd.read_csv(priority_question_path + question,index_col=0)\n",
    "    for index, row in priority_question_df.iterrows():\n",
    "        url_row = meta_data.loc[meta_data['url'] == row['Study Link']]['url'].any()\n",
    "        title_row = meta_data.loc[meta_data['title'] == row['Study']]['title'].any()\n",
    "        if url_row != False or title_row != False:\n",
    "            match_list.append(True)\n",
    "        else:\n",
    "            match_list.append(False)\n",
    "    print(question)\n",
    "    print(\"percentage of matched list is\", sum(match_list), \"/\", len(match_list), \" = \", sum(match_list)/len(match_list))"
   ]
  },
  {
   "cell_type": "markdown",
   "metadata": {},
   "source": [
    "### 1.2.2. Checking any N/As in the priority questions list\n",
    "From the observations below, there are some missing values for certain questions in Measure of Evidence"
   ]
  },
  {
   "cell_type": "code",
   "execution_count": 23,
   "metadata": {},
   "outputs": [
    {
     "name": "stdout",
     "output_type": "stream",
     "text": [
      "file name is:  Effectiveness of a multifactorial strategy to prevent secondary transmission.csv\n",
      "<class 'pandas.core.frame.DataFrame'>\n",
      "Int64Index: 69 entries, 0 to 68\n",
      "Data columns (total 10 columns):\n",
      " #   Column               Non-Null Count  Dtype \n",
      "---  ------               --------------  ----- \n",
      " 0   Date                 69 non-null     object\n",
      " 1   Study                69 non-null     object\n",
      " 2   Study Link           69 non-null     object\n",
      " 3   Journal              69 non-null     object\n",
      " 4   Study Type           69 non-null     object\n",
      " 5   Factors              69 non-null     object\n",
      " 6   Influential          69 non-null     object\n",
      " 7   Excerpt              69 non-null     object\n",
      " 8   Measure of Evidence  68 non-null     object\n",
      " 9   Added on             69 non-null     object\n",
      "dtypes: object(10)\n",
      "memory usage: 5.9+ KB\n",
      "file name is:  Effectiveness of case isolation_isolation of exposed individuals to prevent secondary transmission.csv\n",
      "<class 'pandas.core.frame.DataFrame'>\n",
      "Int64Index: 59 entries, 0 to 58\n",
      "Data columns (total 10 columns):\n",
      " #   Column               Non-Null Count  Dtype \n",
      "---  ------               --------------  ----- \n",
      " 0   Date                 59 non-null     object\n",
      " 1   Study                59 non-null     object\n",
      " 2   Study Link           59 non-null     object\n",
      " 3   Journal              59 non-null     object\n",
      " 4   Study Type           59 non-null     object\n",
      " 5   Factors              59 non-null     object\n",
      " 6   Influential          59 non-null     object\n",
      " 7   Excerpt              59 non-null     object\n",
      " 8   Measure of Evidence  54 non-null     object\n",
      " 9   Added on             59 non-null     object\n",
      "dtypes: object(10)\n",
      "memory usage: 5.1+ KB\n",
      "file name is:  Effectiveness of community contact reduction.csv\n",
      "<class 'pandas.core.frame.DataFrame'>\n",
      "Int64Index: 38 entries, 0 to 37\n",
      "Data columns (total 10 columns):\n",
      " #   Column               Non-Null Count  Dtype \n",
      "---  ------               --------------  ----- \n",
      " 0   Date                 38 non-null     object\n",
      " 1   Study                38 non-null     object\n",
      " 2   Study Link           38 non-null     object\n",
      " 3   Journal              38 non-null     object\n",
      " 4   Study Type           38 non-null     object\n",
      " 5   Factors              38 non-null     object\n",
      " 6   Influential          38 non-null     object\n",
      " 7   Excerpt              38 non-null     object\n",
      " 8   Measure of Evidence  38 non-null     object\n",
      " 9   Added on             38 non-null     object\n",
      "dtypes: object(10)\n",
      "memory usage: 3.3+ KB\n",
      "file name is:  Effectiveness of inter_inner travel restriction.csv\n",
      "<class 'pandas.core.frame.DataFrame'>\n",
      "Int64Index: 24 entries, 0 to 23\n",
      "Data columns (total 10 columns):\n",
      " #   Column               Non-Null Count  Dtype \n",
      "---  ------               --------------  ----- \n",
      " 0   Date                 24 non-null     object\n",
      " 1   Study                24 non-null     object\n",
      " 2   Study Link           24 non-null     object\n",
      " 3   Journal              24 non-null     object\n",
      " 4   Study Type           24 non-null     object\n",
      " 5   Factors              24 non-null     object\n",
      " 6   Influential          24 non-null     object\n",
      " 7   Excerpt              24 non-null     object\n",
      " 8   Measure of Evidence  24 non-null     object\n",
      " 9   Added on             24 non-null     object\n",
      "dtypes: object(10)\n",
      "memory usage: 2.1+ KB\n",
      "file name is:  Effectiveness of school distancing.csv\n",
      "<class 'pandas.core.frame.DataFrame'>\n",
      "Int64Index: 20 entries, 0 to 19\n",
      "Data columns (total 10 columns):\n",
      " #   Column               Non-Null Count  Dtype \n",
      "---  ------               --------------  ----- \n",
      " 0   Date                 20 non-null     object\n",
      " 1   Study                20 non-null     object\n",
      " 2   Study Link           20 non-null     object\n",
      " 3   Journal              20 non-null     object\n",
      " 4   Study Type           20 non-null     object\n",
      " 5   Factors              20 non-null     object\n",
      " 6   Influential          20 non-null     object\n",
      " 7   Excerpt              20 non-null     object\n",
      " 8   Measure of Evidence  20 non-null     object\n",
      " 9   Added on             20 non-null     object\n",
      "dtypes: object(10)\n",
      "memory usage: 1.7+ KB\n",
      "file name is:  Effectiveness of workplace distancing to prevent secondary transmission.csv\n",
      "<class 'pandas.core.frame.DataFrame'>\n",
      "Int64Index: 18 entries, 0 to 17\n",
      "Data columns (total 10 columns):\n",
      " #   Column               Non-Null Count  Dtype \n",
      "---  ------               --------------  ----- \n",
      " 0   Date                 18 non-null     object\n",
      " 1   Study                18 non-null     object\n",
      " 2   Study Link           18 non-null     object\n",
      " 3   Journal              18 non-null     object\n",
      " 4   Study Type           18 non-null     object\n",
      " 5   Factors              18 non-null     object\n",
      " 6   Influential          18 non-null     object\n",
      " 7   Excerpt              18 non-null     object\n",
      " 8   Measure of Evidence  18 non-null     object\n",
      " 9   Added on             18 non-null     object\n",
      "dtypes: object(10)\n",
      "memory usage: 1.5+ KB\n",
      "file name is:  Evidence that domesticated_farm animals can be infected and maintain transmissibility of the disease.csv\n",
      "<class 'pandas.core.frame.DataFrame'>\n",
      "Int64Index: 75 entries, 0 to 74\n",
      "Data columns (total 10 columns):\n",
      " #   Column               Non-Null Count  Dtype \n",
      "---  ------               --------------  ----- \n",
      " 0   Date                 75 non-null     object\n",
      " 1   Study                75 non-null     object\n",
      " 2   Study Link           75 non-null     object\n",
      " 3   Journal              75 non-null     object\n",
      " 4   Study Type           75 non-null     object\n",
      " 5   Factors              75 non-null     object\n",
      " 6   Infuential           75 non-null     object\n",
      " 7   Excerpt              75 non-null     object\n",
      " 8   Measure of Evidence  75 non-null     object\n",
      " 9   Added on             75 non-null     object\n",
      "dtypes: object(10)\n",
      "memory usage: 6.4+ KB\n",
      "file name is:  How does temperature and humidity affect the transmission of 2019-nCoV_.csv\n",
      "<class 'pandas.core.frame.DataFrame'>\n",
      "Int64Index: 67 entries, 0 to 66\n",
      "Data columns (total 10 columns):\n",
      " #   Column               Non-Null Count  Dtype \n",
      "---  ------               --------------  ----- \n",
      " 0   Date                 67 non-null     object\n",
      " 1   Study                67 non-null     object\n",
      " 2   Study Link           67 non-null     object\n",
      " 3   Journal              67 non-null     object\n",
      " 4   Study Type           67 non-null     object\n",
      " 5   Factors              67 non-null     object\n",
      " 6   Influential          67 non-null     object\n",
      " 7   Excerpt              67 non-null     object\n",
      " 8   Measure of Evidence  67 non-null     object\n",
      " 9   Added on             67 non-null     object\n",
      "dtypes: object(10)\n",
      "memory usage: 5.8+ KB\n",
      "file name is:  Methods to understand and regulate the spread in communities.csv\n",
      "<class 'pandas.core.frame.DataFrame'>\n",
      "Int64Index: 18 entries, 0 to 17\n",
      "Data columns (total 10 columns):\n",
      " #   Column               Non-Null Count  Dtype \n",
      "---  ------               --------------  ----- \n",
      " 0   Date Published       18 non-null     object\n",
      " 1   Study                18 non-null     object\n",
      " 2   Study Link           18 non-null     object\n",
      " 3   Journal              18 non-null     object\n",
      " 4   Study Type           18 non-null     object\n",
      " 5   Factors              18 non-null     object\n",
      " 6   Influential (Y/N)    18 non-null     object\n",
      " 7   Excerpt              18 non-null     object\n",
      " 8   Measure of Evidence  18 non-null     object\n",
      " 9   Added on             18 non-null     object\n",
      "dtypes: object(10)\n",
      "memory usage: 1.5+ KB\n",
      "file name is:  Seasonality of transmission.csv\n",
      "<class 'pandas.core.frame.DataFrame'>\n",
      "Int64Index: 100 entries, 0 to 99\n",
      "Data columns (total 10 columns):\n",
      " #   Column               Non-Null Count  Dtype \n",
      "---  ------               --------------  ----- \n",
      " 0   Date                 100 non-null    object\n",
      " 1   Study                100 non-null    object\n",
      " 2   Study Link           100 non-null    object\n",
      " 3   Journal              100 non-null    object\n",
      " 4   Study Type           100 non-null    object\n",
      " 5   Factors              100 non-null    object\n",
      " 6   Influential          100 non-null    object\n",
      " 7   Excerpt              100 non-null    object\n",
      " 8   Measure of Evidence  100 non-null    object\n",
      " 9   Added on             100 non-null    object\n",
      "dtypes: object(10)\n",
      "memory usage: 8.6+ KB\n",
      "file name is:  What is the likelihood of significant changes in transmissibility in changing seasons_.csv\n",
      "<class 'pandas.core.frame.DataFrame'>\n",
      "Int64Index: 59 entries, 0 to 58\n",
      "Data columns (total 10 columns):\n",
      " #   Column               Non-Null Count  Dtype \n",
      "---  ------               --------------  ----- \n",
      " 0   Date Published       59 non-null     object\n",
      " 1   Study                59 non-null     object\n",
      " 2   Study Link           59 non-null     object\n",
      " 3   Journal              59 non-null     object\n",
      " 4   Study Type           59 non-null     object\n",
      " 5   Factors Described    59 non-null     object\n",
      " 6   Influential          59 non-null     object\n",
      " 7   Excerpt              59 non-null     object\n",
      " 8   Measure of Evidence  59 non-null     object\n",
      " 9   Added on             59 non-null     object\n",
      "dtypes: object(10)\n",
      "memory usage: 5.1+ KB\n"
     ]
    }
   ],
   "source": [
    "# Checking the quality of the csv file for each questions\n",
    "for question in priority_question_list:\n",
    "    print(\"file name is: \",question)\n",
    "    priority_question_df = pd.read_csv(priority_question_path + question,index_col=0)\n",
    "    priority_question_df.info()"
   ]
  },
  {
   "cell_type": "markdown",
   "metadata": {},
   "source": [
    "## 1.3. Matching metadata and Priority question data by URL or the Title of the article\n",
    "Trying to find a match between the question file and the metadata to find whether the downloaded database contains the file, if not then web scraping might be required to obtain the information from the URL provided"
   ]
  },
  {
   "cell_type": "code",
   "execution_count": 24,
   "metadata": {},
   "outputs": [
    {
     "name": "stderr",
     "output_type": "stream",
     "text": [
      "\r",
      "  0%|                                                                                           | 0/11 [00:00<?, ?it/s]"
     ]
    },
    {
     "name": "stdout",
     "output_type": "stream",
     "text": [
      "file name is:  Effectiveness of a multifactorial strategy to prevent secondary transmission.csv\n"
     ]
    },
    {
     "name": "stderr",
     "output_type": "stream",
     "text": [
      "\r",
      "  9%|███████▌                                                                           | 1/11 [00:01<00:10,  1.07s/it]"
     ]
    },
    {
     "name": "stdout",
     "output_type": "stream",
     "text": [
      "file name is:  Effectiveness of case isolation_isolation of exposed individuals to prevent secondary transmission.csv\n"
     ]
    },
    {
     "name": "stderr",
     "output_type": "stream",
     "text": [
      "\r",
      " 18%|███████████████                                                                    | 2/11 [00:01<00:09,  1.02s/it]"
     ]
    },
    {
     "name": "stdout",
     "output_type": "stream",
     "text": [
      "file name is:  Effectiveness of community contact reduction.csv\n"
     ]
    },
    {
     "name": "stderr",
     "output_type": "stream",
     "text": [
      "\r",
      " 27%|██████████████████████▋                                                            | 3/11 [00:02<00:07,  1.12it/s]"
     ]
    },
    {
     "name": "stdout",
     "output_type": "stream",
     "text": [
      "file name is:  Effectiveness of inter_inner travel restriction.csv\n"
     ]
    },
    {
     "name": "stderr",
     "output_type": "stream",
     "text": [
      "\r",
      " 36%|██████████████████████████████▏                                                    | 4/11 [00:02<00:05,  1.36it/s]"
     ]
    },
    {
     "name": "stdout",
     "output_type": "stream",
     "text": [
      "file name is:  Effectiveness of school distancing.csv\n"
     ]
    },
    {
     "name": "stderr",
     "output_type": "stream",
     "text": [
      "\r",
      " 45%|█████████████████████████████████████▋                                             | 5/11 [00:03<00:03,  1.65it/s]"
     ]
    },
    {
     "name": "stdout",
     "output_type": "stream",
     "text": [
      "file name is:  Effectiveness of workplace distancing to prevent secondary transmission.csv\n"
     ]
    },
    {
     "name": "stderr",
     "output_type": "stream",
     "text": [
      "\r",
      " 55%|█████████████████████████████████████████████▎                                     | 6/11 [00:03<00:02,  1.97it/s]"
     ]
    },
    {
     "name": "stdout",
     "output_type": "stream",
     "text": [
      "file name is:  Evidence that domesticated_farm animals can be infected and maintain transmissibility of the disease.csv\n"
     ]
    },
    {
     "name": "stderr",
     "output_type": "stream",
     "text": [
      "\r",
      " 64%|████████████████████████████████████████████████████▊                              | 7/11 [00:04<00:02,  1.46it/s]"
     ]
    },
    {
     "name": "stdout",
     "output_type": "stream",
     "text": [
      "file name is:  How does temperature and humidity affect the transmission of 2019-nCoV_.csv\n"
     ]
    },
    {
     "name": "stderr",
     "output_type": "stream",
     "text": [
      "\r",
      " 73%|████████████████████████████████████████████████████████████▎                      | 8/11 [00:05<00:02,  1.28it/s]"
     ]
    },
    {
     "name": "stdout",
     "output_type": "stream",
     "text": [
      "file name is:  Methods to understand and regulate the spread in communities.csv\n"
     ]
    },
    {
     "name": "stderr",
     "output_type": "stream",
     "text": [
      "\r",
      " 82%|███████████████████████████████████████████████████████████████████▉               | 9/11 [00:05<00:01,  1.59it/s]"
     ]
    },
    {
     "name": "stdout",
     "output_type": "stream",
     "text": [
      "file name is:  Seasonality of transmission.csv\n"
     ]
    },
    {
     "name": "stderr",
     "output_type": "stream",
     "text": [
      "\r",
      " 91%|██████████████████████████████████████████████████████████████████████████▌       | 10/11 [00:07<00:00,  1.12it/s]"
     ]
    },
    {
     "name": "stdout",
     "output_type": "stream",
     "text": [
      "file name is:  What is the likelihood of significant changes in transmissibility in changing seasons_.csv\n"
     ]
    },
    {
     "name": "stderr",
     "output_type": "stream",
     "text": [
      "100%|██████████████████████████████████████████████████████████████████████████████████| 11/11 [00:08<00:00,  1.32it/s]\n"
     ]
    }
   ],
   "source": [
    "# Obtaining all files names from all priority_question list into one dataframe\n",
    "# Metadata -> We want pdf_json_files, pmc_json_files\n",
    "\n",
    "pdf_json_files_list = [];\n",
    "pmc_json_files_list = [];\n",
    "research_topic_list = [];\n",
    "topic_id_list = [];\n",
    "topic_id = 1\n",
    "combined_ques_literature = [];\n",
    "for question in tqdm(priority_question_list):\n",
    "    print(\"file name is: \",question)\n",
    "    priority_question_df = pd.read_csv(priority_question_path + question,index_col=0)\n",
    "    combined_ques_literature.append(priority_question_df)\n",
    "    for index, row in priority_question_df.iterrows():\n",
    "        # Match using URL or title\n",
    "        url_match_row = meta_data.loc[meta_data['url'] == row['Study Link']]\n",
    "        title_match_row = meta_data.loc[meta_data['title'] == row['Study']]\n",
    "        if not url_match_row.empty or not title_match_row.empty:\n",
    "            if not url_match_row.empty:\n",
    "                pdf_json_files_list.append(url_match_row['pdf_json_files'].values[0])\n",
    "                pmc_json_files_list.append(url_match_row['pmc_json_files'].values[0])\n",
    "            else:\n",
    "                pdf_json_files_list.append(title_match_row['pdf_json_files'].values[0])\n",
    "                pmc_json_files_list.append(title_match_row['pmc_json_files'].values[0])\n",
    "        else:\n",
    "            pdf_json_files_list.append(\" \")\n",
    "            pmc_json_files_list.append(\" \")\n",
    "        topic_id_list.append(topic_id)\n",
    "        research_topic_list.append(question.split('.')[0])\n",
    "    topic_id = topic_id + 1\n",
    "\n",
    "# combining all datarfame into one big dataframe\n",
    "combined_ques_literature = pd.concat(combined_ques_literature);"
   ]
  },
  {
   "cell_type": "code",
   "execution_count": 25,
   "metadata": {},
   "outputs": [
    {
     "name": "stdout",
     "output_type": "stream",
     "text": [
      "547 547 547 547\n",
      "before adding columns:  (547, 14)\n",
      "Index(['Date', 'Study', 'Study Link', 'Journal', 'Study Type', 'Factors',\n",
      "       'Influential', 'Excerpt', 'Measure of Evidence', 'Added on',\n",
      "       'Infuential', 'Date Published', 'Influential (Y/N)',\n",
      "       'Factors Described'],\n",
      "      dtype='object')\n",
      "after adding columns:  (547, 18)\n"
     ]
    }
   ],
   "source": [
    "# Checking if previous result provides the correct dimension for the output\n",
    "print(len(topic_id_list), len(pmc_json_files_list), len(pdf_json_files_list), len(research_topic_list))\n",
    "print(\"before adding columns: \", combined_ques_literature.shape)\n",
    "print(combined_ques_literature.columns)\n",
    "combined_ques_literature.insert(1, \"topic_id\", topic_id_list, True)\n",
    "combined_ques_literature.insert(2, \"research_topic\", research_topic_list, True)\n",
    "combined_ques_literature.insert(3, \"pdf_json_files\", pdf_json_files_list, True)\n",
    "combined_ques_literature.insert(4, \"pmc_json_files\", pmc_json_files_list, True)\n",
    "\n",
    "print(\"after adding columns: \", combined_ques_literature.shape)"
   ]
  },
  {
   "cell_type": "markdown",
   "metadata": {},
   "source": [
    "### 1.3.1. Observation on merging metadata and priority questions\n",
    "Based on observations:\n",
    "1. the tables within priority questions are inconsistent with each other -> i.e. the columns are referring to the same thing\n",
    "Factors, Factors Described\n",
    "Influential,Infuential,Influential (Y/N)\n",
    "\n",
    "<br> Hence, next step would be to perform some cleaning to merge the duplicated rows "
   ]
  },
  {
   "cell_type": "code",
   "execution_count": 26,
   "metadata": {},
   "outputs": [
    {
     "name": "stdout",
     "output_type": "stream",
     "text": [
      "<class 'pandas.core.frame.DataFrame'>\n",
      "Int64Index: 547 entries, 0 to 58\n",
      "Data columns (total 3 columns):\n",
      " #   Column             Non-Null Count  Dtype \n",
      "---  ------             --------------  ----- \n",
      " 0   Influential        454 non-null    object\n",
      " 1   Infuential         75 non-null     object\n",
      " 2   Influential (Y/N)  18 non-null     object\n",
      "dtypes: object(3)\n",
      "memory usage: 17.1+ KB\n",
      "<class 'pandas.core.frame.DataFrame'>\n",
      "Int64Index: 547 entries, 0 to 58\n",
      "Data columns (total 2 columns):\n",
      " #   Column             Non-Null Count  Dtype \n",
      "---  ------             --------------  ----- \n",
      " 0   Factors            488 non-null    object\n",
      " 1   Factors Described  59 non-null     object\n",
      "dtypes: object(2)\n",
      "memory usage: 12.8+ KB\n",
      "<class 'pandas.core.frame.DataFrame'>\n",
      "Int64Index: 547 entries, 0 to 58\n",
      "Data columns (total 2 columns):\n",
      " #   Column          Non-Null Count  Dtype \n",
      "---  ------          --------------  ----- \n",
      " 0   Date            470 non-null    object\n",
      " 1   Date Published  77 non-null     object\n",
      "dtypes: object(2)\n",
      "memory usage: 12.8+ KB\n"
     ]
    }
   ],
   "source": [
    "combined_ques_literature[['Influential','Infuential','Influential (Y/N)']].info()\n",
    "combined_ques_literature[['Factors', 'Factors Described']].info()\n",
    "combined_ques_literature[['Date', 'Date Published']].info()"
   ]
  },
  {
   "cell_type": "markdown",
   "metadata": {},
   "source": [
    "### 1.3.2. Observation on Duplicated Rows\n",
    "Merging the Influential columns together will yield a complete 547 rows of non- null values. which is good. Same Approach will be peformed for observations"
   ]
  },
  {
   "cell_type": "code",
   "execution_count": 27,
   "metadata": {},
   "outputs": [],
   "source": [
    "combined_ques_literature['Influential'] = combined_ques_literature['Influential'].fillna(combined_ques_literature['Infuential'])\n",
    "combined_ques_literature['Influential'] = combined_ques_literature['Influential'].fillna(combined_ques_literature['Influential (Y/N)'])            \n",
    "combined_ques_literature['Factors'] = combined_ques_literature['Factors'].fillna(combined_ques_literature['Factors Described'])\n",
    "combined_ques_literature['Date'] = combined_ques_literature['Date'].fillna(combined_ques_literature['Date Published'])\n",
    "combined_ques_literature = combined_ques_literature.drop(['Infuential', 'Influential (Y/N)', 'Factors Described', 'Date Published'], axis=1)"
   ]
  },
  {
   "cell_type": "code",
   "execution_count": 28,
   "metadata": {},
   "outputs": [
    {
     "name": "stdout",
     "output_type": "stream",
     "text": [
      "<class 'pandas.core.frame.DataFrame'>\n",
      "Int64Index: 547 entries, 0 to 58\n",
      "Data columns (total 14 columns):\n",
      " #   Column               Non-Null Count  Dtype \n",
      "---  ------               --------------  ----- \n",
      " 0   Date                 547 non-null    object\n",
      " 1   topic_id             547 non-null    int64 \n",
      " 2   research_topic       547 non-null    object\n",
      " 3   pdf_json_files       482 non-null    object\n",
      " 4   pmc_json_files       158 non-null    object\n",
      " 5   Study                547 non-null    object\n",
      " 6   Study Link           547 non-null    object\n",
      " 7   Journal              547 non-null    object\n",
      " 8   Study Type           547 non-null    object\n",
      " 9   Factors              547 non-null    object\n",
      " 10  Influential          547 non-null    object\n",
      " 11  Excerpt              547 non-null    object\n",
      " 12  Measure of Evidence  541 non-null    object\n",
      " 13  Added on             547 non-null    object\n",
      "dtypes: int64(1), object(13)\n",
      "memory usage: 64.1+ KB\n",
      "None\n"
     ]
    }
   ],
   "source": [
    "print(combined_ques_literature.info())"
   ]
  },
  {
   "cell_type": "markdown",
   "metadata": {},
   "source": [
    "### 1.4. Scoping and finalising the Categorisation the data\n",
    "Since Not all rows contains the literature within the database, we will remove the labelled data for ones that does not have data in pdf_json_files. This is to simplify this solution for the purpose of machine learning\n",
    "This can potentially be future work to develop a methodology for web scrapping techniques to obtain the literature from external sources outside CORD-19"
   ]
  },
  {
   "cell_type": "code",
   "execution_count": 29,
   "metadata": {},
   "outputs": [
    {
     "name": "stdout",
     "output_type": "stream",
     "text": [
      "<class 'pandas.core.frame.DataFrame'>\n",
      "Int64Index: 400 entries, 1 to 58\n",
      "Data columns (total 14 columns):\n",
      " #   Column               Non-Null Count  Dtype \n",
      "---  ------               --------------  ----- \n",
      " 0   Date                 400 non-null    object\n",
      " 1   topic_id             400 non-null    int64 \n",
      " 2   research_topic       400 non-null    object\n",
      " 3   pdf_json_files       400 non-null    object\n",
      " 4   pmc_json_files       75 non-null     object\n",
      " 5   Study                400 non-null    object\n",
      " 6   Study Link           400 non-null    object\n",
      " 7   Journal              400 non-null    object\n",
      " 8   Study Type           400 non-null    object\n",
      " 9   Factors              400 non-null    object\n",
      " 10  Influential          400 non-null    object\n",
      " 11  Excerpt              400 non-null    object\n",
      " 12  Measure of Evidence  394 non-null    object\n",
      " 13  Added on             400 non-null    object\n",
      "dtypes: int64(1), object(13)\n",
      "memory usage: 46.9+ KB\n"
     ]
    }
   ],
   "source": [
    "# Drop all the na and spaces on the pdf_json_file to make sure all labelled data is linked to a literature stored in database\n",
    "\n",
    "scoped_categorised_literature = combined_ques_literature.dropna(subset=['pdf_json_files'])\n",
    "scoped_categorised_literature = scoped_categorised_literature[~scoped_categorised_literature['pdf_json_files'].str.isspace()] \n",
    "scoped_categorised_literature.info()"
   ]
  },
  {
   "cell_type": "markdown",
   "metadata": {},
   "source": [
    "### 1.5. Exporting the cleansed and mapped data into a pickle file"
   ]
  },
  {
   "cell_type": "code",
   "execution_count": 30,
   "metadata": {},
   "outputs": [],
   "source": [
    "scoped_categorised_literature.to_pickle(\"./1_scoped_cat_lit.pkl\")"
   ]
  },
  {
   "cell_type": "code",
   "execution_count": null,
   "metadata": {},
   "outputs": [],
   "source": []
  }
 ],
 "metadata": {
  "kernelspec": {
   "display_name": "Python 3",
   "language": "python",
   "name": "python3"
  },
  "language_info": {
   "codemirror_mode": {
    "name": "ipython",
    "version": 3
   },
   "file_extension": ".py",
   "mimetype": "text/x-python",
   "name": "python",
   "nbconvert_exporter": "python",
   "pygments_lexer": "ipython3",
   "version": "3.7.6"
  }
 },
 "nbformat": 4,
 "nbformat_minor": 4
}
