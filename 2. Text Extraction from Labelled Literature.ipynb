{
 "cells": [
  {
   "cell_type": "markdown",
   "metadata": {},
   "source": [
    "# 2. Text Extraction from Labelled Literature\n",
    "This section will be focusing on the key objectives:\n",
    "1. Read the Json file from the categorised data based on previous section with pickle file created - 1_scoped_cat_lit.pkl\n",
    "2. Break down the Json file into sections as it is mapped from priority questions table\n",
    "3. Begin performing Machine Learning preprocessing techniques such as vectorisation, bag of words, tfidf"
   ]
  },
  {
   "cell_type": "code",
   "execution_count": 33,
   "metadata": {},
   "outputs": [],
   "source": [
    "# Include Appropriate libraries\n",
    "import pandas as pd\n",
    "from matplotlib import pyplot as plt\n",
    "import json\n",
    "from tqdm import tqdm\n",
    "\n",
    "data_path = './551982_1230614_bundle_archive/'\n",
    "priority_question_path = data_path + '/Kaggle/target_tables/2_relevant_factors/'"
   ]
  },
  {
   "cell_type": "code",
   "execution_count": 34,
   "metadata": {},
   "outputs": [
    {
     "data": {
      "text/html": [
       "<div>\n",
       "<style scoped>\n",
       "    .dataframe tbody tr th:only-of-type {\n",
       "        vertical-align: middle;\n",
       "    }\n",
       "\n",
       "    .dataframe tbody tr th {\n",
       "        vertical-align: top;\n",
       "    }\n",
       "\n",
       "    .dataframe thead th {\n",
       "        text-align: right;\n",
       "    }\n",
       "</style>\n",
       "<table border=\"1\" class=\"dataframe\">\n",
       "  <thead>\n",
       "    <tr style=\"text-align: right;\">\n",
       "      <th></th>\n",
       "      <th>Date</th>\n",
       "      <th>topic_id</th>\n",
       "      <th>research_topic</th>\n",
       "      <th>pdf_json_files</th>\n",
       "      <th>pmc_json_files</th>\n",
       "      <th>Study</th>\n",
       "      <th>Study Link</th>\n",
       "      <th>Journal</th>\n",
       "      <th>Study Type</th>\n",
       "      <th>Factors</th>\n",
       "      <th>Influential</th>\n",
       "      <th>Excerpt</th>\n",
       "      <th>Measure of Evidence</th>\n",
       "      <th>Added on</th>\n",
       "    </tr>\n",
       "  </thead>\n",
       "  <tbody>\n",
       "    <tr>\n",
       "      <th>1</th>\n",
       "      <td>2020-05-15</td>\n",
       "      <td>1</td>\n",
       "      <td>Effectiveness of a multifactorial strategy to ...</td>\n",
       "      <td>document_parses/pdf_json/c2ad6f8432bf7732ec8d0...</td>\n",
       "      <td>NaN</td>\n",
       "      <td>A model for COVID-19 with isolation, quarantin...</td>\n",
       "      <td>https://arxiv.org/pdf/2005.07661v1.pdf</td>\n",
       "      <td>ArXiv</td>\n",
       "      <td>Modeling</td>\n",
       "      <td>lockdown, social contact restriction</td>\n",
       "      <td>Y</td>\n",
       "      <td>Comparing these four scenarios, we shall deduc...</td>\n",
       "      <td>Timeline: February 15th - May 6th</td>\n",
       "      <td>05/27/2020</td>\n",
       "    </tr>\n",
       "    <tr>\n",
       "      <th>2</th>\n",
       "      <td>2020-05-13</td>\n",
       "      <td>1</td>\n",
       "      <td>Effectiveness of a multifactorial strategy to ...</td>\n",
       "      <td>document_parses/pdf_json/f7ed51444c210f58c010f...</td>\n",
       "      <td>NaN</td>\n",
       "      <td>Modeling and forecasting of the COVID-19 pande...</td>\n",
       "      <td>https://arxiv.org/pdf/2005.07071v1.pdf</td>\n",
       "      <td>ArXiv</td>\n",
       "      <td>Modeling</td>\n",
       "      <td>quarantine, lockdown, social distancing, isola...</td>\n",
       "      <td>Y</td>\n",
       "      <td>Our study reveals that the strict control meas...</td>\n",
       "      <td>Countries: India and seventeen states of India...</td>\n",
       "      <td>05/27/2020</td>\n",
       "    </tr>\n",
       "    <tr>\n",
       "      <th>3</th>\n",
       "      <td>2020-05-09</td>\n",
       "      <td>1</td>\n",
       "      <td>Effectiveness of a multifactorial strategy to ...</td>\n",
       "      <td>document_parses/pdf_json/a6bfd3583719947b0790e...</td>\n",
       "      <td>document_parses/pmc_json/PMC7210464.xml.json</td>\n",
       "      <td>Impacts of social and economic factors on the ...</td>\n",
       "      <td>https://doi.org/10.1007/s00148-020-00778-2</td>\n",
       "      <td>J Popul Econ</td>\n",
       "      <td>Modeling</td>\n",
       "      <td>public health measures (social distancing, man...</td>\n",
       "      <td>Y</td>\n",
       "      <td>We then compare the transmission rates in diff...</td>\n",
       "      <td>Countries: China; Timeline: January 19 - Febru...</td>\n",
       "      <td>05/31/2020</td>\n",
       "    </tr>\n",
       "    <tr>\n",
       "      <th>4</th>\n",
       "      <td>2020-05-08</td>\n",
       "      <td>1</td>\n",
       "      <td>Effectiveness of a multifactorial strategy to ...</td>\n",
       "      <td>document_parses/pdf_json/9f1421f795084d05cda18...</td>\n",
       "      <td>document_parses/pmc_json/PMC7205920.xml.json</td>\n",
       "      <td>A multi-region discrete time mathematical mode...</td>\n",
       "      <td>https://doi.org/10.1007/s12190-020-01354-3</td>\n",
       "      <td>J Appl Math Comput</td>\n",
       "      <td>Modeling</td>\n",
       "      <td>protecting susceptible individuals, preventing...</td>\n",
       "      <td>Y</td>\n",
       "      <td>Figure 10 shows that the number of the exposed...</td>\n",
       "      <td>-</td>\n",
       "      <td>05/28/2020</td>\n",
       "    </tr>\n",
       "    <tr>\n",
       "      <th>5</th>\n",
       "      <td>2020-05-06</td>\n",
       "      <td>1</td>\n",
       "      <td>Effectiveness of a multifactorial strategy to ...</td>\n",
       "      <td>document_parses/pdf_json/6e80241c8b6547c944ca0...</td>\n",
       "      <td>NaN</td>\n",
       "      <td>Now casting and Forecasting of COVID-19 outbre...</td>\n",
       "      <td>http://medrxiv.org/cgi/content/short/2020.05.0...</td>\n",
       "      <td>MedRxiv</td>\n",
       "      <td>Modeling Study</td>\n",
       "      <td>case isolation</td>\n",
       "      <td>Y</td>\n",
       "      <td>Lockdown showed highest reduction (28%) in num...</td>\n",
       "      <td>Countries: India; Timeline: -</td>\n",
       "      <td>05/30/2020</td>\n",
       "    </tr>\n",
       "  </tbody>\n",
       "</table>\n",
       "</div>"
      ],
      "text/plain": [
       "         Date  topic_id                                     research_topic  \\\n",
       "1  2020-05-15         1  Effectiveness of a multifactorial strategy to ...   \n",
       "2  2020-05-13         1  Effectiveness of a multifactorial strategy to ...   \n",
       "3  2020-05-09         1  Effectiveness of a multifactorial strategy to ...   \n",
       "4  2020-05-08         1  Effectiveness of a multifactorial strategy to ...   \n",
       "5  2020-05-06         1  Effectiveness of a multifactorial strategy to ...   \n",
       "\n",
       "                                      pdf_json_files  \\\n",
       "1  document_parses/pdf_json/c2ad6f8432bf7732ec8d0...   \n",
       "2  document_parses/pdf_json/f7ed51444c210f58c010f...   \n",
       "3  document_parses/pdf_json/a6bfd3583719947b0790e...   \n",
       "4  document_parses/pdf_json/9f1421f795084d05cda18...   \n",
       "5  document_parses/pdf_json/6e80241c8b6547c944ca0...   \n",
       "\n",
       "                                 pmc_json_files  \\\n",
       "1                                           NaN   \n",
       "2                                           NaN   \n",
       "3  document_parses/pmc_json/PMC7210464.xml.json   \n",
       "4  document_parses/pmc_json/PMC7205920.xml.json   \n",
       "5                                           NaN   \n",
       "\n",
       "                                               Study  \\\n",
       "1  A model for COVID-19 with isolation, quarantin...   \n",
       "2  Modeling and forecasting of the COVID-19 pande...   \n",
       "3  Impacts of social and economic factors on the ...   \n",
       "4  A multi-region discrete time mathematical mode...   \n",
       "5  Now casting and Forecasting of COVID-19 outbre...   \n",
       "\n",
       "                                          Study Link             Journal  \\\n",
       "1             https://arxiv.org/pdf/2005.07661v1.pdf               ArXiv   \n",
       "2             https://arxiv.org/pdf/2005.07071v1.pdf               ArXiv   \n",
       "3         https://doi.org/10.1007/s00148-020-00778-2        J Popul Econ   \n",
       "4         https://doi.org/10.1007/s12190-020-01354-3  J Appl Math Comput   \n",
       "5  http://medrxiv.org/cgi/content/short/2020.05.0...             MedRxiv   \n",
       "\n",
       "       Study Type                                            Factors  \\\n",
       "1        Modeling               lockdown, social contact restriction   \n",
       "2        Modeling  quarantine, lockdown, social distancing, isola...   \n",
       "3        Modeling  public health measures (social distancing, man...   \n",
       "4        Modeling  protecting susceptible individuals, preventing...   \n",
       "5  Modeling Study                                     case isolation   \n",
       "\n",
       "  Influential                                            Excerpt  \\\n",
       "1           Y  Comparing these four scenarios, we shall deduc...   \n",
       "2           Y  Our study reveals that the strict control meas...   \n",
       "3           Y  We then compare the transmission rates in diff...   \n",
       "4           Y  Figure 10 shows that the number of the exposed...   \n",
       "5           Y  Lockdown showed highest reduction (28%) in num...   \n",
       "\n",
       "                                 Measure of Evidence    Added on  \n",
       "1                  Timeline: February 15th - May 6th  05/27/2020  \n",
       "2  Countries: India and seventeen states of India...  05/27/2020  \n",
       "3  Countries: China; Timeline: January 19 - Febru...  05/31/2020  \n",
       "4                                                  -  05/28/2020  \n",
       "5                      Countries: India; Timeline: -  05/30/2020  "
      ]
     },
     "execution_count": 34,
     "metadata": {},
     "output_type": "execute_result"
    }
   ],
   "source": [
    "# Reading the pickle file generated by secion 1\n",
    "scoped_categorised_literature = pd.read_pickle(\"./1_scoped_cat_lit.pkl\")\n",
    "scoped_categorised_literature.head(5)"
   ]
  },
  {
   "cell_type": "markdown",
   "metadata": {},
   "source": [
    "## 2.1. Observation - There's an in-balance of lablled data for different classes\n"
   ]
  },
  {
   "cell_type": "code",
   "execution_count": 36,
   "metadata": {},
   "outputs": [
    {
     "data": {
      "text/plain": [
       "Text(0, 0.5, 'Counts')"
      ]
     },
     "execution_count": 36,
     "metadata": {},
     "output_type": "execute_result"
    },
    {
     "data": {
      "image/png": "[encoded data removed]",
      "text/plain": [
       "<Figure size 432x288 with 1 Axes>"
      ]
     },
     "metadata": {
      "needs_background": "light"
     },
     "output_type": "display_data"
    }
   ],
   "source": [
    "scoped_categorised_literature['topic_id'].plot.hist(grid=True, bins=11)\n",
    "plt.title('Frequency of priority questions labelled')\n",
    "plt.xlabel('topic id')\n",
    "plt.ylabel('Counts')"
   ]
  },
  {
   "cell_type": "markdown",
   "metadata": {},
   "source": [
    "## 2.2. Reading in the JSON file"
   ]
  },
  {
   "cell_type": "code",
   "execution_count": 37,
   "metadata": {},
   "outputs": [
    {
     "name": "stdout",
     "output_type": "stream",
     "text": [
      "document_parses/pdf_json/c2ad6f8432bf7732ec8d0fd32bfc07119bc20571.json\n"
     ]
    }
   ],
   "source": [
    "# Testing with first JSOn file\n",
    "\n",
    "json_path = scoped_categorised_literature.iloc[0]['pdf_json_files']\n",
    "json_data = {}\n",
    "with open(data_path + json_path) as f:\n",
    "  json_data = json.load(f)\n",
    "print(json_path)"
   ]
  },
  {
   "cell_type": "code",
   "execution_count": 38,
   "metadata": {},
   "outputs": [
    {
     "name": "stdout",
     "output_type": "stream",
     "text": [
      "Date                                                          2020-05-15\n",
      "topic_id                                                               1\n",
      "research_topic         Effectiveness of a multifactorial strategy to ...\n",
      "pdf_json_files         document_parses/pdf_json/c2ad6f8432bf7732ec8d0...\n",
      "pmc_json_files                                                       NaN\n",
      "Study                  A model for COVID-19 with isolation, quarantin...\n",
      "Study Link                        https://arxiv.org/pdf/2005.07661v1.pdf\n",
      "Journal                                                            ArXiv\n",
      "Study Type                                                      Modeling\n",
      "Factors                             lockdown, social contact restriction\n",
      "Influential                                                            Y\n",
      "Excerpt                Comparing these four scenarios, we shall deduc...\n",
      "Measure of Evidence                    Timeline: February 15th - May 6th\n",
      "Added on                                                      05/27/2020\n",
      "Name: 1, dtype: object\n"
     ]
    }
   ],
   "source": [
    "print(scoped_categorised_literature.iloc[0])"
   ]
  },
  {
   "cell_type": "code",
   "execution_count": 39,
   "metadata": {},
   "outputs": [
    {
     "data": {
      "text/plain": [
       "'We then compare the transmission rates in different time windows. In the first sub-sample, one new infection leads to 2.135 more cases within a week, implying a fast growth in the number of cases. However, in the second sub-sample, the effect decreases to 1.077, suggesting that public health measures imposed in late January were effective in limiting a further spread of the virus.'"
      ]
     },
     "execution_count": 39,
     "metadata": {},
     "output_type": "execute_result"
    }
   ],
   "source": [
    "scoped_categorised_literature.iloc[2]['Excerpt']"
   ]
  },
  {
   "cell_type": "markdown",
   "metadata": {},
   "source": [
    "## 2.3. Json schema\n",
    "Contains elements like metadata, bodytext , and many more"
   ]
  },
  {
   "cell_type": "code",
   "execution_count": 40,
   "metadata": {},
   "outputs": [
    {
     "name": "stdout",
     "output_type": "stream",
     "text": [
      "{'paper_id': 'c2ad6f8432bf7732ec8d0fd32bfc07119bc20571', 'metadata': {'title': 'A model for COVID-19 with isolation, quarantine and testing as control measures', 'authors': [{'first': 'M', 'middle': ['S'], 'last': 'Aronna', 'suffix': '', 'affiliation': {'laboratory': '', 'institution': 'FGV EMAp -Rio de Janeiro', 'location': {'country': 'Brazil'}}, 'email': ''}, {'first': 'R', 'middle': [], 'last': 'Guglielmi', 'suffix': '', 'affiliation': {'laboratory': '', 'institution': 'FGV EMAp -Rio de Janeiro', 'location': {'country': 'Brazil'}}, 'email': ''}, {'first': 'L', 'middle': ['M'], 'last': 'Moschen', 'suffix': '', 'affiliation': {'laboratory': '', 'institution': 'FGV EMAp -Rio de Janeiro', 'location': {'country': 'Brazil'}}, 'email': ''}]}, 'abstract': [{'text': 'In this article we propose a compartmental model for the dynamics of Coronavirus Disease 2019 . We take into account the presence of asymptomatic infections and the main policies that have been adopted so far to contain the epidemic: isolation (or social distancing) of a portion of the population, quarantine for confirmed cases and testing. We model isolation by separating the population in two groups: one composed by key-workers that keep working during the pandemic and have a usual contact rate, and a second group consisting of people that are enforced/recommended to stay at home. We refer to quarantine as strict isolation, and it is applied to confirmed infected cases.', 'cite_spans': [], 'ref_spans': [], 'section': 'Abstract'}, {'text': 'In the proposed model, the proportion of people in isolation, the level of contact reduction and the testing rate are control parameters that can vary in time, representing policies that evolve in different stages. We obtain an explicit expression for the basic reproduction number R 0 in terms of the parameters of the disease and of the control policies. In this way we can quantify the effect that isolation and testing have in the evolution of the epidemic. We present a series of simulations to illustrate different realistic scenarios. From the expression of R 0 and the simulations we conclude that isolation (social distancing) and testing among asymptomatic cases are fundamental actions to control the epidemic, and the stricter these measures are and the sooner they are implemented, the more lives can be saved. Additionally, we show that people that remain in isolation significantly reduce their probability of contagion, so risk groups should be recommended to maintain a low contact rate during the course of the epidemic.', 'cite_spans': [], 'ref_spans': [], 'section': 'Abstract'}], 'body_text': [{'text': 'In late December 2019, several cases of an unknown pneumonia were identified in the city of Wuhan, Hubei province, China [23] . Some doctors of Wuhan conjectured that it could be severe acute respiratory syndrome (SARS) cases [24] . Many of the found cases had visited or were related to the Huanan Seafood Wholesale Market. On 31 December 2019, the World Health Organization (WHO) China Country Office was informed of these cases of pneumonia detected in Wuhan City and, up to 3 January 2020, a total of 44 patients with this unknown pneumonia were reported to WHO [30] . In the beginning of January 2020 Chinese officials ruled out the hypothesis that the cases were of SARS [17] , and a few days later the cause was identified to be a new coronavirus that was named SARS-CoV-2. The name given to the infectious disease caused by SARS-CoV-2 is COVID-19.', 'cite_spans': [{'start': 121, 'end': 125, 'text': '[23]', 'ref_id': 'BIBREF22'}, {'start': 226, 'end': 230, 'text': '[24]', 'ref_id': 'BIBREF23'}, {'start': 566, 'end': 570, 'text': '[30]', 'ref_id': 'BIBREF29'}, {'start': 677, 'end': 681, 'text': '[17]', 'ref_id': 'BIBREF16'}], 'ref_spans': [], 'section': 'Introduction'}, {'text': 'The first death due to COVID-19 was reported on 9 January and it was a 61-year-old man in Wuhan [39] . After mid January infected cases were reported in Thailand, Japan, Republic of Korea, and other provinces in China [23] . On 22 January the Chinese authorities announced the quarantine of greater Wuhan. From that time on the virus rapidly spread in many Asiatic countries, reached Europe and the United States. On 28 February, with more than 80.000 confirmed cases and nearly 3.000 deaths globally, WHO increased the assessment of the risk of spread and risk of impact of COVID-19 to very high at the global level [26] . On 9 March 2020, with nearly 400 deaths, Italian government ordered the total lock-down of the national territory [27] . And a few days later, on March 11, WHO declared that COVID-19 was characterized as a pandemic [28] .', 'cite_spans': [{'start': 96, 'end': 100, 'text': '[39]', 'ref_id': 'BIBREF38'}, {'start': 218, 'end': 222, 'text': '[23]', 'ref_id': 'BIBREF22'}, {'start': 617, 'end': 621, 'text': '[26]', 'ref_id': 'BIBREF25'}, {'start': 738, 'end': 742, 'text': '[27]', 'ref_id': 'BIBREF26'}, {'start': 839, 'end': 843, 'text': '[28]', 'ref_id': 'BIBREF27'}], 'ref_spans': [], 'section': 'Introduction'}, {'text': 'In March 2020 several nations across the five continents closed their borders, declared forced isolation for the whole population except for essential workers and/or imposed strict measures of social distancing. Detailed information on the actions taken by each country can be found in the report [14] . At that time WHO recommended, apart from social distancing measures, that it was essential to test intensively [32] . The indications were to test every suspected case, to isolate till recovery any positive individual, and to track and test all contacts in the past two days of new confirmed cases.', 'cite_spans': [{'start': 297, 'end': 301, 'text': '[14]', 'ref_id': 'BIBREF13'}, {'start': 415, 'end': 419, 'text': '[32]', 'ref_id': 'BIBREF31'}], 'ref_spans': [], 'section': 'Introduction'}, {'text': 'The most common symptoms of COVID-19 are fever, cough and shortness of breath. Most of the cases result in mild or no symptoms, but some progress to viral pneumonia and multi-organ failure. At this moment, it is estimate that 1 out of 5 cases needs hospitalization [31] . It is yet difficult to estimate the mortality of this virus. Mortality depends on one side on early detection and appropriate treatment, but the rate itself can only be calculated if the real number of infected people is known. There is enough evidence to assure that a significant portion of the infections is asymptomatic [19, 22, 25] , which makes it difficult to detect them and thus to calculate the effective mortality of COVID-19. WHO, by March 2020, estimated a death rate of 3,4% worldwide [33] . But in some countries, as Italy, France, Spain and UK, the rate between deaths and confirmed cases up to May 2020 is higher than 10% [46] .', 'cite_spans': [{'start': 265, 'end': 269, 'text': '[31]', 'ref_id': 'BIBREF30'}, {'start': 596, 'end': 600, 'text': '[19,', 'ref_id': 'BIBREF18'}, {'start': 601, 'end': 604, 'text': '22,', 'ref_id': 'BIBREF21'}, {'start': 605, 'end': 608, 'text': '25]', 'ref_id': None}, {'start': 771, 'end': 775, 'text': '[33]', 'ref_id': 'BIBREF32'}, {'start': 911, 'end': 915, 'text': '[46]', 'ref_id': 'BIBREF45'}], 'ref_spans': [], 'section': 'Introduction'}, {'text': 'In this article we propose a compartmental model for the dynamics of COVID-19. We take into account the presence of asymptomatic infections, and also the main policies that have been adopted by several countries in the past months to fight this disease, these being: isolation, quarantine and testing. We model isolation by separating the population in two groups: one composed by keyworkers that keep working during the pandemic and having a usual contact rate, and the other group consisting of people that are enforced/recommended to stay at home. Certainly, in the group of people that maintain a high contact rate one can also include people that do not respect social distancing restrictions, that has lately shown to be significant in some countries. We refer to quarantine as strict isolation, and it is applied to confirmed infected cases. Testing is supposed to be applied to all symptomatic cases, and to a portion of the population selected using some of the criteria adopted by health organizations (see e.g. [9, 11] ). The idea to analyze the quantitative effects of non-pharmaceutical interventions, such as isolation and social distancing, on the evolution of the epidemic was inspired by the work [10] . For the proposed model, we obtain an expression for the basic reproduction number R 0 in terms of the parameters of the disease and of the control parameters. In this way we can quantify the effects that isolation and testing have on the epidemic. We exhibit a series of simulations to illustrate different realistic situations. We compare, in particular, different levels of isolation and testing. From the expression of R 0 and the simulations, we conclude that isolation (social distancing) and testing among asymptomatic cases are fundamental actions to control the epidemic, and the stricter these measures are and the sooner they are implemented, the more lives can be saved. Additionally, we show that people that remain in isolation significantly reduce their probability of contagion, so risk groups should be recommended to maintain a low contact rate during the course of the epidemic.', 'cite_spans': [{'start': 1022, 'end': 1025, 'text': '[9,', 'ref_id': 'BIBREF8'}, {'start': 1026, 'end': 1029, 'text': '11]', 'ref_id': 'BIBREF10'}, {'start': 1214, 'end': 1218, 'text': '[10]', 'ref_id': 'BIBREF9'}], 'ref_spans': [], 'section': 'Introduction'}, {'text': 'Several mathematical models for COVID-19 have appeared recently in the literature. At the time being, the flux of publications is very high, so it is difficult to keep track of everything that is being published. We next mention and describe some of the models more closely related to ours. In [3] they consider a simple model, with infected and reported infected compartments, and they assume that the transmission rate β is a function of a control u, this is β = β(u). They analyze feedback control strategies, where the control depends on the number of reported cases. In [8] they consider mild and severe cases, the latter having a reduced transmission rate since they are assumed to be in isolation. They use a time-dependent control c of reduction of contacts for the whole population, and optimize with respect to this control. An SEIR model with quarantine for suspected and infected cases cases is considered in [37] , and in [21] they take into account unreported cases, asymptomatic individuals and quarantine for identified cases.', 'cite_spans': [{'start': 294, 'end': 297, 'text': '[3]', 'ref_id': 'BIBREF2'}, {'start': 575, 'end': 578, 'text': '[8]', 'ref_id': 'BIBREF7'}, {'start': 921, 'end': 925, 'text': '[37]', 'ref_id': 'BIBREF36'}, {'start': 935, 'end': 939, 'text': '[21]', 'ref_id': 'BIBREF20'}], 'ref_spans': [], 'section': 'Introduction'}, {'text': 'The article is organized as follows. In Section 2 we introduce the model, and we discuss its structure. In Section 3 we show an expression of the basic reproduction number R 0 in terms of the parameters and we propose an equivalent threshold. Estimation of realistic parameters and numerical simulations are given in Section 4, while Section 5 is devoted to the conclusions and a description of possible continuations of this research. Finally, in the Appendix we include the analytical computations of the expression of R 0 and a sensitivity analysis with respect to the involved parameters.', 'cite_spans': [], 'ref_spans': [], 'section': 'Introduction'}, {'text': 'We set up a model to describe the spread of the virus SARS-CoV-2 through a susceptible population. Building upon a usual SEIR model, we obtain a more structured one, which is tailored on the current experience of the COVID-19 epidemic, and which also allows to convey the effects of the non-pharmaceutical intervention policies being adopted by several countries to face its outbreak.', 'cite_spans': [], 'ref_spans': [], 'section': 'The model description'}, {'text': 'First of all, we normalize to 1 the total population of N individuals, so that all the compartments (and their sub-compartments) introduced below represent the proportion of individuals of the total population in such compartment. We will assume the population remains constant over time (i.e., we neglect the natural birth and death rates). We start by splitting the population in the compartments listed in Table 1 .', 'cite_spans': [], 'ref_spans': [{'start': 409, 'end': 416, 'text': 'Table 1', 'ref_id': None}], 'section': 'The model description'}, {'text': 'Description S susceptible E exposed I infectious A asymptomatic and infectious Q infected in quarantine (including hospitalized) R recovered Table 1: List of aggregated compartments More specifically, the compartment S collects all the individuals that are susceptible to the virus. Once an individual from S gets exposed to the virus, moves to the compartment E. Let us point out that individuals in E, though already exposed to the virus, are not contagious yet. After a given latent time, an individual in E becomes infectious, and thus is allocated to the compartment I. At this stage, after a suitable time, the individual may either remain infectious but asymptomatic (or with mild symptoms), in which case moves to the compartment A, or may show clear symptoms onset, thus being tested and then quarantined either at home or at the hospital, and being assigned to the compartment Q. Finally, individuals in A and Q will eventually be removed from those compartments and will end up either in the compartment R after a recovery time or dead.', 'cite_spans': [], 'ref_spans': [{'start': 141, 'end': 181, 'text': 'Table 1: List of aggregated compartments', 'ref_id': None}], 'section': 'Compartment'}, {'text': 'We will assume that the fraction of asymptomatic individuals among all infected is given by a certain probability α ∈ (0, 1). It is intuitive that the presence of a relevant portion of asymptomatic infectious individuals plays a major role in the spread of the epidemic, as observed in the current outbreak [22, 25] . Indeed, an asymptomatic individual will maintain a high contact rate, and thus might infect more susceptible individuals with respect to an infectious individual with symptoms that is in quarantine. In our model, we always refer to the effective contact rate β, which is given by the product between the transmissibility ν (i.e., probability of infection given contact between a susceptible and infected individual), and the average rate of contact c between susceptible and infected individuals. In Tables 2 and 3 we list all the parameters of the model and their description.', 'cite_spans': [{'start': 307, 'end': 311, 'text': '[22,', 'ref_id': 'BIBREF21'}, {'start': 312, 'end': 315, 'text': '25]', 'ref_id': None}], 'ref_spans': [{'start': 818, 'end': 832, 'text': 'Tables 2 and 3', 'ref_id': 'TABREF0'}], 'section': 'Compartment'}, {'text': 'The model as described so far takes into account several characteristics of the pathogen and its spread in a susceptible population. We now want to add further structural features to the model in order to include the non-pharmaceutical interventions adopted by public policies to contain the epidemic. In particular, we assume the following conditions. i) A part p of the population is in isolation (either voluntarily, or as a result of public safety policies). The remaining 1−p of the population instead gathers all those so-called \"key workers\" (such as physicians and paramedicals, workers in logistics and distribution, food production, security, and others), that must continue with a regular activity, thus maintaining a large contact rate and being exposed to a higher risk of infection. We will generically refer to such 1−p part of population as the active population, as opposed to the population in isolation. In this group we can also include people that simply do not respect social distancing, and thus maintain a high contact rate. A situation like this has been observed in countries were monitoring was not strict and a significant percentage of the population did not respect isolation.', 'cite_spans': [], 'ref_spans': [], 'section': 'Compartment'}, {'text': 'ii) The fraction 1 − p of active population has an effective contact rate β, whereas the p part of population in isolation has a contact rate reduced by a factor r, thus its compound contact rate is rβ. We will therefore refer to such portion of the population as in r-isolation.', 'cite_spans': [], 'ref_spans': [], 'section': 'Compartment'}, {'text': 'iii) A centralized controller (such as the national health system) may intervene on the system by testing a portion of the population to check for the infectious pathogen. We assume the testing kit to be reliable, that is, we neglect the possibility of false positive/negative. As a rule, then, an individual from the compartment S will always test negative, an individual from I or A always positive, while an individual from E will result positive with a probability δ ∈ [0, 1]. In this way, even though the individuals in E are not contagious, we account for the possibility that they might result positive to the test, depending on the stage of development of the pathogen in that specific individual and to the efficacy of the testing kit.', 'cite_spans': [], 'ref_spans': [], 'section': 'Compartment'}, {'text': 'Let us notice that, in general, the effective contact rate β depends on a variety of factors, including the density of population in a given country/region. However, during a pandemic, even the effective contact rate of the individuals not in isolation may be reduced by increased awareness (for example, maintaining the social distancing), or by respecting stricter safety protocols and by availability of proper Personal Protection Equipment (PPE), including face shields, masks, gloves, soap, and so on.', 'cite_spans': [], 'ref_spans': [], 'section': 'Compartment'}, {'text': 'According to the above description, each compartment S, E, I and A is partitioned as follows: S = S f ∪ S r , where S f are susceptible and active, while S r are susceptible and in r-isolation; E = E f ∪ E r , where E f are exposed and active, while E r are exposed and in r-isolation; I = I f ∪ I r , where I f are infectious and active, I r are infectious and in r-isolation; A = A f ∪ A r , where A f are asymptomatic infectious and active, A r are asymptomatic infectious and in r-isolation. The compartment Q collects all the infected individuals who have been tested positive, either after onset of severe symptoms, or because of a sample test among the population, according to the procedure described in iii) of the above list. Let us stress that, among these compartments, only the individuals in Q are aware of being infected, and thus contagious, hence they are either hospitalized or at home, but in both cases they follow strict procedures to reduce their contact rate to 0. Finally, we will use the compartments R for the recovered and immune individuals, and D for the disease-induced deaths. Both these last compartments will be removed from the dynamics and will end up in the counter system (2) . Moreover, we point out that the portion p of the population in r-isolation is predetermined at the initial time of the evolution, reflecting the public policy in place in that specific period of time. Of course, such fraction p may be updated at a later time, accordingly to newer (stricter or looser) public policies.', 'cite_spans': [{'start': 1209, 'end': 1212, 'text': '(2)', 'ref_id': 'BIBREF1'}], 'ref_spans': [], 'section': 'Compartment'}, {'text': 'The first set of constants, related to the pathogen itself (assuming no mutation occurs in the time of epidemic, or if so, the mutation does not affect such parameters of the virus) and its induced disease, are collected in Table 2 . A graphical representation of the course of the disease for symptomatic carriers can be seen in Figure 1 .', 'cite_spans': [], 'ref_spans': [{'start': 224, 'end': 231, 'text': 'Table 2', 'ref_id': 'TABREF0'}, {'start': 330, 'end': 338, 'text': 'Figure 1', 'ref_id': None}], 'section': 'Compartment'}, {'text': 'Description τ inverse of the latent time from exposure to infectiousness onset σ inverse of the time from infectiousness onset to possible symptoms onset θ inverse of mean incubation time (i.e. θ −1 = τ −1 + σ −1 ) α proportion of asymptomatic infections γ 1 recovery rate for asymptomatic or mild symptomatic cases γ 2 recovery rate for severe and critical cases µ mortality rate among confirmed cases δ probability of detection by testing in compartment E Figure 1 : Disease timeline for symptomatic cases', 'cite_spans': [], 'ref_spans': [{'start': 458, 'end': 466, 'text': 'Figure 1', 'ref_id': None}], 'section': 'Par.'}, {'text': 'The second set of parameters is related to public policies, and consists of the parameters in Table 3 . Let us recall at this point that β varies in each territory, depending mainly on population density and behaviour. These constants may be used as control parameters, via the tuned lockdown as decided by the public policies (reflecting on p and partially on r), the awareness of the population in respecting the social distancing among individuals and in the widespread use of personal protection equipment (expressed by β and partially by r), the availability of testing kits, that results in a higher or lower value of ρ.', 'cite_spans': [], 'ref_spans': [{'start': 94, 'end': 101, 'text': 'Table 3', 'ref_id': None}], 'section': 'Par.'}, {'text': 'Description β(t) transmission rate at time t (proportional to contact rate) r(t) reduction coefficient of transmission rate for people in isolation at time t ρ(t) testing rate of people with mild or no symptoms at time t p(t)', 'cite_spans': [], 'ref_spans': [], 'section': 'Par.'}, {'text': 'proportion of the population in r-isolation Table 3 :', 'cite_spans': [], 'ref_spans': [{'start': 44, 'end': 51, 'text': 'Table 3', 'ref_id': None}], 'section': 'Par.'}, {'text': 'The extended state variable of the system thus becomes', 'cite_spans': [], 'ref_spans': [], 'section': 'Parameters of Public Policies interventions'}, {'text': 'where the description of the compartments is given in Table 4 . We focus in particular on the evolution of the variable', 'cite_spans': [], 'ref_spans': [{'start': 54, 'end': 61, 'text': 'Table 4', 'ref_id': None}], 'section': 'Parameters of Public Policies interventions'}, {'text': 'Compartment Description E f exposed, not in isolation, not contagious E r exposed, in r-isolation, not contagious I f infected and contagious, not in isolation I r infected and contagious, in r-isolation A f asymptomatic and contagious, not in isolation A r asymptomatic and contagious, in r-isolation Q infected and tested positive, in enforced quarantine S f susceptible not in isolation S r susceptible in r-isolation R recovered and immune D dead Table 4 : List of extended compartments that follows the model', 'cite_spans': [], 'ref_spans': [{'start': 451, 'end': 458, 'text': 'Table 4', 'ref_id': None}], 'section': 'Parameters of Public Policies interventions'}, {'text': 'while the evolution of the statesṘ', 'cite_spans': [], 'ref_spans': [], 'section': 'Parameters of Public Policies interventions'}, {'text': 'only provides counters for the proportion (over the total population) of recovered and dead individuals, respectively. See the compartmental diagram associated to this model in Figure 2 .', 'cite_spans': [], 'ref_spans': [{'start': 177, 'end': 185, 'text': 'Figure 2', 'ref_id': None}], 'section': 'Parameters of Public Policies interventions'}, {'text': 'Remark 2.1 (About the testing rate ρ) The parameter ρ indicates the proportion of the population presenting either mild or no symptoms that is tested daily. It can also be thought as the inverse of the mean duration that an infected person passes without being tested. For instance, if the system manages to detect, each day, 5% of the asymptomatic infections, then ρ = 0.05. If we are in an ideal \"trace and test\" situation (see e.g. South Korea [13] ), in which for each confirmed infection, his/her recent contacts are rapidly and efficiently traced and tested, then ρ will be greater and this will have an impact in the basic reproduction number (see Section 3).', 'cite_spans': [{'start': 447, 'end': 451, 'text': '[13]', 'ref_id': 'BIBREF12'}], 'ref_spans': [], 'section': 'Figure 2: Model diagram'}, {'text': 'Recalling that testing is supposed to be applied, at least, to all sufficiently symptomatic cases, we add a counter for the positive tests T (t) until time t, which evolves according to the equatioṅ', 'cite_spans': [], 'ref_spans': [], 'section': 'Figure 2: Model diagram'}, {'text': 'Having this quantity, one can estimate the total number of tests in each territory using the testing positive rate of that location, which is the ratio between reported cases and tests done [29, 45] .', 'cite_spans': [{'start': 190, 'end': 194, 'text': '[29,', 'ref_id': 'BIBREF28'}, {'start': 195, 'end': 198, 'text': '45]', 'ref_id': 'BIBREF44'}], 'ref_spans': [], 'section': 'Figure 2: Model diagram'}, {'text': 'Remark 2.2 (About symptoms and quarantine) In our framework, we assume that all cases with sufficiently severe symptoms are (tested and) quarantined, and we set the parameter α ∈ (0, 1) to be the fraction of asymptomatic cases, including the cases with mild symptoms. But we can adapt our model to a scenario in which even severe symptoms are not tested until critical. In this case, with a very large value for α, only a small portion among the symptomatic individuals enters directly to Q, while the others need to be tested (according to the sampling testing ρ among the population) to be quarantined.', 'cite_spans': [], 'ref_spans': [], 'section': 'Figure 2: Model diagram'}, {'text': 'System (1) is endowed with the set of initial conditions given by the vector', 'cite_spans': [], 'ref_spans': [], 'section': 'Figure 2: Model diagram'}, {'text': 'with components in the interval [0, 1]. Setting', 'cite_spans': [], 'ref_spans': [], 'section': 'Figure 2: Model diagram'}, {'text': 'the cube of states with entries between 0 and 1, it is easy to check that C 1 is invariant under the flow of system (1), that is, given an initial condition X 0 ∈ C 1 , the solution X(t) to (1)-(3) remains in C 1 for all t > 0.', 'cite_spans': [], 'ref_spans': [], 'section': 'Figure 2: Model diagram'}, {'text': 'We collect here some variations of model (1) that can be formulated in the same framework considered in this paper.', 'cite_spans': [], 'ref_spans': [], 'section': 'Remark 2.3 (Possible extensions of the model)'}, {'text': '1. One might consider a small but not negligible contact rate between susceptible individuals and people in the compartment Q, accounting for infections (mainly of medicals and paramedicals) occurred during hospitalization of an infected individual, or for individuals tested positive in enforced quarantine at home, which do not comply strictly to the isolation procedures and end up infecting relatives or other contacts. In this case, the equations for the evolution of the susceptible compartments shall be completed with additional terms involving ε in the following way:Ṡ', 'cite_spans': [], 'ref_spans': [], 'section': 'Remark 2.3 (Possible extensions of the model)'}, {'text': 'and the same terms with opposite sign shall appear in the equation corresponding toQ.', 'cite_spans': [], 'ref_spans': [], 'section': 'Remark 2.3 (Possible extensions of the model)'}, {'text': '2. At the current stage, it is still not clear how long the immunity of a recovered individual lasts, with a number of findings tending towards a rather long immunization period [1, 38, 41] . For this reason, in (1) we assume that a recovered individual will remain immune over the time framework considered in the different scenarios. However, the model can easily describe the case of recovered individuals becoming susceptible again, by adding a transfer term from the compartment R to S f and S r , with a coefficient depending on the inverse of the average immunization period. Similarly, the model can include the case of reactivation of the virus in an individual previously declared recovered (and not newly exposed to the virus), by inserting a transfer term from the compartment R into I f and I r , with appropriate coefficients depending on the probability of the reactivation of the virus and on the inverse of the average time of reactivation. However, at the moment there are not strong evidences supporting such possibility [38] .', 'cite_spans': [{'start': 178, 'end': 181, 'text': '[1,', 'ref_id': 'BIBREF0'}, {'start': 182, 'end': 185, 'text': '38,', 'ref_id': 'BIBREF37'}, {'start': 186, 'end': 189, 'text': '41]', 'ref_id': 'BIBREF40'}, {'start': 1040, 'end': 1044, 'text': '[38]', 'ref_id': 'BIBREF37'}], 'ref_spans': [], 'section': 'Remark 2.3 (Possible extensions of the model)'}, {'text': '3. A crucial issue while coping with the outbreak of the epidemic, which leads to the so-called urge of flattening the curve, is whether the number of critical cases in need of intensive care (IC) treatment (due to respiratory failure, shock, and multiple organ dysfunction or failure) would saturate the number of available intensive care units (ICUs). This parameter can be estimated directly from model (1), considering for each country the number of available ICUs and the percentage of positive confirmed cases requiring IC treatment. For example, this percentage has been estimated to be about 6% for China [4] , and up to 12% for Italy [12, 35] . As an alternative, it would be possible to insert a further compartment C in model (1) counting the number of the individuals needing ICU treatment, by modifying the equations corresponding to the compartments Q and D as follows:', 'cite_spans': [{'start': 613, 'end': 616, 'text': '[4]', 'ref_id': 'BIBREF3'}, {'start': 643, 'end': 647, 'text': '[12,', 'ref_id': 'BIBREF11'}, {'start': 648, 'end': 651, 'text': '35]', 'ref_id': 'BIBREF34'}], 'ref_spans': [], 'section': 'Remark 2.3 (Possible extensions of the model)'}, {'text': 'with suitable coefficients τ c , µ c and γ c denoting the inverse of the time from symptoms onset to critical symptoms, the mortality of critical cases, and the recovery rate for critical cases, respectively.', 'cite_spans': [], 'ref_spans': [], 'section': 'Remark 2.3 (Possible extensions of the model)'}, {'text': '4. In this paper we have considered the whole population as a fixed number of individuals during the time period of the evolution. It is of course possible to consider the case of an evolving total population, by including in the model (1) the natural birth and mortality rate. In particular, newborns of susceptible individuals shall enter the corresponding susceptible compartment, whereas it is not clear whether the offspring of an infectious individual would be infectious, in such case the newborn shall move directly to the compartment I. On the other hand, the natural mortality rate shall act on each compartment of system (1), as well as on R in system (2).', 'cite_spans': [], 'ref_spans': [], 'section': 'Remark 2.3 (Possible extensions of the model)'}, {'text': '3 The basic reproduction number for model (1) We are interested in determining the basic reproduction number R 0 associated with system (1). To do this, we assume to fix a time interval [t 0 , t 1 ] such that the coefficients β(t), r(t) and ρ(t) are constant over [t 0 , t 1 ]. This is coherent with the setting of the scenarios simulated in Section 4.2, where we assume such coefficients to be piecewise constant functions, sharing the same switching times, that represent different phases of restrictions and policies. Thus, according to the calculations given in the Appendix A.1 and the parameters in Tables 2 and 3 , we obtain that the value of R 0 for each time interval between two consecutive switching times is given by', 'cite_spans': [{'start': 42, 'end': 45, 'text': '(1)', 'ref_id': 'BIBREF0'}], 'ref_spans': [{'start': 605, 'end': 619, 'text': 'Tables 2 and 3', 'ref_id': 'TABREF0'}], 'section': 'Remark 2.3 (Possible extensions of the model)'}, {'text': 'From this explicit formula for the reproduction number R 0 , we can highlight the qualitative dependence of R 0 on each parameter of the system, in particular:', 'cite_spans': [], 'ref_spans': [], 'section': 'Remark 2.3 (Possible extensions of the model)'}, {'text': '-If the effective contact rate β increases, then R 0 increases.', 'cite_spans': [], 'ref_spans': [], 'section': 'Remark 2.3 (Possible extensions of the model)'}, {'text': '-Focusing on the coefficient 1 − (1 − r 2 )p, we realize that closer is p to 1, and smaller is r, that is, as larger is the portion of population in r-isolation and as stricter is the reduction factor r in its contact rate, lower R 0 becomes.', 'cite_spans': [], 'ref_spans': [], 'section': 'Remark 2.3 (Possible extensions of the model)'}, {'text': '-If α increases, that is, if there is a larger proportion of asymptomatic infectious individuals, then R 0 increases.', 'cite_spans': [], 'ref_spans': [], 'section': 'Remark 2.3 (Possible extensions of the model)'}, {'text': '-If σ increases, corresponding to shorter onset time, then R 0 decreases.', 'cite_spans': [], 'ref_spans': [], 'section': 'Remark 2.3 (Possible extensions of the model)'}, {'text': '-If either ρ or γ 1 increase, i.e., either the control action by testing is strengthened, for example through an improved tracing and tracking system, or the recovery rate improves, for example, because of new and more effective treatments, then R 0 decreases.', 'cite_spans': [], 'ref_spans': [], 'section': 'Remark 2.3 (Possible extensions of the model)'}, {'text': '-If δ increases, for example, as a result of improved testing kits able to detect the infection at an earlier stage, then R 0 decreases.', 'cite_spans': [], 'ref_spans': [], 'section': 'Remark 2.3 (Possible extensions of the model)'}, {'text': 'Moreover, we can characterize the crucial condition R 0 ≤ 1 by means of a simpler expression than (4), as described in the next result.', 'cite_spans': [], 'ref_spans': [], 'section': 'Remark 2.3 (Possible extensions of the model)'}, {'text': 'Then R 0 is smaller than (respectively, equal to or greater than) 1 if and only if the same relation holds for T 0 . In particular, if ϕ > 1 (see (5)), then R 0 > 1 and T 0 > 1.', 'cite_spans': [], 'ref_spans': [], 'section': 'Proposition 3.1 (Alternative threshold) Set'}, {'text': 'We postpone the proof of Proposition 3.1 to the Appendix A.2. A more quantitative analysis of the dependence of the threshold T 0 on the parameters of the model is developed in the Appendix A.3.', 'cite_spans': [], 'ref_spans': [], 'section': 'Proposition 3.1 (Alternative threshold) Set'}, {'text': 'If we consider the case of ρ = 0, that is, the situation without sample testing among the asymptomatic population, then the basic reproduction number R 0 is independent of the latent time τ . In particular, T 0 becomes (4) gives an expression of R 0 , that is the reproduction number in a totally susceptible population. As the epidemic evolves, a portion of the population becomes immune to the disease, and this makes the reproduction number decrease. More precisely, when p = 0 and all the population has the same contact rate, the time-dependent reproduction number is given by R(t) = S(t)R 0 , where S(t) is the susceptible portion of the population. In our model, since the groups of active individuals and in r-isolation evolve differently (see Scenario A 4 and Figure 4 below), the time-dependent reproduction number R(t) is given by the formula (4) where ϕ in (5) is', 'cite_spans': [], 'ref_spans': [{'start': 769, 'end': 777, 'text': 'Figure 4', 'ref_id': 'FIGREF2'}], 'section': 'Remark 3.2 (About no testing among asymptomatic carriers)'}, {'text': 'We do not take into account this time-variation of the reproduction number in our numerical results, since we are only interested in the value of the reproduction number at the beginning of each phase, where S(t) is close to 1.', 'cite_spans': [], 'ref_spans': [], 'section': 'Remark 3.3 (On the time-dependent reproduction number) Relation'}, {'text': 'Remark 3.4 (On herd immunity) Herd immunity is defined as the proportion of the population that needs to be immunized in order to naturally slow down the spread of the disease. It depends on the value of the basic reproduction number in the following way: herd immunity level equals 1 − 1 R 0 .', 'cite_spans': [], 'ref_spans': [], 'section': 'Remark 3.3 (On the time-dependent reproduction number) Relation'}, {'text': 'So the bigger R 0 , the higher the herd immunity. In connection with above Remark 3.3, we highlight that herd immunity is achieved at the time t when R(t) equals 1.', 'cite_spans': [], 'ref_spans': [], 'section': 'Remark 3.3 (On the time-dependent reproduction number) Relation'}, {'text': 'In Table 5 we collect some parameter values estimated in the literature, in order to do realistic simulations. Recall the description of the parameters given in Tables 2-3 . Table 5 follow.', 'cite_spans': [], 'ref_spans': [{'start': 3, 'end': 10, 'text': 'Table 5', 'ref_id': 'TABREF2'}, {'start': 161, 'end': 171, 'text': 'Tables 2-3', 'ref_id': 'TABREF0'}, {'start': 174, 'end': 181, 'text': 'Table 5', 'ref_id': 'TABREF2'}], 'section': 'Numerical simulations 4.1 Retrieving parameters'}, {'text': '1. The parameter β strongly depends on the population behaviour. We take the value of β from [36] , where they calibrated an SEIR model with isolation and estimated the transmission rate β, before lockdown, to be 0.7676 (with a 95% confidence interval (0.7403, 0.7949)).', 'cite_spans': [{'start': 93, 'end': 97, 'text': '[36]', 'ref_id': 'BIBREF35'}], 'ref_spans': [], 'section': 'Numerical simulations 4.1 Retrieving parameters'}, {'text': '2. The mean duration of the latent period can be computed using the estimates for the incubation period (i.e. from exposure to symptom onset) and the time from infectiousness onset to symptom onset, so it is reasonable to take τ −1 between 2 and 4 days. More precisely, in [20] they fitted an SEIQR model to the data from Wuhan and estimated a latent period of duration 2.92 days with a 95% CI of (1.09, 5.28).', 'cite_spans': [{'start': 273, 'end': 277, 'text': '[20]', 'ref_id': 'BIBREF19'}], 'ref_spans': [], 'section': 'Numerical simulations 4.1 Retrieving parameters'}, {'text': \"3. In [5] they show the testing results on Diamond Princess passengers, a cruise ship that was quarantined in February-March 2020, at the beginning of the epidemic. Almost all passengers and crew members were tested, resulting in 410 asymptomatic infections among 696 positive-tested persons, which yields an asymptotic rate of 0.589. In [19] , they studied the infection in the municipality of Vo', Italy. They estimated a median of asymptomatic cases of 44.8%. with a 95% CI of (26.5,64.3). Other estimates were given in [6, 22, 25] . 4 . In [49] , they measured time from infectiousness onset to appearance of symptoms. It resulted in approximate 1 day for fever and 1-3 days for cough. Furthermore, it has been observed in clinical cases studied in [43] that the contagious period may start before the appearance of symptoms, and outlast the symptoms end.\", 'cite_spans': [{'start': 6, 'end': 9, 'text': '[5]', 'ref_id': 'BIBREF4'}, {'start': 338, 'end': 342, 'text': '[19]', 'ref_id': 'BIBREF18'}, {'start': 523, 'end': 526, 'text': '[6,', 'ref_id': 'BIBREF5'}, {'start': 527, 'end': 530, 'text': '22,', 'ref_id': 'BIBREF21'}, {'start': 531, 'end': 534, 'text': '25]', 'ref_id': None}, {'start': 537, 'end': 538, 'text': '4', 'ref_id': 'BIBREF3'}, {'start': 544, 'end': 548, 'text': '[49]', 'ref_id': 'BIBREF48'}, {'start': 753, 'end': 757, 'text': '[43]', 'ref_id': 'BIBREF42'}], 'ref_spans': [], 'section': 'Numerical simulations 4.1 Retrieving parameters'}, {'text': '5. The reference [2] estimates θ to be 6.4 based on travellers returning from Wuhan. In [18] it was estimated to be 5.1 days. Other estimates were given in [20] .', 'cite_spans': [{'start': 17, 'end': 20, 'text': '[2]', 'ref_id': 'BIBREF1'}, {'start': 88, 'end': 92, 'text': '[18]', 'ref_id': 'BIBREF17'}, {'start': 156, 'end': 160, 'text': '[20]', 'ref_id': 'BIBREF19'}], 'ref_spans': [], 'section': 'Numerical simulations 4.1 Retrieving parameters'}, {'text': '6. The estimate of γ1 is difficult, since for asymptomatic cases is hard to observe and track the time from exposure to recovery.', 'cite_spans': [], 'ref_spans': [], 'section': 'Numerical simulations 4.1 Retrieving parameters'}, {'text': '[16] estimated 9.5 days for asymptomatic cases, while [4] estimated 14 days for mild cases. So it is reasonable to assume γ1 in the range 7.5 -12, considering around 2 days between infectiousness onset and symptoms onset. 7 . In [49] they measured viral shedding duration, and estimated a median of 20 days, with an interquartile range of (17, 24) . Removing the approximately 2-day period from infectiousness onset to symptoms onset, we get an IQR for γ −1 2 of (15, 22) . These values approximate the duration of quarantine recommended to positive-tested cases.', 'cite_spans': [{'start': 222, 'end': 223, 'text': '7', 'ref_id': 'BIBREF6'}, {'start': 229, 'end': 233, 'text': '[49]', 'ref_id': 'BIBREF48'}, {'start': 339, 'end': 343, 'text': '(17,', 'ref_id': 'BIBREF16'}, {'start': 344, 'end': 347, 'text': '24)', 'ref_id': 'BIBREF23'}, {'start': 463, 'end': 467, 'text': '(15,', 'ref_id': 'BIBREF14'}, {'start': 468, 'end': 471, 'text': '22)', 'ref_id': 'BIBREF21'}], 'ref_spans': [], 'section': 'Numerical simulations 4.1 Retrieving parameters'}, {'text': \"8. The rate µ depends on the percentage of infections that have been detected, since it is proportional to the ratio between confirmed cases and deaths. WHO Director-General's opening remarks at the media briefing of 3 March 2020 [33] announced an estimated global death rate of 3.4%. In some countries, like Italy, the ratio between deaths and confirmed cases up to May 2020 is larger that 0.1, while in others, like Israel, it is around 0.01. Regarding the time a person takes to die from COVID-19, in [49] they estimated 18.5 days from infectiousness onset to death. 9 . The values of p and r vary in each country/territory depending on the public policies and the population's compliance to these measures. A detailed and real-time survey on the percentage of people under lockdown in each country can be found in [14] . 10 . As already mentioned in Remark 2.1, ρ represents the proportion of the infected asymptomatic population that is tested daily. In a realistic scenario, it would not be reasonable to set a too high value of ρ, let us say, over 0.5, because it would account for detecting more than 50% of the infected asymptomatic population daily.\", 'cite_spans': [{'start': 230, 'end': 234, 'text': '[33]', 'ref_id': 'BIBREF32'}, {'start': 504, 'end': 508, 'text': '[49]', 'ref_id': 'BIBREF48'}, {'start': 570, 'end': 571, 'text': '9', 'ref_id': 'BIBREF8'}, {'start': 818, 'end': 822, 'text': '[14]', 'ref_id': 'BIBREF13'}, {'start': 825, 'end': 827, 'text': '10', 'ref_id': 'BIBREF9'}], 'ref_spans': [], 'section': 'Numerical simulations 4.1 Retrieving parameters'}, {'text': '11. It is not yet know \"at what point during the course of illness a test becomes positive\" (see [15] ). For the simulations we set δ to 1 and suppose that the tests detect the infection from exposure.', 'cite_spans': [{'start': 97, 'end': 101, 'text': '[15]', 'ref_id': 'BIBREF14'}], 'ref_spans': [], 'section': 'Numerical simulations 4.1 Retrieving parameters'}, {'text': 'In this subsection we consider several scenarios and show their outcomes. Many of the graphics are in logarithmic scale, given that the values represent portions of the population, and then can assume very small values.', 'cite_spans': [], 'ref_spans': [], 'section': 'Simulations for different scenarios'}, {'text': 'We consider the four different scenarios with the following characteristics: These Scenarios A can be seen as: no action, mild lockdown, strict lockdown and strict lockdown with testing among asymptomatic suspected cases. As initial condition we take, in all the scenarios, one exposed case per million inhabitant, this is:', 'cite_spans': [], 'ref_spans': [], 'section': 'Scenarios A'}, {'text': 'The remainder of the compartments start with value 0. Results and parameters for Scenario A are given in Table 6 and graphics in Figure 3 . We can observe the effect of the lockdown on the epidemic. The mild lockdown of A 2 reduces more than half of the infections w.r.t. the no action situation A 1 , while the strict lockdowns A 3 and A 4 induce a reduction of the order of 10 −2 in total recovered, deaths and positive tests. In particular, comparing A 3 and A 4 we can see that testing and consequent quarantine for positive-tested asymptomatic cases not only reduces the infections and deaths more than 66%, but also the duration of the epidemic.', 'cite_spans': [], 'ref_spans': [{'start': 105, 'end': 112, 'text': 'Table 6', 'ref_id': 'TABREF5'}, {'start': 129, 'end': 137, 'text': 'Figure 3', 'ref_id': 'FIGREF0'}], 'section': 'Scenarios A'}, {'text': \"Remark 4.1 (About Scenario A 2 ) United States had 15 confirmed infections by February 15th 2020 [44] . Many states started their lockdown between March 15th and March 20th, which put around 60% of the population in isolation [14] . We can assume that day 0 is February 15th, then day 31 would be in the middle point of the interval when lockdowns started. Day 80 (May 6th) US had 72,287 confirmed deaths, while in Scenario A 2 gives 91,231, that is larger but not far. Scenario A 2 could be a good approximation of the situation in the US until the beginning of May 2020, and the excess in the computed deaths in comparison to real data suggests that deaths could be underreported by 26%, which is coherent with some recent studies on underreported deaths (see e.g. [47] ). For Scenario A 4 we make a comparison of infections for the two groups: the active one (that continues with the usual contact rate) and the one in r-isolation. By comparing the infections' curves and the cumulative infections, we can give an estimate on the lower chance that people in r-isolation have to get exposed. In this particular scenario, people that are not in isolation have nearly 6 times more chance to be infected. See the graphs in Figure 3 , were we show the curves of infections and cumulative infections for each group, normalized by the proportions 1 − p, p. We measure the outcomes. The parameters and results are given in Table 7 , and graphics in Figure 5 . The parameters that are not specified in Table 7 , are repeated from Table 6 . For these four scenarios we consider the same testing rate ρ among asymptomatic cases.\", 'cite_spans': [{'start': 97, 'end': 101, 'text': '[44]', 'ref_id': 'BIBREF43'}, {'start': 226, 'end': 230, 'text': '[14]', 'ref_id': 'BIBREF13'}, {'start': 767, 'end': 771, 'text': '[47]', 'ref_id': 'BIBREF46'}], 'ref_spans': [{'start': 1222, 'end': 1230, 'text': 'Figure 3', 'ref_id': 'FIGREF0'}, {'start': 1418, 'end': 1425, 'text': 'Table 7', 'ref_id': 'TABREF7'}, {'start': 1444, 'end': 1452, 'text': 'Figure 5', 'ref_id': 'FIGREF3'}, {'start': 1496, 'end': 1503, 'text': 'Table 7', 'ref_id': 'TABREF7'}, {'start': 1524, 'end': 1531, 'text': 'Table 6', 'ref_id': 'TABREF5'}], 'section': 'Scenarios A'}, {'text': 'Par. Scenarios B 1 and B 2 show cases in which the restrictions are not strong enough. Indeed, in both cases the basic reproduction number R 0 remains above 1 also after the lockdown intervention (see Table 7 ), and the infection reaches 71.6% and 43.6% of the population, causing the death of 1.89% and 1.15% of the population, respectively, which is a catastrophic outcome. Comparing these four scenarios, we shall deduce that, in order to be effective in containing the outbreak, the lockdown shall address at least 80% of the population reducing their contact rate to about 30% of their usual contacts. Indeed, in the scenario B 3 , the basic reproduction number becomes 0.93 after day 35, meaning that loosening the restrictions of this scenario (while keeping all other parameters unchanged) might turn the R 0 above 1.', 'cite_spans': [], 'ref_spans': [{'start': 201, 'end': 208, 'text': 'Table 7', 'ref_id': 'TABREF7'}], 'section': 'Scenarios A'}, {'text': 'We now compare two situations, one in which lockdown starts immediately, just 21 days after the first confirmed cases, and the other for which lockdown starts four weeks later. More precisely, we consider the following two scenarios and measure the different outputs:', 'cite_spans': [], 'ref_spans': [], 'section': 'Scenarios C: early vs. late lockdown'}, {'text': 'Scenario C 1 : 20%-isolation of 90% of the population from day 21 Scenario C 2 : 20%-isolation of 90% of the population from day 49 The parameters and outputs are given in Table 8 and Figure 6 . It is evident the impact of delaying the beginning of lockdown on the final outcome: the numbers of recovered and deaths in the Scenario C 2 are of the order of 10 3 times those of the Scenario C 1 . As an example, from Table 8 one notice that, at the end of the epidemic, the Scenario C 1 counts 4.2 deaths per million inhabitants, while the Scenario C 2 faces 1020 deaths per million. Moreover, the epidemic in Scenario C 2 lasts about 110 days more than in Scenario C 1 , thus also undergoes worst economic consequences of the lockdown. ', 'cite_spans': [], 'ref_spans': [{'start': 172, 'end': 179, 'text': 'Table 8', 'ref_id': 'TABREF9'}, {'start': 184, 'end': 192, 'text': 'Figure 6', 'ref_id': 'FIGREF4'}, {'start': 415, 'end': 422, 'text': 'Table 8', 'ref_id': 'TABREF9'}], 'section': 'Scenarios C: early vs. late lockdown'}, {'text': 'We now want to asses the impact of testing timing. For this, we consider the following two scenarios and measure the different outputs:', 'cite_spans': [], 'ref_spans': [], 'section': 'Scenarios D: early testing vs. late testing'}, {'text': 'Scenario D 1 : 20%-isolation of 80% of the population from day 50, efficient testing before day 50, reduced testing after Scenario D 2 : 20%-isolation of 80% of the population from day 50, few testing before day 50, massive testing after', 'cite_spans': [], 'ref_spans': [], 'section': 'Scenarios D: early testing vs. late testing'}, {'text': 'The parameter values and outcomes of the epidemic in Scenarios D 1 and D 2 are given in Table 9 and figures in Figure 7 . It can be seen the cost in infection and lives it has to start testing late. It is worth noticing that, in spite of a higher total number of tests carried out in the Scenario D 2 , the strategy adopted in the Scenario D 1 attains a considerably better outcome: indeed, the infections and deaths of Scenario D 2 are of the order of 10 2 w.r.t. the ones in Scenario D 1 , and the only difference was doing efficient testing at the beginning of the epidemic. ', 'cite_spans': [], 'ref_spans': [{'start': 88, 'end': 95, 'text': 'Table 9', 'ref_id': 'TABREF11'}, {'start': 111, 'end': 119, 'text': 'Figure 7', 'ref_id': 'FIGREF5'}], 'section': 'Scenarios D: early testing vs. late testing'}, {'text': 'Now we fix the parameters β, µ, p, r as in Table 9 and we vary only ρ to take the four different values 0, 0.02, 0.05 and 0.1 over the whole time period. We get the outcome of Figure 8 . From the comparison among these four scenarios, we realize that a high value of ρ, as the result of an efficient tracing and testing strategy, may reduce the number of cumulative infected individuals and deaths of an order of 10 2 . The simulations were done with Python and all the codes are in the GitHub repository github.com/lucasmoschen/covid-19-model.', 'cite_spans': [], 'ref_spans': [{'start': 43, 'end': 50, 'text': 'Table 9', 'ref_id': 'TABREF11'}, {'start': 176, 'end': 184, 'text': 'Figure 8', 'ref_id': 'FIGREF6'}], 'section': 'Scenarios E: different testing rates'}, {'text': 'In the paper we present an SEIR model with Asymptomatic and Quarantined compartments to describe the recent and ongoing COVID-19 outbreak. Our model is intended to highlight the strength of three different non-pharmaceutical interventions imposed by public policies in containing the outbreak and the total number of disease-induced infections and deaths:', 'cite_spans': [], 'ref_spans': [], 'section': 'Conclusions'}, {'text': '-reduction of contact rate for a given portion of the population; -enforced quarantine for confirmed infectious individuals; -testing among the population to detect also asymptomatic infectious individuals.', 'cite_spans': [], 'ref_spans': [], 'section': 'Conclusions'}, {'text': 'On one hand we show that, as expected, each of these interventions has a beneficial impact on flattening the curve of the outbreak. On the other hand, the comparison among different scenarios shows the remarkable efficacy of an early massive testing approach, when the limited number of infected individuals makes easier and more effective the tracing of recent contacts of the individual, as in Scenario D 1 , and of a timely lockdown, although in the presence of few confirmed infected cases, as in Scenario C 1 . In both situations, the timing of the intervention plays a crucial role on the incisiveness of the public safety policy.', 'cite_spans': [], 'ref_spans': [], 'section': 'Conclusions'}, {'text': 'In addition, we give an explicit representation of the basic reproduction number in terms of the several parameters of the model, which allows to describe its dependence on the features of the virus and on the implemented non-pharmaceutical interventions.', 'cite_spans': [], 'ref_spans': [], 'section': 'Conclusions'}, {'text': 'This description makes available a valuable tool to tune the public policies in order to control the outbreak of the epidemic, forcing R 0 below the threshold 1. However, considering the major effects of an enduring lockdown on the economy of the country that applies it, it is desirable to loosen the lockdown measures after the containment of the outbreak. Nevertheless, the decision makers and each individual shall be aware that a value of R 0 only barely greater than 1 would lead to an increase in the number of infected and dead by an order 2 of magnitude, thus provoking the collapse of the relative national health system. This is better explained by the following scenarios: consider a situation with constant testing ρ = 0.05 and no lockdown where, after the first 35 days of outbreak with a high R 0 (≈ 2), the population gains awareness of the risk and manage to reduce its contact rate so as to steer R 0 to either 0.9, 1 or 1.1. Figure 9 illustrates the large deviations among the outcome of these three different situations.', 'cite_spans': [], 'ref_spans': [{'start': 944, 'end': 952, 'text': 'Figure 9', 'ref_id': 'FIGREF7'}], 'section': 'Conclusions'}, {'text': 'In order to allow the population to circulate with no restrictions, it is necessary that herd immunity (see Remark 3.4) is achieved. The value that matters to compute this threshold of immunization is the basic reproduction number under no social distancing, which has been estimated in this article and in many others as being, in general, greater than 2.5. So achieving herd immunity would imply to infect at least 60% of the population, which would lead, with the current mortality rates, to 1-5% of the population dying, which is, obviously, a catastrophic unwanted situation. Hence, reinforcing what was said in the above paragraph, until a vaccine or treatment is not found, it is necessary to maintain the value of R 0 below 1. Otherwise, the curve of infections will always be increasing.', 'cite_spans': [], 'ref_spans': [], 'section': 'Conclusions'}, {'text': 'A.1 Computing R 0', 'cite_spans': [], 'ref_spans': [], 'section': 'A Appendix'}, {'text': 'Recalling the model (1), we are able to give an analytic expression of the basic reproduction number R 0 associated to the system.', 'cite_spans': [], 'ref_spans': [], 'section': 'A Appendix'}, {'text': 'In order to do so, we assume to fix a time interval [t 0 , t 1 ] such that the coefficients β(t), r(t) and ρ(t) are constant over [t 0 , t 1 ]. This is coherent with the setting of the Section 4, where we assume such coefficients to be piecewise constant functions, sharing the same switching times. Thus, the following procedure allows to evaluate the value of R 0 for each time interval between two consecutive switching times.', 'cite_spans': [], 'ref_spans': [], 'section': 'A Appendix'}, {'text': 'It is well known that the reproduction number R 0 is the crucial parameter to establish whether Disease Free Equilibria (DFE) are stable or not [7, 40] . We denote by X s the set of DFE, which is given by', 'cite_spans': [{'start': 144, 'end': 147, 'text': '[7,', 'ref_id': 'BIBREF6'}, {'start': 148, 'end': 151, 'text': '40]', 'ref_id': 'BIBREF39'}], 'ref_spans': [], 'section': 'A Appendix'}, {'text': 'We can recast system (1) in the compact forṁ', 'cite_spans': [], 'ref_spans': [], 'section': 'A Appendix'}, {'text': 'by introducing', 'cite_spans': [], 'ref_spans': [], 'section': 'A Appendix'}, {'text': 'The stability of (6) around a DFE X * is related to the spectral properties of the linearized system around X * , whose dynamics is ruled by the Jacobian Df = (∂f i /∂x j ) i,j=1,...,9 of f . However, the high dimensionality of Df (X) makes it difficult to develop an analytical analysis of its spectrum and its stability properties. We will therefore follow a different approach, deducing the value of R 0 from the result in [40] , which ensures that R 0 is given by the formula R 0 = ρ(F V −1 ), where ρ(A) denotes the spectral radius of the matrix A. A comment on the applicability of the results in [40] is given in Remark A.1 below.', 'cite_spans': [{'start': 426, 'end': 430, 'text': '[40]', 'ref_id': 'BIBREF39'}, {'start': 603, 'end': 607, 'text': '[40]', 'ref_id': 'BIBREF39'}], 'ref_spans': [], 'section': 'A Appendix'}, {'text': 'Since X * is a DFE, we may assume that X * = (0, 0, 0, 0, 0, 0, 0, 1 − p, p), for some p ∈ [0, 1] representing the portion of population that is initially in the compartment S r , while the remaining 1 − p fraction of the population is in S f . Thus, in our setting, the matrices F and V related to the dynamics (6) are given by', 'cite_spans': [], 'ref_spans': [], 'section': 'A Appendix'}, {'text': 'Since V is non-singular, we compute Thus, one can easily compute the matrix F V −1 and check that its characteristic polynomial is given by p(λ) = −λ 5 P 2 (λ) ,', 'cite_spans': [], 'ref_spans': [], 'section': 'A Appendix'}, {'text': 'where P 2 (λ) is a second order polynomial of the form P 2 (λ) = λ 2 − βτ (1 − p + r 2 p) (ρδ + τ )(σ + ρ) λ − σατ β(1 − p + r 2 p) (ρ + σ)(ρδ + τ )(ρ + γ 1 ) . P 2 (λ) has one positive and one negative root, given by λ 1/2 = 1 2 βτ (1 − p + r 2 p) (ρδ + τ )(σ + ρ) ± √ ∆ , with ∆ = βτ (1 − p + r 2 p) (ρδ + τ )(σ + ρ) 2 + 4σατ β(1 − p + r 2 p) (ρ + σ)(ρδ + τ )(ρ + γ 1 ) > 0 .', 'cite_spans': [], 'ref_spans': [], 'section': 'A Appendix'}, {'text': 'Since the term βτ (1−p+r 2 p) (ρδ+τ )(σ+ρ) is positive, the value of R 0 coincides with λ 1 , i.e.,', 'cite_spans': [], 'ref_spans': [], 'section': 'A Appendix'}, {'text': 'This is an analytic expression of R 0 , which shows its explicit dependence on the different parameters of model (1). Proposition 3.1 gives a convenient equivalent condition to ensure the stability of DFE.', 'cite_spans': [], 'ref_spans': [], 'section': 'A Appendix'}, {'text': 'Remark A.1 In order to directly apply the results in [40] , it is required that the eigenvalues of Df (X * ) have negative values and, under this assumption, the asymptotic stability of the DFE is established. In our case, the matrix Df (X * ) has zero as an eigenvalue of double multiplicity, with associated eigenvectors in the directions of the last two variables, these being S f and S r . It is not hard to see that the results in [40] hold for our system by simply modifying asymptotic stability to stability in the directions of the susceptible compartments, which has no consequence in the meaning of the threshold R 0 . Alternatively, a way to force the system to comply all the technical assumptions from [40] is adding birth and natural mortality to our model, which has no relevant impact in the results we showed (since the natural daily birth/death rates are of the order of 10 −5 , hence negligible w.r.t. the other parameters).', 'cite_spans': [{'start': 53, 'end': 57, 'text': '[40]', 'ref_id': 'BIBREF39'}, {'start': 436, 'end': 440, 'text': '[40]', 'ref_id': 'BIBREF39'}, {'start': 715, 'end': 719, 'text': '[40]', 'ref_id': 'BIBREF39'}], 'ref_spans': [], 'section': 'A Appendix'}, {'text': 'We remind that Proposition 3.1 claims the following: for ϕ = βτ [1 − (1 − r 2 )p] (ρδ + τ )(σ + ρ) and T 0 = ϕ 1 + σα ρ + γ 1 , R 0 is smaller than (respectively, equal to or greater than) 1 if and only if the same relation holds for T 0 . Indeed, by a straightforward computation we realize that', 'cite_spans': [], 'ref_spans': [], 'section': 'A.2 Proof of Proposition 3.1'}, {'text': 'Observe that the implication ⇐= in the equivalence * ⇐⇒ holds true because', 'cite_spans': [], 'ref_spans': [], 'section': 'A.2 Proof of Proposition 3.1'}, {'text': 'thus |2 − ϕ| = 2 − ϕ. In particular, the same chain of relations holds with the equal sign. Finally, since R 0 ≤ 1 is equivalent to T 0 ≤ 1, then also R 0 > 1 is equivalent to T 0 > 1. In addition, let us notice that, if ϕ > 1, then both R 0 > 1 and T 0 > 1. Indeed, from the definition of T 0 , since σα ρ+γ 1 ≥ 0, we have that T 0 ≥ ϕ > 1, and thus also R 0 > 1.', 'cite_spans': [], 'ref_spans': [], 'section': 'A.2 Proof of Proposition 3.1'}, {'text': 'A.3 Sensitivity analysis of the threshold T 0', 'cite_spans': [], 'ref_spans': [], 'section': 'A.2 Proof of Proposition 3.1'}, {'text': 'The explicit representation (7) of the basic reproduction number R 0 allows to study the sensitivity of R 0 with respect to the several parameters of the model (1) . Moreover, thanks to Proposition 3.1, we know that the threshold T 0 = βτ [1 − (1 − r 2 )p] (ρδ + τ )(σ + ρ) 1 + σα ρ + γ 1 can be used for an equivalent characterization of the condition R 0 < 1. For this reason, it is handier to develop the sensitivity of T 0 with respect to the parameters of the model, and deduce its dependence on perturbations of the parameters. We thus compute the normalized sensitivity index S x corresponding to the x parameter, given by', 'cite_spans': [{'start': 160, 'end': 163, 'text': '(1)', 'ref_id': 'BIBREF0'}], 'ref_spans': [], 'section': 'A.2 Proof of Proposition 3.1'}, {'text': 'and we get that', 'cite_spans': [], 'ref_spans': [], 'section': 'A.2 Proof of Proposition 3.1'}, {'text': 'S α = σα ρ + γ 1 + σα > 0 , S γ 1 = − σαγ 1 (ρ + γ 1 )(ρ + γ 1 + σα) < 0 , S σ = − σ[γ 1 + (1 − α)ρ] (σ + ρ)(ρ + γ 1 + σα) < 0 , S ρ = − ρ ρ + γ 1 + σα [δ(σ + 2ρ) + τ ](ρ + γ 1 + σα) (ρδ + τ )(σ + ρ) + σα ρ + γ 1 < 0 .', 'cite_spans': [], 'ref_spans': [], 'section': 'A.2 Proof of Proposition 3.1'}], 'bib_entries': {'BIBREF0': {'ref_id': 'b0', 'title': 'Clinical characteristics of the recovered COVID-19 patients with re-detectable positive RNA test. medRxiv', 'authors': [{'first': 'J', 'middle': [], 'last': 'An', 'suffix': ''}, {'first': 'X', 'middle': [], 'last': 'Liao', 'suffix': ''}, {'first': 'T', 'middle': [], 'last': 'Xiao', 'suffix': ''}, {'first': 'S', 'middle': [], 'last': 'Qian', 'suffix': ''}, {'first': 'J', 'middle': [], 'last': 'Yuan', 'suffix': ''}, {'first': 'H', 'middle': [], 'last': 'Ye', 'suffix': ''}, {'first': 'F', 'middle': [], 'last': 'Qi', 'suffix': ''}, {'first': 'C', 'middle': [], 'last': 'Shen', 'suffix': ''}, {'first': 'Y', 'middle': [], 'last': 'Liu', 'suffix': ''}, {'first': 'L', 'middle': [], 'last': 'Wang', 'suffix': ''}], 'year': 2020, 'venue': '', 'volume': '', 'issn': '', 'pages': '', 'other_ids': {}}, 'BIBREF1': {'ref_id': 'b1', 'title': 'Incubation period of 2019 novel coronavirus (2019-nCoV) infections among travellers from Wuhan, China', 'authors': [{'first': 'J', 'middle': ['A'], 'last': 'Backer', 'suffix': ''}, {'first': 'D', 'middle': [], 'last': 'Klinkenberg', 'suffix': ''}, {'first': 'J', 'middle': [], 'last': 'Wallinga', 'suffix': ''}], 'year': 2020, 'venue': 'Eurosurveillance', 'volume': '25', 'issn': '5', 'pages': '', 'other_ids': {}}, 'BIBREF2': {'ref_id': 'b2', 'title': 'Can the COVID-19 epidemic be managed on the basis of daily data?', 'authors': [{'first': 'F', 'middle': [], 'last': 'Casella', 'suffix': ''}], 'year': 2020, 'venue': '', 'volume': '', 'issn': '', 'pages': '', 'other_ids': {'arXiv': ['arXiv:2003.06967']}}, 'BIBREF3': {'ref_id': 'b3', 'title': 'World Health Organization', 'authors': [], 'year': 2019, 'venue': 'WHO China. Report of the WHO-China Joint Mission on Coronavirus Disease', 'volume': '', 'issn': '', 'pages': '', 'other_ids': {}}, 'BIBREF4': {'ref_id': 'b4', 'title': 'COVID-19 pandemic on Diamond Princess', 'authors': [], 'year': None, 'venue': 'Wikipedia contributors', 'volume': '', 'issn': '', 'pages': '', 'other_ids': {}}, 'BIBREF5': {'ref_id': 'b5', 'title': 'Covid-19: four fifths of cases are asymptomatic, China figures indicate', 'authors': [{'first': 'M', 'middle': [], 'last': 'Day', 'suffix': ''}], 'year': 2020, 'venue': 'BMJ', 'volume': '', 'issn': '', 'pages': '', 'other_ids': {}}, 'BIBREF6': {'ref_id': 'b6', 'title': 'On the definition and the computation of the basic reproduction ratio R 0 in models for infectious diseases in heterogeneous populations', 'authors': [{'first': 'O', 'middle': [], 'last': 'Diekmann', 'suffix': ''}, {'first': 'J', 'middle': ['A P'], 'last': 'Heesterbeek', 'suffix': ''}, {'first': 'J', 'middle': ['A J'], 'last': 'Metz', 'suffix': ''}], 'year': 1990, 'venue': 'J. Math. Biol', 'volume': '28', 'issn': '4', 'pages': '365--382', 'other_ids': {}}, 'BIBREF7': {'ref_id': 'b7', 'title': 'Optimal COVID-19 epidemic control until vaccine deployment. medRxiv', 'authors': [{'first': 'R', 'middle': [], 'last': 'Djidjou-Demasse', 'suffix': ''}, {'first': 'Y', 'middle': [], 'last': 'Michalakis', 'suffix': ''}, {'first': 'M', 'middle': [], 'last': 'Choisy', 'suffix': ''}, {'first': 'M', 'middle': ['T'], 'last': 'Sofonea', 'suffix': ''}, {'first': 'S', 'middle': [], 'last': 'Alizon', 'suffix': ''}], 'year': 2020, 'venue': '', 'volume': '', 'issn': '', 'pages': '', 'other_ids': {}}, 'BIBREF8': {'ref_id': 'b8', 'title': 'COVID-19: investigation and initial clinical management of possible cases', 'authors': [{'first': 'Public', 'middle': [], 'last': 'Health England', 'suffix': ''}], 'year': 2020, 'venue': '', 'volume': '', 'issn': '', 'pages': '', 'other_ids': {}}, 'BIBREF9': {'ref_id': 'b9', 'title': 'Impact of non-pharmaceutical interventions (NPIs) to reduce COVID-19 mortality and healthcare demand', 'authors': [{'first': 'N', 'middle': ['M'], 'last': 'Ferguson', 'suffix': ''}, {'first': 'D', 'middle': [], 'last': 'Laydon', 'suffix': ''}, {'first': 'G', 'middle': [], 'last': 'Nedjati-Gilani', 'suffix': ''}, {'first': 'N', 'middle': [], 'last': 'Imai', 'suffix': ''}, {'first': 'K', 'middle': [], 'last': 'Ainslie', 'suffix': ''}, {'first': 'M', 'middle': [], 'last': 'Baguelin', 'suffix': ''}, {'first': 'S', 'middle': [], 'last': 'Bhatia', 'suffix': ''}, {'first': 'A', 'middle': [], 'last': 'Boonyasiri', 'suffix': ''}, {'first': 'Z', 'middle': [], 'last': 'Cucunubá', 'suffix': ''}, {'first': 'G', 'middle': [], 'last': 'Cuomo-Dannenburg', 'suffix': ''}], 'year': 2020, 'venue': '', 'volume': '', 'issn': '', 'pages': '', 'other_ids': {}}, 'BIBREF10': {'ref_id': 'b10', 'title': 'Evaluating and Testing Persons for Coronavirus Disease', 'authors': [], 'year': 2019, 'venue': '', 'volume': '', 'issn': '', 'pages': '', 'other_ids': {}}, 'BIBREF11': {'ref_id': 'b11', 'title': 'Critical Care Utilization for the COVID-19 Outbreak in Lombardy, Italy: Early Experience and Forecast During an Emergency Response', 'authors': [{'first': 'G', 'middle': [], 'last': 'Grasselli', 'suffix': ''}, {'first': 'A', 'middle': [], 'last': 'Pesenti', 'suffix': ''}, {'first': 'M', 'middle': [], 'last': 'Cecconi', 'suffix': ''}], 'year': None, 'venue': 'JAMA', 'volume': '323', 'issn': '16', 'pages': '1545--1546', 'other_ids': {}}, 'BIBREF12': {'ref_id': 'b12', 'title': 'Test, trace, contain: how South Korea flattened its coronavirus curve', 'authors': [], 'year': 2020, 'venue': '', 'volume': '', 'issn': '', 'pages': '', 'other_ids': {}}, 'BIBREF13': {'ref_id': 'b13', 'title': 'Angrist, and Blavatnik School of Government. Coronavirus Government Response Tracker', 'authors': [{'first': 'T', 'middle': [], 'last': 'Hale', 'suffix': ''}, {'first': 'S', 'middle': [], 'last': 'Webster', 'suffix': ''}, {'first': 'A', 'middle': [], 'last': 'Petherick', 'suffix': ''}, {'first': 'T', 'middle': [], 'last': 'Phillips', 'suffix': ''}, {'first': 'B', 'middle': [], 'last': 'Kira', 'suffix': ''}, {'first': 'N', 'middle': [], 'last': '', 'suffix': ''}], 'year': 2020, 'venue': '', 'volume': '', 'issn': '', 'pages': '', 'other_ids': {}}, 'BIBREF14': {'ref_id': 'b14', 'title': \"If you've been exposed to the coronavirus\", 'authors': [], 'year': 2020, 'venue': '', 'volume': '', 'issn': '', 'pages': '', 'other_ids': {}}, 'BIBREF15': {'ref_id': 'b15', 'title': 'Clinical characteristics of 24 asymptomatic infections with COVID-19 screened among close contacts in Nanjing', 'authors': [{'first': 'C', 'middle': [], 'last': 'Song', 'suffix': ''}, {'first': 'C', 'middle': [], 'last': 'Xu', 'suffix': ''}], 'year': 2020, 'venue': 'China. Sci. China Life Sci', 'volume': '63', 'issn': '5', 'pages': '706--711', 'other_ids': {}}, 'BIBREF16': {'ref_id': 'b16', 'title': 'Timeline: How the new coronavirus spread', 'authors': [{'first': 'Al', 'middle': [], 'last': 'Jazeera', 'suffix': ''}], 'year': 2020, 'venue': '', 'volume': '', 'issn': '', 'pages': '', 'other_ids': {}}, 'BIBREF17': {'ref_id': 'b17', 'title': 'The incubation period of coronavirus disease 2019 (COVID-19) from publicly reported confirmed cases: estimation and application', 'authors': [{'first': 'S', 'middle': ['A'], 'last': 'Lauer', 'suffix': ''}, {'first': 'K', 'middle': ['H'], 'last': 'Grantz', 'suffix': ''}, {'first': 'Q', 'middle': [], 'last': 'Bi', 'suffix': ''}, {'first': 'F', 'middle': ['K'], 'last': 'Jones', 'suffix': ''}, {'first': 'Q', 'middle': [], 'last': 'Zheng', 'suffix': ''}, {'first': 'H', 'middle': ['R'], 'last': 'Meredith', 'suffix': ''}, {'first': 'A', 'middle': ['S'], 'last': 'Azman', 'suffix': ''}, {'first': 'N', 'middle': ['G'], 'last': 'Reich', 'suffix': ''}, {'first': 'J', 'middle': [], 'last': 'Lessler', 'suffix': ''}], 'year': 2020, 'venue': 'Annals of Internal Medicine', 'volume': '', 'issn': '', 'pages': '', 'other_ids': {}}, 'BIBREF18': {'ref_id': 'b18', 'title': 'Suppression of COVID-19 outbreak in the municipality of', 'authors': [{'first': 'E', 'middle': [], 'last': 'Lavezzo', 'suffix': ''}, {'first': 'E', 'middle': [], 'last': 'Franchin', 'suffix': ''}, {'first': 'C', 'middle': [], 'last': 'Ciavarella', 'suffix': ''}, {'first': 'G', 'middle': [], 'last': 'Cuomo-Dannenburg', 'suffix': ''}, {'first': 'L', 'middle': [], 'last': 'Barzon', 'suffix': ''}, {'first': 'C', 'middle': [], 'last': 'Vecchio', 'suffix': ''}, {'first': 'L', 'middle': [], 'last': 'Rossi', 'suffix': ''}, {'first': 'R', 'middle': [], 'last': 'Manganelli', 'suffix': ''}, {'first': 'A', 'middle': [], 'last': 'Loregian', 'suffix': ''}, {'first': 'N', 'middle': [], 'last': 'Navarin', 'suffix': ''}], 'year': 2020, 'venue': '', 'volume': '', 'issn': '', 'pages': '', 'other_ids': {}}, 'BIBREF19': {'ref_id': 'b19', 'title': 'The impacts of diagnostic capability and prevention measures on transmission dynamics of COVID-19 in Wuhan. medRxiv', 'authors': [{'first': 'J', 'middle': [], 'last': 'Liang', 'suffix': ''}, {'first': 'H.-Y', 'middle': [], 'last': 'Yuan', 'suffix': ''}], 'year': 2020, 'venue': '', 'volume': '', 'issn': '', 'pages': '', 'other_ids': {}}, 'BIBREF20': {'ref_id': 'b20', 'title': 'Predicting the cumulative number of cases for the COVID-19 epidemic in China from early data', 'authors': [{'first': 'Z', 'middle': [], 'last': 'Liu', 'suffix': ''}, {'first': 'P', 'middle': [], 'last': 'Magal', 'suffix': ''}, {'first': 'O', 'middle': [], 'last': 'Seydi', 'suffix': ''}, {'first': 'G', 'middle': [], 'last': 'Webb', 'suffix': ''}], 'year': 2020, 'venue': '', 'volume': '', 'issn': '', 'pages': '', 'other_ids': {'arXiv': ['arXiv:2002.12298']}}, 'BIBREF21': {'ref_id': 'b21', 'title': 'Estimating the asymptomatic proportion of coronavirus disease 2019 (COVID-19) cases on board the Diamond Princess cruise ship', 'authors': [{'first': 'K', 'middle': [], 'last': 'Mizumoto', 'suffix': ''}, {'first': 'K', 'middle': [], 'last': 'Kagaya', 'suffix': ''}, {'first': 'A', 'middle': [], 'last': 'Zarebski', 'suffix': ''}, {'first': 'G', 'middle': [], 'last': 'Chowell', 'suffix': ''}], 'year': 2020, 'venue': 'Eurosurveillance', 'volume': '25', 'issn': '10', 'pages': '', 'other_ids': {}}, 'BIBREF22': {'ref_id': 'b22', 'title': 'An Outbreak of NCIP (2019-nCoV) Infection in China -Wuhan', 'authors': [{'first': 'Q', 'middle': [], 'last': 'Li', 'suffix': ''}], 'year': 2019, 'venue': 'The 2019 nCoV Outbreak Joint Field Epidemiology Investigation Team and', 'volume': '', 'issn': '', 'pages': '', 'other_ids': {}}, 'BIBREF23': {'ref_id': 'b23', 'title': 'The Chinese doctor who tried to warn others about coronavirus', 'authors': [{'first': '', 'middle': [], 'last': 'Bbc News', 'suffix': ''}], 'year': 2020, 'venue': '', 'volume': '', 'issn': '', 'pages': '', 'other_ids': {}}, 'BIBREF25': {'ref_id': 'b25', 'title': 'Situation Report 39, World Heath Organization', 'authors': [], 'year': None, 'venue': '', 'volume': '', 'issn': '', 'pages': '', 'other_ids': {}}, 'BIBREF26': {'ref_id': 'b26', 'title': 'Situation Report 49, World Heath Organization', 'authors': [], 'year': 2020, 'venue': '', 'volume': '', 'issn': '', 'pages': '', 'other_ids': {}}, 'BIBREF27': {'ref_id': 'b27', 'title': 'Situation Report 51, World Heath Organization', 'authors': [], 'year': 2020, 'venue': '', 'volume': '', 'issn': '', 'pages': '', 'other_ids': {}}, 'BIBREF28': {'ref_id': 'b28', 'title': 'Laboratory testing strategy recommendations for COVID-19. Interim guidance, World Heath Organization', 'authors': [], 'year': 2020, 'venue': '', 'volume': '', 'issn': '', 'pages': '', 'other_ids': {}}, 'BIBREF29': {'ref_id': 'b29', 'title': 'World Health Organization. Pneumonia of unknown cause -China', 'authors': [], 'year': 2020, 'venue': '', 'volume': '', 'issn': '', 'pages': '', 'other_ids': {}}, 'BIBREF30': {'ref_id': 'b30', 'title': 'Q&A on coronaviruses (COVID-19', 'authors': [], 'year': 2020, 'venue': '', 'volume': '', 'issn': '', 'pages': '', 'other_ids': {}}, 'BIBREF31': {'ref_id': 'b31', 'title': \"World Health Organization. WHO Director-General's opening remarks at the media briefing on COVID-19 -16\", 'authors': [], 'year': 2020, 'venue': '', 'volume': '', 'issn': '', 'pages': '', 'other_ids': {}}, 'BIBREF32': {'ref_id': 'b32', 'title': \"World Health Organization. WHO Director-General's opening remarks at the media briefing on COVID-19 -3\", 'authors': [], 'year': 2020, 'venue': '', 'volume': '', 'issn': '', 'pages': '', 'other_ids': {}}, 'BIBREF33': {'ref_id': 'b33', 'title': 'Novel coronavirus 2019-nCoV: early estimation of epidemiological parameters and epidemic predictions. medRxiv', 'authors': [{'first': 'J', 'middle': ['M'], 'last': 'Read', 'suffix': ''}, {'first': 'J', 'middle': ['R E'], 'last': 'Bridgen', 'suffix': ''}, {'first': 'D', 'middle': ['A T'], 'last': 'Cummings', 'suffix': ''}, {'first': 'A', 'middle': [], 'last': 'Ho', 'suffix': ''}, {'first': 'C', 'middle': ['P'], 'last': 'Jewell', 'suffix': ''}], 'year': 2020, 'venue': '', 'volume': '', 'issn': '', 'pages': '', 'other_ids': {}}, 'BIBREF34': {'ref_id': 'b34', 'title': 'COVID-19 and Italy: what next? The Lancet, Health Policy', 'authors': [{'first': 'A', 'middle': [], 'last': 'Remuzzi', 'suffix': ''}, {'first': 'G', 'middle': [], 'last': 'Remuzzi', 'suffix': ''}], 'year': 2020, 'venue': '', 'volume': '395', 'issn': '', 'pages': '1225--1253', 'other_ids': {}}, 'BIBREF35': {'ref_id': 'b35', 'title': 'Modelling the epidemic trend of the 2019 novel coronavirus outbreak in China. bioRxiv', 'authors': [{'first': 'M', 'middle': [], 'last': 'Shen', 'suffix': ''}, {'first': 'Z', 'middle': [], 'last': 'Peng', 'suffix': ''}, {'first': 'Y', 'middle': [], 'last': 'Xiao', 'suffix': ''}, {'first': 'L', 'middle': [], 'last': 'Zhang', 'suffix': ''}], 'year': 2020, 'venue': '', 'volume': '', 'issn': '', 'pages': '', 'other_ids': {}}, 'BIBREF36': {'ref_id': 'b36', 'title': 'SEIR Transmission dynamics model of 2019 nCoV coronavirus with considering the weak infectious ability and changes in latency duration. medRxiv', 'authors': [{'first': 'P', 'middle': [], 'last': 'Shi', 'suffix': ''}, {'first': 'S', 'middle': [], 'last': 'Cao', 'suffix': ''}, {'first': 'P', 'middle': [], 'last': 'Feng', 'suffix': ''}], 'year': 2020, 'venue': '', 'volume': '', 'issn': '', 'pages': '', 'other_ids': {}}, 'BIBREF37': {'ref_id': 'b37', 'title': \"Can You Be Re-Infected After Recovering From Coronavirus? Here's What We Know About COVID-19 Immunity\", 'authors': [], 'year': 2020, 'venue': 'Time', 'volume': '', 'issn': '', 'pages': '', 'other_ids': {}}, 'BIBREF38': {'ref_id': 'b38', 'title': 'The New York Times. China Reports First Death From New Virus', 'authors': [], 'year': 2020, 'venue': '', 'volume': '', 'issn': '', 'pages': '', 'other_ids': {}}, 'BIBREF39': {'ref_id': 'b39', 'title': 'Reproduction numbers and sub-threshold endemic equilibria for compartmental models of disease transmission', 'authors': [{'first': 'P', 'middle': [], 'last': 'Van Den Driessche', 'suffix': ''}, {'first': 'J', 'middle': [], 'last': 'Watmough', 'suffix': ''}], 'year': 2002, 'venue': 'Mathematical Biosciences', 'volume': '180', 'issn': '', 'pages': '29--48', 'other_ids': {}}, 'BIBREF40': {'ref_id': 'b40', 'title': 'Humoral immune response and prolonged pcr positivity in a cohort of 1343 sars-cov 2 patients in the new york city region. medRxiv', 'authors': [{'first': 'A', 'middle': [], 'last': 'Wajnberg', 'suffix': ''}, {'first': 'M', 'middle': [], 'last': 'Mansour', 'suffix': ''}, {'first': 'E', 'middle': [], 'last': 'Leven', 'suffix': ''}, {'first': 'N', 'middle': ['M'], 'last': 'Bouvier', 'suffix': ''}, {'first': 'G', 'middle': [], 'last': 'Patel', 'suffix': ''}, {'first': 'A', 'middle': [], 'last': 'Firpo', 'suffix': ''}, {'first': 'R', 'middle': [], 'last': 'Mendu', 'suffix': ''}, {'first': 'J', 'middle': [], 'last': 'Jhang', 'suffix': ''}, {'first': 'S', 'middle': [], 'last': 'Arinsburg', 'suffix': ''}, {'first': 'M', 'middle': [], 'last': 'Gitman', 'suffix': ''}], 'year': 2020, 'venue': '', 'volume': '', 'issn': '', 'pages': '', 'other_ids': {}}, 'BIBREF41': {'ref_id': 'b41', 'title': 'Updated understanding of the outbreak of 2019 novel coronavirus (2019-nCoV) in Wuhan', 'authors': [{'first': 'W', 'middle': [], 'last': 'Wang', 'suffix': ''}, {'first': 'J', 'middle': [], 'last': 'Tang', 'suffix': ''}, {'first': 'F', 'middle': [], 'last': 'Wei', 'suffix': ''}], 'year': 2020, 'venue': 'China. Journal of Medical Virology', 'volume': '92', 'issn': '4', 'pages': '441--447', 'other_ids': {}}, 'BIBREF42': {'ref_id': 'b42', 'title': 'Clinical presentation and virological assessment of hospitalized cases of coronavirus disease', 'authors': [{'first': 'R', 'middle': [], 'last': 'Woelfel', 'suffix': ''}, {'first': 'V', 'middle': ['M'], 'last': 'Corman', 'suffix': ''}, {'first': 'W', 'middle': [], 'last': 'Guggemos', 'suffix': ''}, {'first': 'M', 'middle': [], 'last': 'Seilmaier', 'suffix': ''}, {'first': 'S', 'middle': [], 'last': 'Zange', 'suffix': ''}, {'first': 'M', 'middle': ['A'], 'last': 'Mueller', 'suffix': ''}, {'first': 'D', 'middle': [], 'last': 'Niemeyer', 'suffix': ''}, {'first': 'P', 'middle': [], 'last': 'Vollmar', 'suffix': ''}, {'first': 'C', 'middle': [], 'last': 'Rothe', 'suffix': ''}, {'first': 'M', 'middle': [], 'last': 'Hoelscher', 'suffix': ''}, {'first': 'T', 'middle': [], 'last': 'Bleicker', 'suffix': ''}, {'first': 'S', 'middle': [], 'last': 'Bruenink', 'suffix': ''}, {'first': 'J', 'middle': [], 'last': 'Schneider', 'suffix': ''}, {'first': 'R', 'middle': [], 'last': 'Ehmann', 'suffix': ''}, {'first': 'K', 'middle': [], 'last': 'Zwirglmaier', 'suffix': ''}, {'first': 'C', 'middle': [], 'last': 'Drosten', 'suffix': ''}, {'first': 'C', 'middle': [], 'last': 'Wendtner', 'suffix': ''}], 'year': 2019, 'venue': '', 'volume': '', 'issn': '', 'pages': '', 'other_ids': {}}, 'BIBREF43': {'ref_id': 'b43', 'title': 'Coronavirus cases in US', 'authors': [{'first': '', 'middle': [], 'last': 'Worldometer', 'suffix': ''}], 'year': 2020, 'venue': '', 'volume': '', 'issn': '', 'pages': '', 'other_ids': {}}, 'BIBREF44': {'ref_id': 'b44', 'title': 'Coronavirus Testing: Criteria and Numbers by Country', 'authors': [{'first': '', 'middle': [], 'last': 'Worldometer', 'suffix': ''}], 'year': 2020, 'venue': '', 'volume': '', 'issn': '', 'pages': '', 'other_ids': {}}, 'BIBREF45': {'ref_id': 'b45', 'title': 'Reported Cases and Deaths by Country, Territory, or Conveyance', 'authors': [{'first': '', 'middle': [], 'last': 'Worldometer', 'suffix': ''}], 'year': 2020, 'venue': '', 'volume': '', 'issn': '', 'pages': '', 'other_ids': {}}, 'BIBREF46': {'ref_id': 'b46', 'title': '000 Missing Deaths: Tracking the True Toll of the Coronavirus Outbreak', 'authors': [{'first': 'J', 'middle': [], 'last': 'Wu', 'suffix': ''}, {'first': 'A', 'middle': [], 'last': 'Mccann', 'suffix': ''}, {'first': 'J', 'middle': [], 'last': 'Katz', 'suffix': ''}, {'first': 'E', 'middle': [], 'last': 'Peltier', 'suffix': ''}], 'year': 2020, 'venue': '', 'volume': '73', 'issn': '', 'pages': '', 'other_ids': {}}, 'BIBREF47': {'ref_id': 'b47', 'title': 'Evolving epidemiology and transmission dynamics of coronavirus disease 2019 outside Hubei province, China: a descriptive and modelling study. The Lancet Infectious Diseases', 'authors': [{'first': 'J', 'middle': [], 'last': 'Zhang', 'suffix': ''}, {'first': 'M', 'middle': [], 'last': 'Litvinova', 'suffix': ''}, {'first': 'W', 'middle': [], 'last': 'Wang', 'suffix': ''}, {'first': 'Y', 'middle': [], 'last': 'Wang', 'suffix': ''}, {'first': 'X', 'middle': [], 'last': 'Deng', 'suffix': ''}, {'first': 'X', 'middle': [], 'last': 'Chen', 'suffix': ''}, {'first': 'M', 'middle': [], 'last': 'Li', 'suffix': ''}, {'first': 'W', 'middle': [], 'last': 'Zheng', 'suffix': ''}, {'first': 'L', 'middle': [], 'last': 'Yi', 'suffix': ''}, {'first': 'X', 'middle': [], 'last': 'Chen', 'suffix': ''}], 'year': 2020, 'venue': '', 'volume': '', 'issn': '', 'pages': '', 'other_ids': {}}, 'BIBREF48': {'ref_id': 'b48', 'title': 'Clinical course and risk factors for mortality of adult inpatients with COVID-19 in Wuhan', 'authors': [{'first': 'F', 'middle': [], 'last': 'Zhou', 'suffix': ''}, {'first': 'T', 'middle': [], 'last': 'Yu', 'suffix': ''}, {'first': 'R', 'middle': [], 'last': 'Du', 'suffix': ''}, {'first': 'G', 'middle': [], 'last': 'Fan', 'suffix': ''}, {'first': 'Y', 'middle': [], 'last': 'Liu', 'suffix': ''}, {'first': 'Z', 'middle': [], 'last': 'Liu', 'suffix': ''}, {'first': 'J', 'middle': [], 'last': 'Xiang', 'suffix': ''}, {'first': 'Y', 'middle': [], 'last': 'Wang', 'suffix': ''}, {'first': 'B', 'middle': [], 'last': 'Song', 'suffix': ''}, {'first': 'X', 'middle': [], 'last': 'Gu', 'suffix': ''}], 'year': 2020, 'venue': 'China: a retrospective cohort study. The Lancet', 'volume': '', 'issn': '', 'pages': '', 'other_ids': {}}}, 'ref_entries': {'FIGREF0': {'text': 'Scenarios A 1 , A 2 , A 3 and A 4 .', 'latex': None, 'type': 'figure'}, 'FIGREF2': {'text': 'Comparison of infections for population in and out isolation 4.2.2 Scenarios B: different restriction level of lockdown We next consider the following four scenarios in which we vary the values of the portion p of people under lockdown and their level r of restriction of social contacts. Scenario B 1 : 50%-isolation of 50% of the population from day 35 Scenario B 2 : 40%-isolation of 65% of the population from day 35 Scenario B 3 : 30%-isolation of 80% of the population from day 35 Scenario B 4 : 20%-isolation of 90% of the population from day 35', 'latex': None, 'type': 'figure'}, 'FIGREF3': {'text': 'Scenarios B 1 , B 2 , B 3 and B 4', 'latex': None, 'type': 'figure'}, 'FIGREF4': {'text': 'Scenarios C 1 and C 2 .', 'latex': None, 'type': 'figure'}, 'FIGREF5': {'text': 'Scenarios D 1 and D 2 .', 'latex': None, 'type': 'figure'}, 'FIGREF6': {'text': 'Scenarios E 1 , E 2 , E 3 and E 4', 'latex': None, 'type': 'figure'}, 'FIGREF7': {'text': 'The impact of small variations on R 0', 'latex': None, 'type': 'figure'}, 'TABREF0': {'text': '', 'latex': None, 'type': 'table'}, 'TABREF2': {'text': 'Realistic range of parameters valuesSeveral remarks regarding the parameter values in', 'latex': None, 'type': 'table'}, 'TABREF5': {'text': 'Scenarios A 1 , A 2 , A 3 and A 4 . Parameters and epidemics output', 'latex': None, 'type': 'table', 'html': '<html><body><table><tr><td>Par. </td><td>A1 </td><td>A2 </td><td>A3 </td><td>A4\\n</td></tr><tr><td>β </td><td>\\xa0</td><td>\\xa0</td><td>0.7676\\n</td><td>\\xa0</td></tr><tr><td>\\xa0</td><td>\\xa0</td><td>0 if t ≤ 31\\n</td><td>0 if </td><td>t ≤ 31\\n</td></tr><tr><td>p </td><td>0\\n</td><td>0.6 if t &gt; 31\\n</td><td>0.9 if </td><td>t &gt; 31\\n</td></tr><tr><td>\\xa0</td><td>\\xa0</td><td>\\xa0</td><td>1 if t ≤ 31\\n</td><td>\\xa0</td></tr><tr><td>r </td><td>1\\n</td><td>\\xa0</td><td>0.2 if t &gt; 31\\n</td><td>\\xa0</td></tr><tr><td>ρ </td><td>\\xa0</td><td>0 </td><td>\\xa0</td><td>0.05\\n</td></tr><tr><td>δ </td><td>\\xa0</td><td>\\xa0</td><td>1\\n</td><td>\\xa0</td></tr><tr><td>τ </td><td>\\xa0</td><td>\\xa0</td><td>1/3.2\\n</td><td>\\xa0</td></tr><tr><td>σ </td><td>\\xa0</td><td>\\xa0</td><td>1/2\\n</td><td>\\xa0</td></tr><tr><td>θ </td><td>\\xa0</td><td>\\xa0</td><td>1/5.2\\n</td><td>\\xa0</td></tr><tr><td>γ1 </td><td>\\xa0</td><td>\\xa0</td><td>1/8\\n</td><td>\\xa0</td></tr><tr><td>γ2 </td><td>\\xa0</td><td>\\xa0</td><td>1/16\\n</td><td>\\xa0</td></tr><tr><td>µ </td><td>\\xa0</td><td>\\xa0</td><td>0.058/14\\n</td><td>\\xa0</td></tr><tr><td>α </td><td>\\xa0</td><td>\\xa0</td><td>0.4\\n</td><td>\\xa0</td></tr><tr><td>R0 </td><td>2.51\\n</td><td>2.51 if t ≤ 31 1.4 if t &gt; 31\\n</td><td>2.51 if t ≤ 31 0.69 if t &gt; 31\\n</td><td>1.92 if t ≤ 31 0.52 of t &gt; 31\\n</td></tr><tr><td>peak day (for Q)\\n</td><td>76 </td><td>146 </td><td>40 </td><td>38\\n</td></tr><tr><td>recovered </td><td>9.43 × 10−1 </td><td>4.01× 10−1 </td><td>1.29 × 10−3 </td><td>2.77× 10−4\\n</td></tr><tr><td>deaths </td><td>3.66 × 10−2 </td><td>1.56× 10−2 </td><td>5.02 × 10−5 </td><td>1.41× 10−5\\n</td></tr><tr><td>positive tests </td><td>5.88 × 10−1 </td><td>2.5 × 10−1 </td><td>8.06 × 10−4 </td><td>2.26× 10−4\\n</td></tr><tr><td>ending day\\n(Q ≤ 10−9) </td><td>377 </td><td>&gt;500 </td><td>314 </td><td>225\\n</td></tr></table></body></html>'}, 'TABREF7': {'text': '', 'latex': None, 'type': 'table'}, 'TABREF9': {'text': 'Scenarios C 1 and C 2 : early lockdown vs. late lockdown. Parameters and epidemic outputs', 'latex': None, 'type': 'table', 'html': '<html><body><table><tr><td>Par. </td><td>C1 </td><td>C2\\n</td></tr><tr><td>β </td><td>0.7676\\n</td><td>\\xa0</td></tr><tr><td>µ </td><td>0.058/14\\n</td><td>\\xa0</td></tr><tr><td>p\\n</td><td>0 if t ≤ 21 0.9 if t &gt; 21\\n</td><td>0 if t ≤ 49 0.9 if t &gt; 49\\n</td></tr><tr><td>1 if t ≤ 21\\n</td><td>1 if t ≤ 49\\n</td></tr><tr><td>r\\n</td><td>0.2 if t &gt; 21\\n</td><td>0.2 if t &gt; 49\\n</td></tr><tr><td>ρ </td><td>0.02\\n</td><td>\\xa0</td></tr><tr><td>R0\\n</td><td>2.24 if t ≤ 21 0.61 if t &gt; 21\\n</td><td>2.24 if t ≤ 49 0.61 if t &gt; 50\\n</td></tr><tr><td>peak day </td><td>29 </td><td>57\\n</td></tr><tr><td>recovered </td><td>9.17 × 10−5 </td><td>2.27 × 10−2\\n</td></tr><tr><td>deaths </td><td>4.2× 10−6 </td><td>1.02 × 10−3\\n</td></tr><tr><td>positive tests </td><td>6.67 × 10−5 </td><td>1.63 × 10−2\\n</td></tr><tr><td>ending day </td><td>213 </td><td>323\\n</td></tr></table></body></html>'}, 'TABREF11': {'text': 'Scenarios D 1 and D 2 : early efficient testing vs. late massive testing.', 'latex': None, 'type': 'table', 'html': '<html><body><table><tr><td>Par. </td><td>D1 </td><td>D2\\n</td></tr><tr><td>β </td><td>\\xa0</td><td>0.7676\\n</td></tr><tr><td>µ </td><td>\\xa0</td><td>0.034/14\\n</td></tr><tr><td>0 if t ≤ 50\\n</td></tr><tr><td>p\\n</td><td>0.8 if t &gt; 50\\n</td></tr><tr><td>1 if </td><td>t ≤ 50\\n</td></tr><tr><td>r\\n</td><td>\\xa0</td><td>\\xa0</td></tr><tr><td>0.2 if </td><td>t &gt; 50\\n</td></tr><tr><td>ρ\\n</td><td>0.1 if t ≤ 50 0.05 if t &gt; 50\\n</td><td>0.01 if t ≤ 50 0.1 if t &gt; 50\\n</td></tr><tr><td>R0\\n</td><td>1.53 if t ≤ 50 0.9 if t &gt; 50\\n</td><td>2.37 if t ≤ 50 0.57 if t &gt; 50\\n</td></tr><tr><td>peak day </td><td>56 </td><td>58\\n</td></tr><tr><td>recovered </td><td>9.04 × 10−4 </td><td>4.29 × 10−2\\n</td></tr><tr><td>deaths </td><td>2.83 × 10−5 </td><td>1.35 × 10−3\\n</td></tr><tr><td>positive tests </td><td>7.58 × 10−4 </td><td>3.6× 10−2\\n</td></tr><tr><td>ending day </td><td>302 </td><td>327\\n</td></tr></table></body></html>'}}, 'back_matter': [{'text': 'We thus notice the same qualitative dependence on the parameters already observed in Section 3. In particular, if we increase k times the parameter β, then T 0 increases k times as well. Similar deductions can be made on the other parameters, with the corresponding coefficients obtained by inserting the values of the parameters from Table 5 . Moreover, from the expression of S τ we realize that, if either ρ or δ equal zero, then T 0 does not depend on τ (as it happens for R 0 as well, as noticed in Remark 3.2). Similarly, if ρ = 0, then S δ = 0, thus T 0 does not depend on δ. Regarding the parameters p and r, their dependence is mutually related as follows: if p = 0, then T 0 does not depend on r (since S r = 0), whereas if r = 1 then T 0 does not depend on p.', 'cite_spans': [], 'ref_spans': [{'start': 335, 'end': 342, 'text': 'Table 5', 'ref_id': None}], 'section': 'acknowledgement'}]}\n"
     ]
    }
   ],
   "source": [
    "# Whole json file\n",
    "print(json_data)"
   ]
  },
  {
   "cell_type": "code",
   "execution_count": 41,
   "metadata": {},
   "outputs": [
    {
     "name": "stdout",
     "output_type": "stream",
     "text": [
      "{'title': 'A model for COVID-19 with isolation, quarantine and testing as control measures', 'authors': [{'first': 'M', 'middle': ['S'], 'last': 'Aronna', 'suffix': '', 'affiliation': {'laboratory': '', 'institution': 'FGV EMAp -Rio de Janeiro', 'location': {'country': 'Brazil'}}, 'email': ''}, {'first': 'R', 'middle': [], 'last': 'Guglielmi', 'suffix': '', 'affiliation': {'laboratory': '', 'institution': 'FGV EMAp -Rio de Janeiro', 'location': {'country': 'Brazil'}}, 'email': ''}, {'first': 'L', 'middle': ['M'], 'last': 'Moschen', 'suffix': '', 'affiliation': {'laboratory': '', 'institution': 'FGV EMAp -Rio de Janeiro', 'location': {'country': 'Brazil'}}, 'email': ''}]}\n"
     ]
    }
   ],
   "source": [
    "# Meta data\n",
    "print(json_data['metadata'])"
   ]
  },
  {
   "cell_type": "code",
   "execution_count": 42,
   "metadata": {},
   "outputs": [
    {
     "name": "stdout",
     "output_type": "stream",
     "text": [
      "A model for COVID-19 with isolation, quarantine and testing as control measures\n"
     ]
    }
   ],
   "source": [
    "print(json_data['metadata']['title'])"
   ]
  },
  {
   "cell_type": "code",
   "execution_count": 43,
   "metadata": {},
   "outputs": [
    {
     "name": "stdout",
     "output_type": "stream",
     "text": [
      "In this article we propose a compartmental model for the dynamics of Coronavirus Disease 2019 . We take into account the presence of asymptomatic infections and the main policies that have been adopted so far to contain the epidemic: isolation (or social distancing) of a portion of the population, quarantine for confirmed cases and testing. We model isolation by separating the population in two groups: one composed by key-workers that keep working during the pandemic and have a usual contact rate, and a second group consisting of people that are enforced/recommended to stay at home. We refer to quarantine as strict isolation, and it is applied to confirmed infected cases.\n",
      "In the proposed model, the proportion of people in isolation, the level of contact reduction and the testing rate are control parameters that can vary in time, representing policies that evolve in different stages. We obtain an explicit expression for the basic reproduction number R 0 in terms of the parameters of the disease and of the control policies. In this way we can quantify the effect that isolation and testing have in the evolution of the epidemic. We present a series of simulations to illustrate different realistic scenarios. From the expression of R 0 and the simulations we conclude that isolation (social distancing) and testing among asymptomatic cases are fundamental actions to control the epidemic, and the stricter these measures are and the sooner they are implemented, the more lives can be saved. Additionally, we show that people that remain in isolation significantly reduce their probability of contagion, so risk groups should be recommended to maintain a low contact rate during the course of the epidemic.\n"
     ]
    }
   ],
   "source": [
    "# Abstract data\n",
    "# print(json_data['abstract'])\n",
    "\n",
    "for abstract_text in json_data['abstract']:\n",
    "    print(abstract_text['text'])"
   ]
  },
  {
   "cell_type": "code",
   "execution_count": 44,
   "metadata": {},
   "outputs": [
    {
     "name": "stdout",
     "output_type": "stream",
     "text": [
      "Introduction\n",
      "In late December 2019, several cases of an unknown pneumonia were identified in the city of Wuhan, Hubei province, China [23] . Some doctors of Wuhan conjectured that it could be severe acute respiratory syndrome (SARS) cases [24] . Many of the found cases had visited or were related to the Huanan Seafood Wholesale Market. On 31 December 2019, the World Health Organization (WHO) China Country Office was informed of these cases of pneumonia detected in Wuhan City and, up to 3 January 2020, a total of 44 patients with this unknown pneumonia were reported to WHO [30] . In the beginning of January 2020 Chinese officials ruled out the hypothesis that the cases were of SARS [17] , and a few days later the cause was identified to be a new coronavirus that was named SARS-CoV-2. The name given to the infectious disease caused by SARS-CoV-2 is COVID-19.\n",
      "______________________________________________\n",
      "Introduction\n",
      "The first death due to COVID-19 was reported on 9 January and it was a 61-year-old man in Wuhan [39] . After mid January infected cases were reported in Thailand, Japan, Republic of Korea, and other provinces in China [23] . On 22 January the Chinese authorities announced the quarantine of greater Wuhan. From that time on the virus rapidly spread in many Asiatic countries, reached Europe and the United States. On 28 February, with more than 80.000 confirmed cases and nearly 3.000 deaths globally, WHO increased the assessment of the risk of spread and risk of impact of COVID-19 to very high at the global level [26] . On 9 March 2020, with nearly 400 deaths, Italian government ordered the total lock-down of the national territory [27] . And a few days later, on March 11, WHO declared that COVID-19 was characterized as a pandemic [28] .\n",
      "______________________________________________\n",
      "Introduction\n",
      "In March 2020 several nations across the five continents closed their borders, declared forced isolation for the whole population except for essential workers and/or imposed strict measures of social distancing. Detailed information on the actions taken by each country can be found in the report [14] . At that time WHO recommended, apart from social distancing measures, that it was essential to test intensively [32] . The indications were to test every suspected case, to isolate till recovery any positive individual, and to track and test all contacts in the past two days of new confirmed cases.\n",
      "______________________________________________\n",
      "Introduction\n",
      "The most common symptoms of COVID-19 are fever, cough and shortness of breath. Most of the cases result in mild or no symptoms, but some progress to viral pneumonia and multi-organ failure. At this moment, it is estimate that 1 out of 5 cases needs hospitalization [31] . It is yet difficult to estimate the mortality of this virus. Mortality depends on one side on early detection and appropriate treatment, but the rate itself can only be calculated if the real number of infected people is known. There is enough evidence to assure that a significant portion of the infections is asymptomatic [19, 22, 25] , which makes it difficult to detect them and thus to calculate the effective mortality of COVID-19. WHO, by March 2020, estimated a death rate of 3,4% worldwide [33] . But in some countries, as Italy, France, Spain and UK, the rate between deaths and confirmed cases up to May 2020 is higher than 10% [46] .\n",
      "______________________________________________\n",
      "Introduction\n",
      "In this article we propose a compartmental model for the dynamics of COVID-19. We take into account the presence of asymptomatic infections, and also the main policies that have been adopted by several countries in the past months to fight this disease, these being: isolation, quarantine and testing. We model isolation by separating the population in two groups: one composed by keyworkers that keep working during the pandemic and having a usual contact rate, and the other group consisting of people that are enforced/recommended to stay at home. Certainly, in the group of people that maintain a high contact rate one can also include people that do not respect social distancing restrictions, that has lately shown to be significant in some countries. We refer to quarantine as strict isolation, and it is applied to confirmed infected cases. Testing is supposed to be applied to all symptomatic cases, and to a portion of the population selected using some of the criteria adopted by health organizations (see e.g. [9, 11] ). The idea to analyze the quantitative effects of non-pharmaceutical interventions, such as isolation and social distancing, on the evolution of the epidemic was inspired by the work [10] . For the proposed model, we obtain an expression for the basic reproduction number R 0 in terms of the parameters of the disease and of the control parameters. In this way we can quantify the effects that isolation and testing have on the epidemic. We exhibit a series of simulations to illustrate different realistic situations. We compare, in particular, different levels of isolation and testing. From the expression of R 0 and the simulations, we conclude that isolation (social distancing) and testing among asymptomatic cases are fundamental actions to control the epidemic, and the stricter these measures are and the sooner they are implemented, the more lives can be saved. Additionally, we show that people that remain in isolation significantly reduce their probability of contagion, so risk groups should be recommended to maintain a low contact rate during the course of the epidemic.\n",
      "______________________________________________\n",
      "Introduction\n",
      "Several mathematical models for COVID-19 have appeared recently in the literature. At the time being, the flux of publications is very high, so it is difficult to keep track of everything that is being published. We next mention and describe some of the models more closely related to ours. In [3] they consider a simple model, with infected and reported infected compartments, and they assume that the transmission rate β is a function of a control u, this is β = β(u). They analyze feedback control strategies, where the control depends on the number of reported cases. In [8] they consider mild and severe cases, the latter having a reduced transmission rate since they are assumed to be in isolation. They use a time-dependent control c of reduction of contacts for the whole population, and optimize with respect to this control. An SEIR model with quarantine for suspected and infected cases cases is considered in [37] , and in [21] they take into account unreported cases, asymptomatic individuals and quarantine for identified cases.\n",
      "______________________________________________\n",
      "Introduction\n",
      "The article is organized as follows. In Section 2 we introduce the model, and we discuss its structure. In Section 3 we show an expression of the basic reproduction number R 0 in terms of the parameters and we propose an equivalent threshold. Estimation of realistic parameters and numerical simulations are given in Section 4, while Section 5 is devoted to the conclusions and a description of possible continuations of this research. Finally, in the Appendix we include the analytical computations of the expression of R 0 and a sensitivity analysis with respect to the involved parameters.\n",
      "______________________________________________\n",
      "The model description\n",
      "We set up a model to describe the spread of the virus SARS-CoV-2 through a susceptible population. Building upon a usual SEIR model, we obtain a more structured one, which is tailored on the current experience of the COVID-19 epidemic, and which also allows to convey the effects of the non-pharmaceutical intervention policies being adopted by several countries to face its outbreak.\n",
      "______________________________________________\n",
      "The model description\n",
      "First of all, we normalize to 1 the total population of N individuals, so that all the compartments (and their sub-compartments) introduced below represent the proportion of individuals of the total population in such compartment. We will assume the population remains constant over time (i.e., we neglect the natural birth and death rates). We start by splitting the population in the compartments listed in Table 1 .\n",
      "______________________________________________\n",
      "Compartment\n",
      "Description S susceptible E exposed I infectious A asymptomatic and infectious Q infected in quarantine (including hospitalized) R recovered Table 1: List of aggregated compartments More specifically, the compartment S collects all the individuals that are susceptible to the virus. Once an individual from S gets exposed to the virus, moves to the compartment E. Let us point out that individuals in E, though already exposed to the virus, are not contagious yet. After a given latent time, an individual in E becomes infectious, and thus is allocated to the compartment I. At this stage, after a suitable time, the individual may either remain infectious but asymptomatic (or with mild symptoms), in which case moves to the compartment A, or may show clear symptoms onset, thus being tested and then quarantined either at home or at the hospital, and being assigned to the compartment Q. Finally, individuals in A and Q will eventually be removed from those compartments and will end up either in the compartment R after a recovery time or dead.\n",
      "______________________________________________\n",
      "Compartment\n",
      "We will assume that the fraction of asymptomatic individuals among all infected is given by a certain probability α ∈ (0, 1). It is intuitive that the presence of a relevant portion of asymptomatic infectious individuals plays a major role in the spread of the epidemic, as observed in the current outbreak [22, 25] . Indeed, an asymptomatic individual will maintain a high contact rate, and thus might infect more susceptible individuals with respect to an infectious individual with symptoms that is in quarantine. In our model, we always refer to the effective contact rate β, which is given by the product between the transmissibility ν (i.e., probability of infection given contact between a susceptible and infected individual), and the average rate of contact c between susceptible and infected individuals. In Tables 2 and 3 we list all the parameters of the model and their description.\n",
      "______________________________________________\n",
      "Compartment\n",
      "The model as described so far takes into account several characteristics of the pathogen and its spread in a susceptible population. We now want to add further structural features to the model in order to include the non-pharmaceutical interventions adopted by public policies to contain the epidemic. In particular, we assume the following conditions. i) A part p of the population is in isolation (either voluntarily, or as a result of public safety policies). The remaining 1−p of the population instead gathers all those so-called \"key workers\" (such as physicians and paramedicals, workers in logistics and distribution, food production, security, and others), that must continue with a regular activity, thus maintaining a large contact rate and being exposed to a higher risk of infection. We will generically refer to such 1−p part of population as the active population, as opposed to the population in isolation. In this group we can also include people that simply do not respect social distancing, and thus maintain a high contact rate. A situation like this has been observed in countries were monitoring was not strict and a significant percentage of the population did not respect isolation.\n",
      "______________________________________________\n",
      "Compartment\n",
      "ii) The fraction 1 − p of active population has an effective contact rate β, whereas the p part of population in isolation has a contact rate reduced by a factor r, thus its compound contact rate is rβ. We will therefore refer to such portion of the population as in r-isolation.\n",
      "______________________________________________\n",
      "Compartment\n",
      "iii) A centralized controller (such as the national health system) may intervene on the system by testing a portion of the population to check for the infectious pathogen. We assume the testing kit to be reliable, that is, we neglect the possibility of false positive/negative. As a rule, then, an individual from the compartment S will always test negative, an individual from I or A always positive, while an individual from E will result positive with a probability δ ∈ [0, 1]. In this way, even though the individuals in E are not contagious, we account for the possibility that they might result positive to the test, depending on the stage of development of the pathogen in that specific individual and to the efficacy of the testing kit.\n",
      "______________________________________________\n",
      "Compartment\n",
      "Let us notice that, in general, the effective contact rate β depends on a variety of factors, including the density of population in a given country/region. However, during a pandemic, even the effective contact rate of the individuals not in isolation may be reduced by increased awareness (for example, maintaining the social distancing), or by respecting stricter safety protocols and by availability of proper Personal Protection Equipment (PPE), including face shields, masks, gloves, soap, and so on.\n",
      "______________________________________________\n",
      "Compartment\n",
      "According to the above description, each compartment S, E, I and A is partitioned as follows: S = S f ∪ S r , where S f are susceptible and active, while S r are susceptible and in r-isolation; E = E f ∪ E r , where E f are exposed and active, while E r are exposed and in r-isolation; I = I f ∪ I r , where I f are infectious and active, I r are infectious and in r-isolation; A = A f ∪ A r , where A f are asymptomatic infectious and active, A r are asymptomatic infectious and in r-isolation. The compartment Q collects all the infected individuals who have been tested positive, either after onset of severe symptoms, or because of a sample test among the population, according to the procedure described in iii) of the above list. Let us stress that, among these compartments, only the individuals in Q are aware of being infected, and thus contagious, hence they are either hospitalized or at home, but in both cases they follow strict procedures to reduce their contact rate to 0. Finally, we will use the compartments R for the recovered and immune individuals, and D for the disease-induced deaths. Both these last compartments will be removed from the dynamics and will end up in the counter system (2) . Moreover, we point out that the portion p of the population in r-isolation is predetermined at the initial time of the evolution, reflecting the public policy in place in that specific period of time. Of course, such fraction p may be updated at a later time, accordingly to newer (stricter or looser) public policies.\n",
      "______________________________________________\n",
      "Compartment\n",
      "The first set of constants, related to the pathogen itself (assuming no mutation occurs in the time of epidemic, or if so, the mutation does not affect such parameters of the virus) and its induced disease, are collected in Table 2 . A graphical representation of the course of the disease for symptomatic carriers can be seen in Figure 1 .\n",
      "______________________________________________\n",
      "Par.\n",
      "Description τ inverse of the latent time from exposure to infectiousness onset σ inverse of the time from infectiousness onset to possible symptoms onset θ inverse of mean incubation time (i.e. θ −1 = τ −1 + σ −1 ) α proportion of asymptomatic infections γ 1 recovery rate for asymptomatic or mild symptomatic cases γ 2 recovery rate for severe and critical cases µ mortality rate among confirmed cases δ probability of detection by testing in compartment E Figure 1 : Disease timeline for symptomatic cases\n",
      "______________________________________________\n",
      "Par.\n",
      "The second set of parameters is related to public policies, and consists of the parameters in Table 3 . Let us recall at this point that β varies in each territory, depending mainly on population density and behaviour. These constants may be used as control parameters, via the tuned lockdown as decided by the public policies (reflecting on p and partially on r), the awareness of the population in respecting the social distancing among individuals and in the widespread use of personal protection equipment (expressed by β and partially by r), the availability of testing kits, that results in a higher or lower value of ρ.\n",
      "______________________________________________\n",
      "Par.\n",
      "Description β(t) transmission rate at time t (proportional to contact rate) r(t) reduction coefficient of transmission rate for people in isolation at time t ρ(t) testing rate of people with mild or no symptoms at time t p(t)\n",
      "______________________________________________\n",
      "Par.\n",
      "proportion of the population in r-isolation Table 3 :\n",
      "______________________________________________\n",
      "Parameters of Public Policies interventions\n",
      "The extended state variable of the system thus becomes\n",
      "______________________________________________\n",
      "Parameters of Public Policies interventions\n",
      "where the description of the compartments is given in Table 4 . We focus in particular on the evolution of the variable\n",
      "______________________________________________\n",
      "Parameters of Public Policies interventions\n",
      "Compartment Description E f exposed, not in isolation, not contagious E r exposed, in r-isolation, not contagious I f infected and contagious, not in isolation I r infected and contagious, in r-isolation A f asymptomatic and contagious, not in isolation A r asymptomatic and contagious, in r-isolation Q infected and tested positive, in enforced quarantine S f susceptible not in isolation S r susceptible in r-isolation R recovered and immune D dead Table 4 : List of extended compartments that follows the model\n",
      "______________________________________________\n",
      "Parameters of Public Policies interventions\n",
      "while the evolution of the statesṘ\n",
      "______________________________________________\n",
      "Parameters of Public Policies interventions\n",
      "only provides counters for the proportion (over the total population) of recovered and dead individuals, respectively. See the compartmental diagram associated to this model in Figure 2 .\n",
      "______________________________________________\n",
      "Figure 2: Model diagram\n",
      "Remark 2.1 (About the testing rate ρ) The parameter ρ indicates the proportion of the population presenting either mild or no symptoms that is tested daily. It can also be thought as the inverse of the mean duration that an infected person passes without being tested. For instance, if the system manages to detect, each day, 5% of the asymptomatic infections, then ρ = 0.05. If we are in an ideal \"trace and test\" situation (see e.g. South Korea [13] ), in which for each confirmed infection, his/her recent contacts are rapidly and efficiently traced and tested, then ρ will be greater and this will have an impact in the basic reproduction number (see Section 3).\n",
      "______________________________________________\n",
      "Figure 2: Model diagram\n",
      "Recalling that testing is supposed to be applied, at least, to all sufficiently symptomatic cases, we add a counter for the positive tests T (t) until time t, which evolves according to the equatioṅ\n",
      "______________________________________________\n",
      "Figure 2: Model diagram\n",
      "Having this quantity, one can estimate the total number of tests in each territory using the testing positive rate of that location, which is the ratio between reported cases and tests done [29, 45] .\n",
      "______________________________________________\n",
      "Figure 2: Model diagram\n",
      "Remark 2.2 (About symptoms and quarantine) In our framework, we assume that all cases with sufficiently severe symptoms are (tested and) quarantined, and we set the parameter α ∈ (0, 1) to be the fraction of asymptomatic cases, including the cases with mild symptoms. But we can adapt our model to a scenario in which even severe symptoms are not tested until critical. In this case, with a very large value for α, only a small portion among the symptomatic individuals enters directly to Q, while the others need to be tested (according to the sampling testing ρ among the population) to be quarantined.\n",
      "______________________________________________\n",
      "Figure 2: Model diagram\n",
      "System (1) is endowed with the set of initial conditions given by the vector\n",
      "______________________________________________\n",
      "Figure 2: Model diagram\n",
      "with components in the interval [0, 1]. Setting\n",
      "______________________________________________\n",
      "Figure 2: Model diagram\n",
      "the cube of states with entries between 0 and 1, it is easy to check that C 1 is invariant under the flow of system (1), that is, given an initial condition X 0 ∈ C 1 , the solution X(t) to (1)-(3) remains in C 1 for all t > 0.\n",
      "______________________________________________\n",
      "Remark 2.3 (Possible extensions of the model)\n",
      "We collect here some variations of model (1) that can be formulated in the same framework considered in this paper.\n",
      "______________________________________________\n",
      "Remark 2.3 (Possible extensions of the model)\n",
      "1. One might consider a small but not negligible contact rate between susceptible individuals and people in the compartment Q, accounting for infections (mainly of medicals and paramedicals) occurred during hospitalization of an infected individual, or for individuals tested positive in enforced quarantine at home, which do not comply strictly to the isolation procedures and end up infecting relatives or other contacts. In this case, the equations for the evolution of the susceptible compartments shall be completed with additional terms involving ε in the following way:Ṡ\n",
      "______________________________________________\n",
      "Remark 2.3 (Possible extensions of the model)\n",
      "and the same terms with opposite sign shall appear in the equation corresponding toQ.\n",
      "______________________________________________\n",
      "Remark 2.3 (Possible extensions of the model)\n",
      "2. At the current stage, it is still not clear how long the immunity of a recovered individual lasts, with a number of findings tending towards a rather long immunization period [1, 38, 41] . For this reason, in (1) we assume that a recovered individual will remain immune over the time framework considered in the different scenarios. However, the model can easily describe the case of recovered individuals becoming susceptible again, by adding a transfer term from the compartment R to S f and S r , with a coefficient depending on the inverse of the average immunization period. Similarly, the model can include the case of reactivation of the virus in an individual previously declared recovered (and not newly exposed to the virus), by inserting a transfer term from the compartment R into I f and I r , with appropriate coefficients depending on the probability of the reactivation of the virus and on the inverse of the average time of reactivation. However, at the moment there are not strong evidences supporting such possibility [38] .\n",
      "______________________________________________\n",
      "Remark 2.3 (Possible extensions of the model)\n",
      "3. A crucial issue while coping with the outbreak of the epidemic, which leads to the so-called urge of flattening the curve, is whether the number of critical cases in need of intensive care (IC) treatment (due to respiratory failure, shock, and multiple organ dysfunction or failure) would saturate the number of available intensive care units (ICUs). This parameter can be estimated directly from model (1), considering for each country the number of available ICUs and the percentage of positive confirmed cases requiring IC treatment. For example, this percentage has been estimated to be about 6% for China [4] , and up to 12% for Italy [12, 35] . As an alternative, it would be possible to insert a further compartment C in model (1) counting the number of the individuals needing ICU treatment, by modifying the equations corresponding to the compartments Q and D as follows:\n",
      "______________________________________________\n",
      "Remark 2.3 (Possible extensions of the model)\n",
      "with suitable coefficients τ c , µ c and γ c denoting the inverse of the time from symptoms onset to critical symptoms, the mortality of critical cases, and the recovery rate for critical cases, respectively.\n",
      "______________________________________________\n",
      "Remark 2.3 (Possible extensions of the model)\n",
      "4. In this paper we have considered the whole population as a fixed number of individuals during the time period of the evolution. It is of course possible to consider the case of an evolving total population, by including in the model (1) the natural birth and mortality rate. In particular, newborns of susceptible individuals shall enter the corresponding susceptible compartment, whereas it is not clear whether the offspring of an infectious individual would be infectious, in such case the newborn shall move directly to the compartment I. On the other hand, the natural mortality rate shall act on each compartment of system (1), as well as on R in system (2).\n",
      "______________________________________________\n",
      "Remark 2.3 (Possible extensions of the model)\n",
      "3 The basic reproduction number for model (1) We are interested in determining the basic reproduction number R 0 associated with system (1). To do this, we assume to fix a time interval [t 0 , t 1 ] such that the coefficients β(t), r(t) and ρ(t) are constant over [t 0 , t 1 ]. This is coherent with the setting of the scenarios simulated in Section 4.2, where we assume such coefficients to be piecewise constant functions, sharing the same switching times, that represent different phases of restrictions and policies. Thus, according to the calculations given in the Appendix A.1 and the parameters in Tables 2 and 3 , we obtain that the value of R 0 for each time interval between two consecutive switching times is given by\n",
      "______________________________________________\n",
      "Remark 2.3 (Possible extensions of the model)\n",
      "From this explicit formula for the reproduction number R 0 , we can highlight the qualitative dependence of R 0 on each parameter of the system, in particular:\n",
      "______________________________________________\n",
      "Remark 2.3 (Possible extensions of the model)\n",
      "-If the effective contact rate β increases, then R 0 increases.\n",
      "______________________________________________\n",
      "Remark 2.3 (Possible extensions of the model)\n",
      "-Focusing on the coefficient 1 − (1 − r 2 )p, we realize that closer is p to 1, and smaller is r, that is, as larger is the portion of population in r-isolation and as stricter is the reduction factor r in its contact rate, lower R 0 becomes.\n",
      "______________________________________________\n",
      "Remark 2.3 (Possible extensions of the model)\n",
      "-If α increases, that is, if there is a larger proportion of asymptomatic infectious individuals, then R 0 increases.\n",
      "______________________________________________\n",
      "Remark 2.3 (Possible extensions of the model)\n",
      "-If σ increases, corresponding to shorter onset time, then R 0 decreases.\n",
      "______________________________________________\n",
      "Remark 2.3 (Possible extensions of the model)\n",
      "-If either ρ or γ 1 increase, i.e., either the control action by testing is strengthened, for example through an improved tracing and tracking system, or the recovery rate improves, for example, because of new and more effective treatments, then R 0 decreases.\n",
      "______________________________________________\n",
      "Remark 2.3 (Possible extensions of the model)\n",
      "-If δ increases, for example, as a result of improved testing kits able to detect the infection at an earlier stage, then R 0 decreases.\n",
      "______________________________________________\n",
      "Remark 2.3 (Possible extensions of the model)\n",
      "Moreover, we can characterize the crucial condition R 0 ≤ 1 by means of a simpler expression than (4), as described in the next result.\n",
      "______________________________________________\n",
      "Proposition 3.1 (Alternative threshold) Set\n",
      "Then R 0 is smaller than (respectively, equal to or greater than) 1 if and only if the same relation holds for T 0 . In particular, if ϕ > 1 (see (5)), then R 0 > 1 and T 0 > 1.\n",
      "______________________________________________\n",
      "Proposition 3.1 (Alternative threshold) Set\n",
      "We postpone the proof of Proposition 3.1 to the Appendix A.2. A more quantitative analysis of the dependence of the threshold T 0 on the parameters of the model is developed in the Appendix A.3.\n",
      "______________________________________________\n",
      "Remark 3.2 (About no testing among asymptomatic carriers)\n",
      "If we consider the case of ρ = 0, that is, the situation without sample testing among the asymptomatic population, then the basic reproduction number R 0 is independent of the latent time τ . In particular, T 0 becomes (4) gives an expression of R 0 , that is the reproduction number in a totally susceptible population. As the epidemic evolves, a portion of the population becomes immune to the disease, and this makes the reproduction number decrease. More precisely, when p = 0 and all the population has the same contact rate, the time-dependent reproduction number is given by R(t) = S(t)R 0 , where S(t) is the susceptible portion of the population. In our model, since the groups of active individuals and in r-isolation evolve differently (see Scenario A 4 and Figure 4 below), the time-dependent reproduction number R(t) is given by the formula (4) where ϕ in (5) is\n",
      "______________________________________________\n",
      "Remark 3.3 (On the time-dependent reproduction number) Relation\n",
      "We do not take into account this time-variation of the reproduction number in our numerical results, since we are only interested in the value of the reproduction number at the beginning of each phase, where S(t) is close to 1.\n",
      "______________________________________________\n",
      "Remark 3.3 (On the time-dependent reproduction number) Relation\n",
      "Remark 3.4 (On herd immunity) Herd immunity is defined as the proportion of the population that needs to be immunized in order to naturally slow down the spread of the disease. It depends on the value of the basic reproduction number in the following way: herd immunity level equals 1 − 1 R 0 .\n",
      "______________________________________________\n",
      "Remark 3.3 (On the time-dependent reproduction number) Relation\n",
      "So the bigger R 0 , the higher the herd immunity. In connection with above Remark 3.3, we highlight that herd immunity is achieved at the time t when R(t) equals 1.\n",
      "______________________________________________\n",
      "Numerical simulations 4.1 Retrieving parameters\n",
      "In Table 5 we collect some parameter values estimated in the literature, in order to do realistic simulations. Recall the description of the parameters given in Tables 2-3 . Table 5 follow.\n",
      "______________________________________________\n",
      "Numerical simulations 4.1 Retrieving parameters\n",
      "1. The parameter β strongly depends on the population behaviour. We take the value of β from [36] , where they calibrated an SEIR model with isolation and estimated the transmission rate β, before lockdown, to be 0.7676 (with a 95% confidence interval (0.7403, 0.7949)).\n",
      "______________________________________________\n",
      "Numerical simulations 4.1 Retrieving parameters\n",
      "2. The mean duration of the latent period can be computed using the estimates for the incubation period (i.e. from exposure to symptom onset) and the time from infectiousness onset to symptom onset, so it is reasonable to take τ −1 between 2 and 4 days. More precisely, in [20] they fitted an SEIQR model to the data from Wuhan and estimated a latent period of duration 2.92 days with a 95% CI of (1.09, 5.28).\n",
      "______________________________________________\n",
      "Numerical simulations 4.1 Retrieving parameters\n",
      "3. In [5] they show the testing results on Diamond Princess passengers, a cruise ship that was quarantined in February-March 2020, at the beginning of the epidemic. Almost all passengers and crew members were tested, resulting in 410 asymptomatic infections among 696 positive-tested persons, which yields an asymptotic rate of 0.589. In [19] , they studied the infection in the municipality of Vo', Italy. They estimated a median of asymptomatic cases of 44.8%. with a 95% CI of (26.5,64.3). Other estimates were given in [6, 22, 25] . 4 . In [49] , they measured time from infectiousness onset to appearance of symptoms. It resulted in approximate 1 day for fever and 1-3 days for cough. Furthermore, it has been observed in clinical cases studied in [43] that the contagious period may start before the appearance of symptoms, and outlast the symptoms end.\n",
      "______________________________________________\n",
      "Numerical simulations 4.1 Retrieving parameters\n",
      "5. The reference [2] estimates θ to be 6.4 based on travellers returning from Wuhan. In [18] it was estimated to be 5.1 days. Other estimates were given in [20] .\n",
      "______________________________________________\n",
      "Numerical simulations 4.1 Retrieving parameters\n",
      "6. The estimate of γ1 is difficult, since for asymptomatic cases is hard to observe and track the time from exposure to recovery.\n",
      "______________________________________________\n",
      "Numerical simulations 4.1 Retrieving parameters\n",
      "[16] estimated 9.5 days for asymptomatic cases, while [4] estimated 14 days for mild cases. So it is reasonable to assume γ1 in the range 7.5 -12, considering around 2 days between infectiousness onset and symptoms onset. 7 . In [49] they measured viral shedding duration, and estimated a median of 20 days, with an interquartile range of (17, 24) . Removing the approximately 2-day period from infectiousness onset to symptoms onset, we get an IQR for γ −1 2 of (15, 22) . These values approximate the duration of quarantine recommended to positive-tested cases.\n",
      "______________________________________________\n",
      "Numerical simulations 4.1 Retrieving parameters\n",
      "8. The rate µ depends on the percentage of infections that have been detected, since it is proportional to the ratio between confirmed cases and deaths. WHO Director-General's opening remarks at the media briefing of 3 March 2020 [33] announced an estimated global death rate of 3.4%. In some countries, like Italy, the ratio between deaths and confirmed cases up to May 2020 is larger that 0.1, while in others, like Israel, it is around 0.01. Regarding the time a person takes to die from COVID-19, in [49] they estimated 18.5 days from infectiousness onset to death. 9 . The values of p and r vary in each country/territory depending on the public policies and the population's compliance to these measures. A detailed and real-time survey on the percentage of people under lockdown in each country can be found in [14] . 10 . As already mentioned in Remark 2.1, ρ represents the proportion of the infected asymptomatic population that is tested daily. In a realistic scenario, it would not be reasonable to set a too high value of ρ, let us say, over 0.5, because it would account for detecting more than 50% of the infected asymptomatic population daily.\n",
      "______________________________________________\n",
      "Numerical simulations 4.1 Retrieving parameters\n",
      "11. It is not yet know \"at what point during the course of illness a test becomes positive\" (see [15] ). For the simulations we set δ to 1 and suppose that the tests detect the infection from exposure.\n",
      "______________________________________________\n",
      "Simulations for different scenarios\n",
      "In this subsection we consider several scenarios and show their outcomes. Many of the graphics are in logarithmic scale, given that the values represent portions of the population, and then can assume very small values.\n",
      "______________________________________________\n",
      "Scenarios A\n",
      "We consider the four different scenarios with the following characteristics: These Scenarios A can be seen as: no action, mild lockdown, strict lockdown and strict lockdown with testing among asymptomatic suspected cases. As initial condition we take, in all the scenarios, one exposed case per million inhabitant, this is:\n",
      "______________________________________________\n",
      "Scenarios A\n",
      "The remainder of the compartments start with value 0. Results and parameters for Scenario A are given in Table 6 and graphics in Figure 3 . We can observe the effect of the lockdown on the epidemic. The mild lockdown of A 2 reduces more than half of the infections w.r.t. the no action situation A 1 , while the strict lockdowns A 3 and A 4 induce a reduction of the order of 10 −2 in total recovered, deaths and positive tests. In particular, comparing A 3 and A 4 we can see that testing and consequent quarantine for positive-tested asymptomatic cases not only reduces the infections and deaths more than 66%, but also the duration of the epidemic.\n",
      "______________________________________________\n",
      "Scenarios A\n",
      "Remark 4.1 (About Scenario A 2 ) United States had 15 confirmed infections by February 15th 2020 [44] . Many states started their lockdown between March 15th and March 20th, which put around 60% of the population in isolation [14] . We can assume that day 0 is February 15th, then day 31 would be in the middle point of the interval when lockdowns started. Day 80 (May 6th) US had 72,287 confirmed deaths, while in Scenario A 2 gives 91,231, that is larger but not far. Scenario A 2 could be a good approximation of the situation in the US until the beginning of May 2020, and the excess in the computed deaths in comparison to real data suggests that deaths could be underreported by 26%, which is coherent with some recent studies on underreported deaths (see e.g. [47] ). For Scenario A 4 we make a comparison of infections for the two groups: the active one (that continues with the usual contact rate) and the one in r-isolation. By comparing the infections' curves and the cumulative infections, we can give an estimate on the lower chance that people in r-isolation have to get exposed. In this particular scenario, people that are not in isolation have nearly 6 times more chance to be infected. See the graphs in Figure 3 , were we show the curves of infections and cumulative infections for each group, normalized by the proportions 1 − p, p. We measure the outcomes. The parameters and results are given in Table 7 , and graphics in Figure 5 . The parameters that are not specified in Table 7 , are repeated from Table 6 . For these four scenarios we consider the same testing rate ρ among asymptomatic cases.\n",
      "______________________________________________\n",
      "Scenarios A\n",
      "Par. Scenarios B 1 and B 2 show cases in which the restrictions are not strong enough. Indeed, in both cases the basic reproduction number R 0 remains above 1 also after the lockdown intervention (see Table 7 ), and the infection reaches 71.6% and 43.6% of the population, causing the death of 1.89% and 1.15% of the population, respectively, which is a catastrophic outcome. Comparing these four scenarios, we shall deduce that, in order to be effective in containing the outbreak, the lockdown shall address at least 80% of the population reducing their contact rate to about 30% of their usual contacts. Indeed, in the scenario B 3 , the basic reproduction number becomes 0.93 after day 35, meaning that loosening the restrictions of this scenario (while keeping all other parameters unchanged) might turn the R 0 above 1.\n",
      "______________________________________________\n",
      "Scenarios C: early vs. late lockdown\n",
      "We now compare two situations, one in which lockdown starts immediately, just 21 days after the first confirmed cases, and the other for which lockdown starts four weeks later. More precisely, we consider the following two scenarios and measure the different outputs:\n",
      "______________________________________________\n",
      "Scenarios C: early vs. late lockdown\n",
      "Scenario C 1 : 20%-isolation of 90% of the population from day 21 Scenario C 2 : 20%-isolation of 90% of the population from day 49 The parameters and outputs are given in Table 8 and Figure 6 . It is evident the impact of delaying the beginning of lockdown on the final outcome: the numbers of recovered and deaths in the Scenario C 2 are of the order of 10 3 times those of the Scenario C 1 . As an example, from Table 8 one notice that, at the end of the epidemic, the Scenario C 1 counts 4.2 deaths per million inhabitants, while the Scenario C 2 faces 1020 deaths per million. Moreover, the epidemic in Scenario C 2 lasts about 110 days more than in Scenario C 1 , thus also undergoes worst economic consequences of the lockdown. \n",
      "______________________________________________\n",
      "Scenarios D: early testing vs. late testing\n",
      "We now want to asses the impact of testing timing. For this, we consider the following two scenarios and measure the different outputs:\n",
      "______________________________________________\n",
      "Scenarios D: early testing vs. late testing\n",
      "Scenario D 1 : 20%-isolation of 80% of the population from day 50, efficient testing before day 50, reduced testing after Scenario D 2 : 20%-isolation of 80% of the population from day 50, few testing before day 50, massive testing after\n",
      "______________________________________________\n",
      "Scenarios D: early testing vs. late testing\n",
      "The parameter values and outcomes of the epidemic in Scenarios D 1 and D 2 are given in Table 9 and figures in Figure 7 . It can be seen the cost in infection and lives it has to start testing late. It is worth noticing that, in spite of a higher total number of tests carried out in the Scenario D 2 , the strategy adopted in the Scenario D 1 attains a considerably better outcome: indeed, the infections and deaths of Scenario D 2 are of the order of 10 2 w.r.t. the ones in Scenario D 1 , and the only difference was doing efficient testing at the beginning of the epidemic. \n",
      "______________________________________________\n",
      "Scenarios E: different testing rates\n",
      "Now we fix the parameters β, µ, p, r as in Table 9 and we vary only ρ to take the four different values 0, 0.02, 0.05 and 0.1 over the whole time period. We get the outcome of Figure 8 . From the comparison among these four scenarios, we realize that a high value of ρ, as the result of an efficient tracing and testing strategy, may reduce the number of cumulative infected individuals and deaths of an order of 10 2 . The simulations were done with Python and all the codes are in the GitHub repository github.com/lucasmoschen/covid-19-model.\n",
      "______________________________________________\n",
      "Conclusions\n",
      "In the paper we present an SEIR model with Asymptomatic and Quarantined compartments to describe the recent and ongoing COVID-19 outbreak. Our model is intended to highlight the strength of three different non-pharmaceutical interventions imposed by public policies in containing the outbreak and the total number of disease-induced infections and deaths:\n",
      "______________________________________________\n",
      "Conclusions\n",
      "-reduction of contact rate for a given portion of the population; -enforced quarantine for confirmed infectious individuals; -testing among the population to detect also asymptomatic infectious individuals.\n",
      "______________________________________________\n",
      "Conclusions\n",
      "On one hand we show that, as expected, each of these interventions has a beneficial impact on flattening the curve of the outbreak. On the other hand, the comparison among different scenarios shows the remarkable efficacy of an early massive testing approach, when the limited number of infected individuals makes easier and more effective the tracing of recent contacts of the individual, as in Scenario D 1 , and of a timely lockdown, although in the presence of few confirmed infected cases, as in Scenario C 1 . In both situations, the timing of the intervention plays a crucial role on the incisiveness of the public safety policy.\n",
      "______________________________________________\n",
      "Conclusions\n",
      "In addition, we give an explicit representation of the basic reproduction number in terms of the several parameters of the model, which allows to describe its dependence on the features of the virus and on the implemented non-pharmaceutical interventions.\n",
      "______________________________________________\n",
      "Conclusions\n",
      "This description makes available a valuable tool to tune the public policies in order to control the outbreak of the epidemic, forcing R 0 below the threshold 1. However, considering the major effects of an enduring lockdown on the economy of the country that applies it, it is desirable to loosen the lockdown measures after the containment of the outbreak. Nevertheless, the decision makers and each individual shall be aware that a value of R 0 only barely greater than 1 would lead to an increase in the number of infected and dead by an order 2 of magnitude, thus provoking the collapse of the relative national health system. This is better explained by the following scenarios: consider a situation with constant testing ρ = 0.05 and no lockdown where, after the first 35 days of outbreak with a high R 0 (≈ 2), the population gains awareness of the risk and manage to reduce its contact rate so as to steer R 0 to either 0.9, 1 or 1.1. Figure 9 illustrates the large deviations among the outcome of these three different situations.\n",
      "______________________________________________\n",
      "Conclusions\n",
      "In order to allow the population to circulate with no restrictions, it is necessary that herd immunity (see Remark 3.4) is achieved. The value that matters to compute this threshold of immunization is the basic reproduction number under no social distancing, which has been estimated in this article and in many others as being, in general, greater than 2.5. So achieving herd immunity would imply to infect at least 60% of the population, which would lead, with the current mortality rates, to 1-5% of the population dying, which is, obviously, a catastrophic unwanted situation. Hence, reinforcing what was said in the above paragraph, until a vaccine or treatment is not found, it is necessary to maintain the value of R 0 below 1. Otherwise, the curve of infections will always be increasing.\n",
      "______________________________________________\n",
      "A Appendix\n",
      "A.1 Computing R 0\n",
      "______________________________________________\n",
      "A Appendix\n",
      "Recalling the model (1), we are able to give an analytic expression of the basic reproduction number R 0 associated to the system.\n",
      "______________________________________________\n",
      "A Appendix\n",
      "In order to do so, we assume to fix a time interval [t 0 , t 1 ] such that the coefficients β(t), r(t) and ρ(t) are constant over [t 0 , t 1 ]. This is coherent with the setting of the Section 4, where we assume such coefficients to be piecewise constant functions, sharing the same switching times. Thus, the following procedure allows to evaluate the value of R 0 for each time interval between two consecutive switching times.\n",
      "______________________________________________\n",
      "A Appendix\n",
      "It is well known that the reproduction number R 0 is the crucial parameter to establish whether Disease Free Equilibria (DFE) are stable or not [7, 40] . We denote by X s the set of DFE, which is given by\n",
      "______________________________________________\n",
      "A Appendix\n",
      "We can recast system (1) in the compact forṁ\n",
      "______________________________________________\n",
      "A Appendix\n",
      "by introducing\n",
      "______________________________________________\n",
      "A Appendix\n",
      "The stability of (6) around a DFE X * is related to the spectral properties of the linearized system around X * , whose dynamics is ruled by the Jacobian Df = (∂f i /∂x j ) i,j=1,...,9 of f . However, the high dimensionality of Df (X) makes it difficult to develop an analytical analysis of its spectrum and its stability properties. We will therefore follow a different approach, deducing the value of R 0 from the result in [40] , which ensures that R 0 is given by the formula R 0 = ρ(F V −1 ), where ρ(A) denotes the spectral radius of the matrix A. A comment on the applicability of the results in [40] is given in Remark A.1 below.\n",
      "______________________________________________\n",
      "A Appendix\n",
      "Since X * is a DFE, we may assume that X * = (0, 0, 0, 0, 0, 0, 0, 1 − p, p), for some p ∈ [0, 1] representing the portion of population that is initially in the compartment S r , while the remaining 1 − p fraction of the population is in S f . Thus, in our setting, the matrices F and V related to the dynamics (6) are given by\n",
      "______________________________________________\n",
      "A Appendix\n",
      "Since V is non-singular, we compute Thus, one can easily compute the matrix F V −1 and check that its characteristic polynomial is given by p(λ) = −λ 5 P 2 (λ) ,\n",
      "______________________________________________\n",
      "A Appendix\n",
      "where P 2 (λ) is a second order polynomial of the form P 2 (λ) = λ 2 − βτ (1 − p + r 2 p) (ρδ + τ )(σ + ρ) λ − σατ β(1 − p + r 2 p) (ρ + σ)(ρδ + τ )(ρ + γ 1 ) . P 2 (λ) has one positive and one negative root, given by λ 1/2 = 1 2 βτ (1 − p + r 2 p) (ρδ + τ )(σ + ρ) ± √ ∆ , with ∆ = βτ (1 − p + r 2 p) (ρδ + τ )(σ + ρ) 2 + 4σατ β(1 − p + r 2 p) (ρ + σ)(ρδ + τ )(ρ + γ 1 ) > 0 .\n",
      "______________________________________________\n",
      "A Appendix\n",
      "Since the term βτ (1−p+r 2 p) (ρδ+τ )(σ+ρ) is positive, the value of R 0 coincides with λ 1 , i.e.,\n",
      "______________________________________________\n",
      "A Appendix\n",
      "This is an analytic expression of R 0 , which shows its explicit dependence on the different parameters of model (1). Proposition 3.1 gives a convenient equivalent condition to ensure the stability of DFE.\n",
      "______________________________________________\n",
      "A Appendix\n",
      "Remark A.1 In order to directly apply the results in [40] , it is required that the eigenvalues of Df (X * ) have negative values and, under this assumption, the asymptotic stability of the DFE is established. In our case, the matrix Df (X * ) has zero as an eigenvalue of double multiplicity, with associated eigenvectors in the directions of the last two variables, these being S f and S r . It is not hard to see that the results in [40] hold for our system by simply modifying asymptotic stability to stability in the directions of the susceptible compartments, which has no consequence in the meaning of the threshold R 0 . Alternatively, a way to force the system to comply all the technical assumptions from [40] is adding birth and natural mortality to our model, which has no relevant impact in the results we showed (since the natural daily birth/death rates are of the order of 10 −5 , hence negligible w.r.t. the other parameters).\n",
      "______________________________________________\n",
      "A.2 Proof of Proposition 3.1\n",
      "We remind that Proposition 3.1 claims the following: for ϕ = βτ [1 − (1 − r 2 )p] (ρδ + τ )(σ + ρ) and T 0 = ϕ 1 + σα ρ + γ 1 , R 0 is smaller than (respectively, equal to or greater than) 1 if and only if the same relation holds for T 0 . Indeed, by a straightforward computation we realize that\n",
      "______________________________________________\n",
      "A.2 Proof of Proposition 3.1\n",
      "Observe that the implication ⇐= in the equivalence * ⇐⇒ holds true because\n",
      "______________________________________________\n",
      "A.2 Proof of Proposition 3.1\n",
      "thus |2 − ϕ| = 2 − ϕ. In particular, the same chain of relations holds with the equal sign. Finally, since R 0 ≤ 1 is equivalent to T 0 ≤ 1, then also R 0 > 1 is equivalent to T 0 > 1. In addition, let us notice that, if ϕ > 1, then both R 0 > 1 and T 0 > 1. Indeed, from the definition of T 0 , since σα ρ+γ 1 ≥ 0, we have that T 0 ≥ ϕ > 1, and thus also R 0 > 1.\n",
      "______________________________________________\n",
      "A.2 Proof of Proposition 3.1\n",
      "A.3 Sensitivity analysis of the threshold T 0\n",
      "______________________________________________\n",
      "A.2 Proof of Proposition 3.1\n",
      "The explicit representation (7) of the basic reproduction number R 0 allows to study the sensitivity of R 0 with respect to the several parameters of the model (1) . Moreover, thanks to Proposition 3.1, we know that the threshold T 0 = βτ [1 − (1 − r 2 )p] (ρδ + τ )(σ + ρ) 1 + σα ρ + γ 1 can be used for an equivalent characterization of the condition R 0 < 1. For this reason, it is handier to develop the sensitivity of T 0 with respect to the parameters of the model, and deduce its dependence on perturbations of the parameters. We thus compute the normalized sensitivity index S x corresponding to the x parameter, given by\n",
      "______________________________________________\n",
      "A.2 Proof of Proposition 3.1\n",
      "and we get that\n",
      "______________________________________________\n",
      "A.2 Proof of Proposition 3.1\n",
      "S α = σα ρ + γ 1 + σα > 0 , S γ 1 = − σαγ 1 (ρ + γ 1 )(ρ + γ 1 + σα) < 0 , S σ = − σ[γ 1 + (1 − α)ρ] (σ + ρ)(ρ + γ 1 + σα) < 0 , S ρ = − ρ ρ + γ 1 + σα [δ(σ + 2ρ) + τ ](ρ + γ 1 + σα) (ρδ + τ )(σ + ρ) + σα ρ + γ 1 < 0 .\n",
      "______________________________________________\n"
     ]
    }
   ],
   "source": [
    "# Body data\n",
    "# print(json_data['body_text'])\n",
    "for body_text in json_data['body_text']:\n",
    "    print(body_text['section'])\n",
    "    print(body_text['text'])\n",
    "    print('______________________________________________')"
   ]
  },
  {
   "cell_type": "markdown",
   "metadata": {},
   "source": [
    "## 2.4. Obtaining all body text data and save it into a dataframe\n",
    "Note: Some rows references to multiple files within the pdf_json_files. Split by ;. For simplicity we will take the first json file\n",
    "First, grab all the distinct json files from the scoped categorised_literature\n",
    "Then, loop through the files and extract language data from the Json files"
   ]
  },
  {
   "cell_type": "code",
   "execution_count": 45,
   "metadata": {},
   "outputs": [
    {
     "name": "stderr",
     "output_type": "stream",
     "text": [
      "400it [00:00, 16390.08it/s]"
     ]
    },
    {
     "name": "stdout",
     "output_type": "stream",
     "text": [
      "145\n"
     ]
    },
    {
     "name": "stderr",
     "output_type": "stream",
     "text": [
      "\n"
     ]
    }
   ],
   "source": [
    "# obtaining the distinct list of pdf_json_data\n",
    "# using set allows us to get distinct values and is more efficient\n",
    "json_path_list = set();\n",
    "for index, row in tqdm(scoped_categorised_literature.iterrows()):\n",
    "    for json_path in row['pdf_json_files'].split(';'):\n",
    "        #Using the strip function because there are spacings after splitting\n",
    "        json_path_list.add(json_path.strip())\n",
    "print(len(json_path_list))"
   ]
  },
  {
   "cell_type": "code",
   "execution_count": 46,
   "metadata": {},
   "outputs": [
    {
     "name": "stderr",
     "output_type": "stream",
     "text": [
      "100%|██████████████████████████████████████████████████████████████████████████████| 145/145 [00:00<00:00, 1906.14it/s]\n"
     ]
    }
   ],
   "source": [
    "extract_json_path_list = []\n",
    "extract_text_list = []\n",
    "extract_section_list = []\n",
    "extract_id_list = []\n",
    "extract_id = 1\n",
    "for json_path in tqdm(list(json_path_list)):\n",
    "    abstract = ''\n",
    "    with open(data_path + json_path) as f:\n",
    "      json_data = json.load(f)\n",
    "    # Extracting abstract from every literature\n",
    "    for abstract_text in json_data['abstract']:\n",
    "        abstract = abstract + abstract_text['text']\n",
    "    extract_text_list.append(abstract)\n",
    "    extract_section_list.append('abstract')\n",
    "    extract_json_path_list.append(json_path)\n",
    "    extract_id_list.append(extract_id)\n",
    "    extract_id = extract_id + 1\n",
    "    # Extracting body text from every literature\n",
    "    for body_text in json_data['body_text']:\n",
    "        extract_section_list.append(body_text['section'])\n",
    "        extract_text_list.append(body_text['text']) \n",
    "        extract_json_path_list.append(json_path)\n",
    "        extract_id_list.append(extract_id)\n",
    "        extract_id = extract_id + 1"
   ]
  },
  {
   "cell_type": "code",
   "execution_count": 47,
   "metadata": {},
   "outputs": [
    {
     "name": "stdout",
     "output_type": "stream",
     "text": [
      "6496 6496 6496 6496\n"
     ]
    }
   ],
   "source": [
    "# Dimentional Check\n",
    "print(len(extract_json_path_list), len(extract_text_list), len(extract_section_list), len(extract_id_list))"
   ]
  },
  {
   "cell_type": "code",
   "execution_count": 48,
   "metadata": {},
   "outputs": [
    {
     "name": "stdout",
     "output_type": "stream",
     "text": [
      "      extract_id                                          json_path  \\\n",
      "0              1  document_parses/pdf_json/1715bd1d4f1bef50cdb5a...   \n",
      "1              2  document_parses/pdf_json/1715bd1d4f1bef50cdb5a...   \n",
      "2              3  document_parses/pdf_json/1715bd1d4f1bef50cdb5a...   \n",
      "3              4  document_parses/pdf_json/1715bd1d4f1bef50cdb5a...   \n",
      "4              5  document_parses/pdf_json/1715bd1d4f1bef50cdb5a...   \n",
      "...          ...                                                ...   \n",
      "6491        6492  document_parses/pdf_json/9f7d6699b9e91fe5b81a3...   \n",
      "6492        6493  document_parses/pdf_json/9f7d6699b9e91fe5b81a3...   \n",
      "6493        6494  document_parses/pdf_json/9f7d6699b9e91fe5b81a3...   \n",
      "6494        6495  document_parses/pdf_json/9f7d6699b9e91fe5b81a3...   \n",
      "6495        6496  document_parses/pdf_json/9f7d6699b9e91fe5b81a3...   \n",
      "\n",
      "                                 section  \\\n",
      "0                               abstract   \n",
      "1                           Introduction   \n",
      "2                             Prevalence   \n",
      "3     Mode of evolution and transmission   \n",
      "4     Mode of evolution and transmission   \n",
      "...                                  ...   \n",
      "6491                          Discussion   \n",
      "6492                          Discussion   \n",
      "6493               Conflicts of interest   \n",
      "6494                          References   \n",
      "6495                          References   \n",
      "\n",
      "                                                   text  \n",
      "0     COVID-19 has now been declared a pandemic. To ...  \n",
      "1     Severe acute respiratory syndrome coronavirus ...  \n",
      "2     Now labelled a pandemic (5) , COVID-19 has aff...  \n",
      "3     To facilitate the characterisation of SARS-CoV...  \n",
      "4     A study looking into the first 425 confirmed c...  \n",
      "...                                                 ...  \n",
      "6491  The study period − and hence time series lengt...  \n",
      "6492  In conclusion, meteorological factors influenc...  \n",
      "6493  We declare that we have no conflicts of intere...  \n",
      "6494  (which was not certified by peer review) is th...  \n",
      "6495  The copyright holder for this preprint this ve...  \n",
      "\n",
      "[6496 rows x 4 columns]\n"
     ]
    }
   ],
   "source": [
    "extracted_literature_data = pd.DataFrame(zip(extract_id_list, extract_json_path_list, extract_section_list, extract_text_list), columns = ['extract_id', 'json_path','section','text'])\n",
    "print(extracted_literature_data)"
   ]
  },
  {
   "cell_type": "markdown",
   "metadata": {},
   "source": [
    "## 2.5. Extract Segmentated Literature data into Pickle Data"
   ]
  },
  {
   "cell_type": "code",
   "execution_count": 49,
   "metadata": {},
   "outputs": [],
   "source": [
    "extracted_literature_data.to_pickle(\"./2_extracted_literature_data.pkl\")"
   ]
  },
  {
   "cell_type": "code",
   "execution_count": null,
   "metadata": {},
   "outputs": [],
   "source": []
  }
 ],
 "metadata": {
  "kernelspec": {
   "display_name": "Python 3",
   "language": "python",
   "name": "python3"
  },
  "language_info": {
   "codemirror_mode": {
    "name": "ipython",
    "version": 3
   },
   "file_extension": ".py",
   "mimetype": "text/x-python",
   "name": "python",
   "nbconvert_exporter": "python",
   "pygments_lexer": "ipython3",
   "version": "3.7.6"
  }
 },
 "nbformat": 4,
 "nbformat_minor": 4
}
